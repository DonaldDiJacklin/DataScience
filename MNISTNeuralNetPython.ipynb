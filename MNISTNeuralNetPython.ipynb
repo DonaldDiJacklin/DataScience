{
 "cells": [
  {
   "cell_type": "code",
   "execution_count": 1,
   "metadata": {},
   "outputs": [],
   "source": [
    "import numpy as np\n",
    "import matplotlib.pyplot as plt\n",
    "import pandas as pd\n",
    "from MyML import *"
   ]
  },
  {
   "cell_type": "code",
   "execution_count": 2,
   "metadata": {},
   "outputs": [
    {
     "name": "stderr",
     "output_type": "stream",
     "text": [
      "/home/donald/anaconda3/lib/python3.7/site-packages/ipykernel_launcher.py:1: FutureWarning: Method .as_matrix will be removed in a future version. Use .values instead.\n",
      "  \"\"\"Entry point for launching an IPython kernel.\n"
     ]
    }
   ],
   "source": [
    "data = pd.read_csv('fashion-mnist_train.csv').as_matrix()"
   ]
  },
  {
   "cell_type": "code",
   "execution_count": 3,
   "metadata": {},
   "outputs": [],
   "source": [
    "def oneHotEncode(matrix, columns):\n",
    "    for column in columns:\n",
    "        uniques = np.unique(matrix[:,column])\n",
    "        newmat = np.zeros((len(matrix[:,column]),len(uniques)))\n",
    "\n",
    "        for i in range(0,len(matrix[:,column])):\n",
    "            for j in range(0,len(uniques)):\n",
    "                if(matrix[i,column] == uniques[j]):\n",
    "                    newmat[i,j] = 1\n",
    "        matrix = np.column_stack((matrix,newmat))\n",
    "    try:\n",
    "        matrix = np.delete(matrix,columns,axis = 1).astype(float)\n",
    "    except:\n",
    "        matrix = np.delete(matrix,columns,axis = 1)\n",
    "    return matrix\n",
    "newdata = oneHotEncode(data,[0])"
   ]
  },
  {
   "cell_type": "code",
   "execution_count": null,
   "metadata": {},
   "outputs": [],
   "source": []
  },
  {
   "cell_type": "code",
   "execution_count": 4,
   "metadata": {},
   "outputs": [],
   "source": [
    "def TVTsplit(matrix, train = .7):\n",
    "    #     This function's purpose is to split a given matrix\n",
    "    #     into three parts: train, test, and validate. The \n",
    "    #     train parameter is the percentage of the data that\n",
    "    #     goes into training 70% by default. The val parameter\n",
    "    #     determines how much goes into the validation set\n",
    "    #     15% by default. The rest of the data goes into\n",
    "    #     the test set.\n",
    "    \n",
    "#     The following is needed to perform the operations\n",
    "#     in the calculations in here.\n",
    "    import numpy as np\n",
    "    # The following does some common sense things like\n",
    "    # telling you that train and val need to add up to less\n",
    "    # than 1.\n",
    "\n",
    "    if(train > .99):\n",
    "        print(\"Splitting failed. Please make sure that train is less than .99 so that test and val have enough data.\")\n",
    "        return 0\n",
    "    \n",
    "#     These two things calculate the subset lengths that \n",
    "#     are needed for the subsetting.\n",
    "    splitnum = int(len(matrix[:,0])*train)\n",
    "    splitnum2 = int((len(matrix[:,0]) - splitnum)/2)\n",
    "#     np.random.shuffle(matrix)\n",
    "\n",
    "#     The next three separate the data into the three sets\n",
    "#     using the splitnums from above.\n",
    "    Train = matrix[0:splitnum,]\n",
    "    Test = matrix[splitnum:(splitnum+splitnum2),]\n",
    "    Val = matrix[(splitnum+splitnum2):,]\n",
    "    return Train, Val, Test"
   ]
  },
  {
   "cell_type": "code",
   "execution_count": 5,
   "metadata": {},
   "outputs": [],
   "source": [
    "train,val,test = TVTsplit(newdata)"
   ]
  },
  {
   "cell_type": "code",
   "execution_count": 6,
   "metadata": {},
   "outputs": [],
   "source": [
    "Ytrain = train[:,(len(train[0,])-10):]\n",
    "Xtrain = train[:,:(len(train[0,])-10)]\n",
    "Yval = val[:,(len(val[0,])-10):]\n",
    "Xval = val[:,:(len(val[0,])-10)]\n",
    "Ytest = test[:,(len(test[0,])-10):]\n",
    "Xtest = test[:,:(len(test[0,])-10)]"
   ]
  },
  {
   "cell_type": "code",
   "execution_count": null,
   "metadata": {},
   "outputs": [],
   "source": []
  },
  {
   "cell_type": "code",
   "execution_count": 7,
   "metadata": {},
   "outputs": [],
   "source": [
    "def asnumeric(x):\n",
    "    return list(map(float,x))\n",
    "\n",
    "Xtrain = np.matrix(list(map(asnumeric,Xtrain.T))).T\n",
    "Xval = np.matrix(list(map(asnumeric,Xval.T))).T\n",
    "Xtest = np.matrix(list(map(asnumeric,Xtest.T))).T"
   ]
  },
  {
   "cell_type": "code",
   "execution_count": 8,
   "metadata": {},
   "outputs": [],
   "source": [
    "trainmins = np.array(list(map(np.nanmin,Xtrain.T)))\n",
    "trainmaxs = np.array(list(map(np.nanmax,Xtrain.T)))"
   ]
  },
  {
   "cell_type": "code",
   "execution_count": 9,
   "metadata": {},
   "outputs": [],
   "source": [
    "for i in range(0,784):\n",
    "    Xtrain[:,i] = (Xtrain[:,i] - trainmins[i])/(trainmaxs[i]-trainmins[i])\n",
    "    Xval[:,i] = (Xval[:,i] - trainmins[i])/(trainmaxs[i]-trainmins[i])\n",
    "    Xtest[:,i] = (Xtest[:,i] - trainmins[i])/(trainmaxs[i]-trainmins[i])\n"
   ]
  },
  {
   "cell_type": "code",
   "execution_count": 10,
   "metadata": {},
   "outputs": [
    {
     "ename": "NameError",
     "evalue": "name 'A2val' is not defined",
     "output_type": "error",
     "traceback": [
      "\u001b[0;31m---------------------------------------------------------------------------\u001b[0m",
      "\u001b[0;31mNameError\u001b[0m                                 Traceback (most recent call last)",
      "\u001b[0;32m<ipython-input-10-e9e1863b5f60>\u001b[0m in \u001b[0;36m<module>\u001b[0;34m\u001b[0m\n\u001b[1;32m     17\u001b[0m     \u001b[0mplt\u001b[0m\u001b[0;34m.\u001b[0m\u001b[0mshow\u001b[0m\u001b[0;34m(\u001b[0m\u001b[0;34m)\u001b[0m\u001b[0;34m\u001b[0m\u001b[0;34m\u001b[0m\u001b[0m\n\u001b[1;32m     18\u001b[0m \u001b[0;32mfor\u001b[0m \u001b[0mi\u001b[0m \u001b[0;32min\u001b[0m \u001b[0mrange\u001b[0m\u001b[0;34m(\u001b[0m\u001b[0;36m0\u001b[0m\u001b[0;34m,\u001b[0m\u001b[0;36m10\u001b[0m\u001b[0;34m)\u001b[0m\u001b[0;34m:\u001b[0m\u001b[0;34m\u001b[0m\u001b[0;34m\u001b[0m\u001b[0m\n\u001b[0;32m---> 19\u001b[0;31m     \u001b[0mROC\u001b[0m\u001b[0;34m(\u001b[0m\u001b[0msoftmax\u001b[0m\u001b[0;34m(\u001b[0m\u001b[0mA2val\u001b[0m\u001b[0;34m)\u001b[0m\u001b[0;34m[\u001b[0m\u001b[0;34m:\u001b[0m\u001b[0;34m,\u001b[0m\u001b[0mi\u001b[0m\u001b[0;34m]\u001b[0m\u001b[0;34m,\u001b[0m\u001b[0mnp\u001b[0m\u001b[0;34m.\u001b[0m\u001b[0mmatrix\u001b[0m\u001b[0;34m(\u001b[0m\u001b[0mYval\u001b[0m\u001b[0;34m[\u001b[0m\u001b[0;34m:\u001b[0m\u001b[0;34m,\u001b[0m\u001b[0mi\u001b[0m\u001b[0;34m]\u001b[0m\u001b[0;34m)\u001b[0m\u001b[0;34m.\u001b[0m\u001b[0mT\u001b[0m\u001b[0;34m,\u001b[0m\u001b[0mw1\u001b[0m\u001b[0;34m,\u001b[0m\u001b[0mb1\u001b[0m\u001b[0;34m,\u001b[0m\u001b[0mw2\u001b[0m\u001b[0;34m,\u001b[0m\u001b[0mb2\u001b[0m\u001b[0;34m)\u001b[0m\u001b[0;34m\u001b[0m\u001b[0;34m\u001b[0m\u001b[0m\n\u001b[0m\u001b[1;32m     20\u001b[0m \u001b[0mprint\u001b[0m\u001b[0;34m(\u001b[0m\u001b[0mnp\u001b[0m\u001b[0;34m.\u001b[0m\u001b[0mmean\u001b[0m\u001b[0;34m(\u001b[0m\u001b[0mnp\u001b[0m\u001b[0;34m.\u001b[0m\u001b[0mrint\u001b[0m\u001b[0;34m(\u001b[0m\u001b[0msoftmax\u001b[0m\u001b[0;34m(\u001b[0m\u001b[0mA2val\u001b[0m\u001b[0;34m)\u001b[0m\u001b[0;34m)\u001b[0m \u001b[0;34m==\u001b[0m \u001b[0mYval\u001b[0m\u001b[0;34m)\u001b[0m\u001b[0;34m)\u001b[0m\u001b[0;34m\u001b[0m\u001b[0;34m\u001b[0m\u001b[0m\n\u001b[1;32m     21\u001b[0m \u001b[0mnp\u001b[0m\u001b[0;34m.\u001b[0m\u001b[0msum\u001b[0m\u001b[0;34m(\u001b[0m\u001b[0mnp\u001b[0m\u001b[0;34m.\u001b[0m\u001b[0mmultiply\u001b[0m\u001b[0;34m(\u001b[0m\u001b[0mnp\u001b[0m\u001b[0;34m.\u001b[0m\u001b[0mrint\u001b[0m\u001b[0;34m(\u001b[0m\u001b[0msoftmax\u001b[0m\u001b[0;34m(\u001b[0m\u001b[0mA2val\u001b[0m\u001b[0;34m)\u001b[0m\u001b[0;34m)\u001b[0m\u001b[0;34m,\u001b[0m\u001b[0mYval\u001b[0m\u001b[0;34m)\u001b[0m\u001b[0;34m,\u001b[0m \u001b[0maxis\u001b[0m \u001b[0;34m=\u001b[0m \u001b[0;36m0\u001b[0m\u001b[0;34m)\u001b[0m\u001b[0;34m/\u001b[0m\u001b[0mnp\u001b[0m\u001b[0;34m.\u001b[0m\u001b[0msum\u001b[0m\u001b[0;34m(\u001b[0m\u001b[0mYval\u001b[0m\u001b[0;34m,\u001b[0m \u001b[0maxis\u001b[0m \u001b[0;34m=\u001b[0m \u001b[0;36m0\u001b[0m\u001b[0;34m)\u001b[0m\u001b[0;34m\u001b[0m\u001b[0;34m\u001b[0m\u001b[0m\n",
      "\u001b[0;31mNameError\u001b[0m: name 'A2val' is not defined"
     ]
    }
   ],
   "source": [
    "\n",
    "def ROC(X,Y,w1,b1,w2,b2):\n",
    "    threshold = np.linspace(1000,0, 1001)\n",
    "    threshold = threshold/1000\n",
    "    tprs = []\n",
    "    fprs = []\n",
    "    for i in threshold:\n",
    "        tprs.append(np.sum(np.multiply(X>i,Y))/np.sum(Y))\n",
    "        fprs.append(np.sum(np.multiply((X>i),1 - Y))/np.sum(1 - Y))\n",
    "    plt.plot(fprs,tprs)\n",
    "    plt.plot([0,1],[0,1], c = 'black')\n",
    "    plt.xlabel(\"False Positive Rate\",fontsize = 14)\n",
    "    plt.ylabel(\"True Positive Rate\", fontsize = 14)\n",
    "    plt.title(\"ROC\", fontsize  = 20)\n",
    "    leg = \"AUC = \"+str(round((np.sum(np.multiply(tprs[0:1000],np.diff(fprs)))+np.sum(np.multiply(tprs[1:1001],np.diff(fprs))))/2,4))\n",
    "    plt.text(.58,0,leg, fontsize = 14)\n",
    "    plt.show()\n",
    "for i in range(0,10):\n",
    "    ROC(softmax(A2val)[:,i],np.matrix(Yval[:,i]).T,w1,b1,w2,b2)\n",
    "print(np.mean(np.rint(softmax(A2val)) == Yval))\n",
    "np.sum(np.multiply(np.rint(softmax(A2val)),Yval), axis = 0)/np.sum(Yval, axis = 0)\n"
   ]
  },
  {
   "cell_type": "code",
   "execution_count": null,
   "metadata": {},
   "outputs": [],
   "source": [
    "newtestdata = oneHotEncode(testdata,[0])"
   ]
  },
  {
   "cell_type": "code",
   "execution_count": null,
   "metadata": {},
   "outputs": [],
   "source": [
    "Ynew = newtestdata[:,(len(newtestdata[0,])-10):]\n",
    "Xnew = newtestdata[:,:(len(newtestdata[0,])-10)]"
   ]
  },
  {
   "cell_type": "code",
   "execution_count": null,
   "metadata": {},
   "outputs": [],
   "source": [
    "Xnew = np.matrix(list(map(asnumeric,Xnew.T))).T"
   ]
  },
  {
   "cell_type": "code",
   "execution_count": null,
   "metadata": {},
   "outputs": [],
   "source": [
    "for i in range(0,784):\n",
    "    Xnew[:,i] = (Xnew[:,i] - trainmins[i])/(trainmaxs[i]-trainmins[i])"
   ]
  },
  {
   "cell_type": "code",
   "execution_count": null,
   "metadata": {
    "scrolled": true
   },
   "outputs": [],
   "source": [
    "A1new = Xnew@w1 + b1\n",
    "Z1new = np.tanh(A1new)\n",
    "A2new = Z1new@w2 + b2\n",
    "phatnew = softmax(A2new)\n",
    "print(np.mean(np.rint(phatnew) == Ynew))\n",
    "np.sum(np.multiply(np.rint(phatnew),Ynew))/np.sum(Ynew)"
   ]
  },
  {
   "cell_type": "code",
   "execution_count": null,
   "metadata": {},
   "outputs": [],
   "source": [
    "newphat = np.zeros((phatnew.shape[0],phatnew.shape[1]))"
   ]
  },
  {
   "cell_type": "code",
   "execution_count": null,
   "metadata": {},
   "outputs": [],
   "source": [
    "for i in range(0,len(newphat[:,0])):\n",
    "    newphat[i,np.argmax(phatnew[i,])] = 1"
   ]
  },
  {
   "cell_type": "code",
   "execution_count": null,
   "metadata": {},
   "outputs": [],
   "source": [
    "newphat =np.eye(phatnew.shape[1])[np.argmax(phatnew,axis = 1)][:,0,:]"
   ]
  },
  {
   "cell_type": "code",
   "execution_count": null,
   "metadata": {},
   "outputs": [],
   "source": [
    "np.sum(np.multiply(np.rint(newphat),Ynew), axis = 0)/np.sum(Ynew, axis = 0)"
   ]
  },
  {
   "cell_type": "code",
   "execution_count": null,
   "metadata": {},
   "outputs": [],
   "source": [
    "def softmax(matrix):\n",
    "    return np.exp(matrix)/np.sum(np.exp(matrix), axis = 1).reshape(len(matrix[:,0]),1)\n",
    "def tander(Z):\n",
    "    return 1-np.multiply(Z,Z)\n",
    "def GCEC(Y,Yhat):\n",
    "    return -np.sum(np.multiply(Y,np.log(Yhat)))/len(Y[:,0])\n",
    "class TSNN:\n",
    "    def __init__(self, nodes = [5,3,6,3],indims = 2,\n",
    "                 activation = np.tanh, actder = tander,\n",
    "                 outputactivation = softmax, cost = GCEC):\n",
    "        self.layers = len(nodes)\n",
    "        self.indims = indims\n",
    "#         self.outdims = outdims\n",
    "        self.nodes = nodes\n",
    "        self.actder = actder\n",
    "        self.costfunc = cost\n",
    "        if type(activation) == type([]):\n",
    "            self.activation = activation\n",
    "        else:\n",
    "            self.activation = []\n",
    "            for i in range(0,len(nodes)):\n",
    "                self.activation.append(activation)\n",
    "            print(self.activation)\n",
    "        self.outputactivation = outputactivation\n",
    "    def weightInitialization(self):\n",
    "        self.weights = {}\n",
    "        self.biases = {}\n",
    "        self.weights['w0']=np.random.randn(self.indims,self.nodes[0])\n",
    "        self.biases['b0'] = np.random.randn(1,self.nodes[0])\n",
    "        for i in range(1,self.layers):\n",
    "            self.weights['w'+str(i)] = np.random.randn(self.nodes[i-1],self.nodes[i])\n",
    "            self.biases['b'+str(i)] = np.random.randn(1,self.nodes[i])\n",
    "    def predict(self, X):\n",
    "        self.Z = {}\n",
    "        self.Z['0'] = X\n",
    "        for i in range(1,len(self.nodes)):\n",
    "            self.Z[str(i)] = self.activation[i-1](\n",
    "                self.Z[str(i-1)]@self.weights['w'+str(i-1)]\n",
    "                +self.biases['b'+str(i-1)])\n",
    "        self.predictions = self.outputactivation(\n",
    "            self.Z[str(len(self.nodes)-1)]@self.weights['w'+str(\n",
    "                self.layers-1)] + self.biases['b'+str(self.layers- 1)])\n",
    "        return self.predictions\n",
    "    def train(self, X,Y,Xval = [],Yval =[], epochs = 10, learningRate = .00001):\n",
    "        errs = []\n",
    "        if len(Xval) == 0:\n",
    "            Xval = X\n",
    "            Yval = Y\n",
    "        for i in range(0,epochs):\n",
    "            js = np.linspace(len(self.weights)-1,0,len(self.weights))\n",
    "            d = self.predict(X) - Y\n",
    "            for j in range(len(self.weights)-1,-1,-1):\n",
    "                self.weights['w'+str(j)] = self.weights['w'+str(j)]- learningRate*self.Z[str(j)].T@d\n",
    "                self.biases['b'+str(j)] = self.biases['b'+str(j)]\\\n",
    "                - learningRate*np.sum(d,axis = 0)\n",
    "                d = np.multiply(d@self.weights['w'+str(j)].T,\n",
    "                                self.actder(self.Z[str(j)]))\n",
    "            errs.append(self.costfunc(Yval,self.predict(Xval)))\n",
    "        plt.plot(errs)"
   ]
  },
  {
   "cell_type": "code",
   "execution_count": 11,
   "metadata": {},
   "outputs": [],
   "source": [
    "model = NeuralNetwork(indims = Xtrain.shape[1],activations = ['relu','relu'], nodes = [60,60,Ytrain.shape[1]], taskType = 'c')"
   ]
  },
  {
   "cell_type": "code",
   "execution_count": 69,
   "metadata": {},
   "outputs": [
    {
     "data": {
      "image/png": "[encoded data removed]",
      "text/plain": [
       "<Figure size 432x288 with 1 Axes>"
      ]
     },
     "metadata": {
      "needs_background": "light"
     },
     "output_type": "display_data"
    }
   ],
   "source": [
    "model.train(np.asarray(Xtrain),np.asarray(Ytrain),np.asarray(Xval),np.asarray(Yval), epochs = 40, gamma = .80, moment = .8, lr = .0002,optim = 'adam')"
   ]
  },
  {
   "cell_type": "code",
   "execution_count": 70,
   "metadata": {},
   "outputs": [
    {
     "data": {
      "text/plain": [
       "0.9740888888888889"
      ]
     },
     "execution_count": 70,
     "metadata": {},
     "output_type": "execute_result"
    }
   ],
   "source": [
    "accuracy(model.prediction,np.asarray(Yval))"
   ]
  },
  {
   "cell_type": "code",
   "execution_count": 68,
   "metadata": {},
   "outputs": [
    {
     "data": {
      "text/plain": [
       "array([0.83277217, 0.97486339, 0.77483444, 0.87361419, 0.78226712,\n",
       "       0.94545455, 0.65337763, 0.93825799, 0.9579646 , 0.95227525])"
      ]
     },
     "execution_count": 68,
     "metadata": {},
     "output_type": "execute_result"
    }
   ],
   "source": [
    "recall(model.prediction,np.asarray(Yval))"
   ]
  }
 ],
 "metadata": {
  "kernelspec": {
   "display_name": "Python 3",
   "language": "python",
   "name": "python3"
  },
  "language_info": {
   "codemirror_mode": {
    "name": "ipython",
    "version": 3
   },
   "file_extension": ".py",
   "mimetype": "text/x-python",
   "name": "python",
   "nbconvert_exporter": "python",
   "pygments_lexer": "ipython3",
   "version": "3.7.1"
  }
 },
 "nbformat": 4,
 "nbformat_minor": 2
}
