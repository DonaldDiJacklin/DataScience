{
 "cells": [
  {
   "cell_type": "code",
   "execution_count": 1,
   "metadata": {},
   "outputs": [],
   "source": [
    "import numpy as np\n",
    "import matplotlib.pyplot as plt\n",
    "from MyML import *"
   ]
  },
  {
   "cell_type": "code",
   "execution_count": 2,
   "metadata": {},
   "outputs": [],
   "source": [
    "X1 = np.random.randn(1000)*35\n",
    "X2 = np.random.randn(1000)*45"
   ]
  },
  {
   "cell_type": "code",
   "execution_count": 3,
   "metadata": {},
   "outputs": [],
   "source": [
    "X = np.column_stack((np.ones(1000),X1,X2))"
   ]
  },
  {
   "cell_type": "code",
   "execution_count": 4,
   "metadata": {},
   "outputs": [],
   "source": [
    "W_true = np.random.randn(3,4)\n"
   ]
  },
  {
   "cell_type": "code",
   "execution_count": 5,
   "metadata": {},
   "outputs": [
    {
     "data": {
      "text/plain": [
       "array([[-0.18824572,  0.54044306,  1.46369947,  1.4301274 ],\n",
       "       [-0.23080346,  1.04786259,  0.41109995, -1.05499492],\n",
       "       [ 1.77985622, -1.26821909,  0.06190356, -0.35007669]])"
      ]
     },
     "execution_count": 5,
     "metadata": {},
     "output_type": "execute_result"
    }
   ],
   "source": [
    "W_true"
   ]
  },
  {
   "cell_type": "code",
   "execution_count": 6,
   "metadata": {},
   "outputs": [],
   "source": [
    "def softmax(matrix):\n",
    "    return np.exp(matrix)/np.sum(np.exp(matrix), axis = 1).reshape(len(matrix[:,0]),1)\n",
    "Y = np.rint(softmax(X@W_true))"
   ]
  },
  {
   "cell_type": "code",
   "execution_count": 7,
   "metadata": {},
   "outputs": [],
   "source": [
    "x1 = np.linspace(-100,100,200)\n",
    "x21 = -(np.asscalar(W_true[0,0])+np.asscalar(W_true[1,0])*x1)/np.asscalar(W_true[2,0])\n",
    "x22 = -(np.asscalar(W_true[0,1])+np.asscalar(W_true[1,1])*x1)/np.asscalar(W_true[2,1])\n",
    "x23 = -(np.asscalar(W_true[0,2])+np.asscalar(W_true[1,2])*x1)/np.asscalar(W_true[2,2])\n",
    "x24 = -(np.asscalar(W_true[0,3])+np.asscalar(W_true[1,3])*x1)/np.asscalar(W_true[2,3])"
   ]
  },
  {
   "cell_type": "code",
   "execution_count": 8,
   "metadata": {},
   "outputs": [],
   "source": [
    "w = np.random.randn(12)\n",
    "w = np.matrix(w).reshape(3,4)\n",
    "inds = []\n",
    "# for i in range(0)\n",
    "# cost = []\n",
    "# for i in range(0,10000):\n",
    "#     w = w - .00001*X.T@(softmax(X@w) - Y)\n",
    "#     CEC = -np.sum(np.multiply(Y,np.log(softmax(X@w))))\n",
    "#     inds.append(i)\n",
    "#     cost.append(CEC)\n",
    "# plt.scatter(inds,cost)"
   ]
  },
  {
   "cell_type": "code",
   "execution_count": 9,
   "metadata": {},
   "outputs": [],
   "source": [
    "X = X[:,1:]\n",
    "X = (X-np.min(X, axis = 0))/(np.max(X,axis = 0)-np.min(X,axis = 0))"
   ]
  },
  {
   "cell_type": "code",
   "execution_count": 25,
   "metadata": {},
   "outputs": [],
   "source": [
    "model = NeuralNetwork(indims = 2,nodes = [10,6,4], activations = ['prelu','prelu'], ada = 1)"
   ]
  },
  {
   "cell_type": "code",
   "execution_count": 26,
   "metadata": {
    "scrolled": true
   },
   "outputs": [
    {
     "data": {
      "image/png": "[encoded data removed]",
      "text/plain": [
       "<Figure size 432x288 with 1 Axes>"
      ]
     },
     "metadata": {
      "needs_background": "light"
     },
     "output_type": "display_data"
    }
   ],
   "source": [
    "model.train(X,Y,epochs = 1000, lr = .02)\n",
    "eierrs = model.errs"
   ]
  },
  {
   "cell_type": "code",
   "execution_count": 27,
   "metadata": {},
   "outputs": [
    {
     "data": {
      "text/plain": [
       "0.998"
      ]
     },
     "execution_count": 27,
     "metadata": {},
     "output_type": "execute_result"
    }
   ],
   "source": [
    "accuracy(model.prediction,Y)"
   ]
  }
 ],
 "metadata": {
  "kernelspec": {
   "display_name": "Python 3",
   "language": "python",
   "name": "python3"
  },
  "language_info": {
   "codemirror_mode": {
    "name": "ipython",
    "version": 3
   },
   "file_extension": ".py",
   "mimetype": "text/x-python",
   "name": "python",
   "nbconvert_exporter": "python",
   "pygments_lexer": "ipython3",
   "version": "3.7.1"
  }
 },
 "nbformat": 4,
 "nbformat_minor": 2
}
