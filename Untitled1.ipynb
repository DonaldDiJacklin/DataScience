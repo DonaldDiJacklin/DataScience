{
 "cells": [
  {
   "cell_type": "code",
   "execution_count": 1,
   "metadata": {},
   "outputs": [],
   "source": [
    "import numpy as np\n",
    "from MyML import *\n",
    "import matplotlib.pyplot as plt"
   ]
  },
  {
   "cell_type": "code",
   "execution_count": 2,
   "metadata": {},
   "outputs": [],
   "source": [
    "x1 = np.random.randn(2000,3)\n",
    "r1 = np.sqrt(x1[:,0]**2+x1[:,1]**2+x1[:,2]**2)"
   ]
  },
  {
   "cell_type": "code",
   "execution_count": 3,
   "metadata": {},
   "outputs": [],
   "source": [
    "newx1 = x1[r1<1,]\n",
    "newx2 = x1[r1>2.5,]\n",
    "newx3 = x1[(r1>1.6)*(r1<2.3),]"
   ]
  },
  {
   "cell_type": "code",
   "execution_count": 4,
   "metadata": {},
   "outputs": [],
   "source": [
    "y1 = np.column_stack((np.ones(newx1.shape[0]),np.zeros(newx1.shape[0]),np.zeros(newx1.shape[0])))\n",
    "y2 = np.column_stack((np.zeros(newx2.shape[0]),np.ones(newx2.shape[0]),np.zeros(newx2.shape[0])))\n",
    "y3 = np.column_stack((np.zeros(newx3.shape[0]),np.zeros(newx3.shape[0]),np.ones(newx3.shape[0])))"
   ]
  },
  {
   "cell_type": "code",
   "execution_count": 5,
   "metadata": {},
   "outputs": [],
   "source": [
    "X = np.row_stack((newx1,newx2,newx3))\n",
    "Y = np.row_stack((y1,y2,y3))\n",
    "total = np.column_stack((X,Y))\n",
    "np.random.shuffle(total)\n",
    "X = total[:,0:3]\n",
    "Y = total[:,3:]\n",
    "X = (X-np.min(X, axis = 0))/(np.max(X, axis = 0)-np.min(X, axis = 0))"
   ]
  },
  {
   "cell_type": "code",
   "execution_count": 6,
   "metadata": {},
   "outputs": [
    {
     "ename": "TypeError",
     "evalue": "forward() takes 2 positional arguments but 3 were given",
     "output_type": "error",
     "traceback": [
      "\u001b[0;31m---------------------------------------------------------------------------\u001b[0m",
      "\u001b[0;31mTypeError\u001b[0m                                 Traceback (most recent call last)",
      "\u001b[0;32m<ipython-input-6-a90059b33b8d>\u001b[0m in \u001b[0;36m<module>\u001b[0;34m\u001b[0m\n\u001b[1;32m      3\u001b[0m \u001b[0;32mfor\u001b[0m \u001b[0mi\u001b[0m \u001b[0;32min\u001b[0m \u001b[0mrange\u001b[0m\u001b[0;34m(\u001b[0m\u001b[0;36m0\u001b[0m\u001b[0;34m,\u001b[0m\u001b[0;36m10\u001b[0m\u001b[0;34m)\u001b[0m\u001b[0;34m:\u001b[0m\u001b[0;34m\u001b[0m\u001b[0;34m\u001b[0m\u001b[0m\n\u001b[1;32m      4\u001b[0m     \u001b[0;32mfor\u001b[0m \u001b[0mj\u001b[0m \u001b[0;32min\u001b[0m \u001b[0mrange\u001b[0m\u001b[0;34m(\u001b[0m\u001b[0;36m0\u001b[0m\u001b[0;34m,\u001b[0m\u001b[0mX\u001b[0m\u001b[0;34m.\u001b[0m\u001b[0mshape\u001b[0m\u001b[0;34m[\u001b[0m\u001b[0;36m0\u001b[0m\u001b[0;34m]\u001b[0m\u001b[0;34m)\u001b[0m\u001b[0;34m:\u001b[0m\u001b[0;34m\u001b[0m\u001b[0;34m\u001b[0m\u001b[0m\n\u001b[0;32m----> 5\u001b[0;31m         \u001b[0mmodel\u001b[0m\u001b[0;34m.\u001b[0m\u001b[0mtrain\u001b[0m\u001b[0;34m(\u001b[0m\u001b[0mX\u001b[0m\u001b[0;34m[\u001b[0m\u001b[0mj\u001b[0m\u001b[0;34m,\u001b[0m\u001b[0;34m]\u001b[0m\u001b[0;34m.\u001b[0m\u001b[0mreshape\u001b[0m\u001b[0;34m(\u001b[0m\u001b[0;36m1\u001b[0m\u001b[0;34m,\u001b[0m\u001b[0;36m3\u001b[0m\u001b[0;34m)\u001b[0m\u001b[0;34m,\u001b[0m\u001b[0mY\u001b[0m\u001b[0;34m[\u001b[0m\u001b[0mj\u001b[0m\u001b[0;34m,\u001b[0m\u001b[0;34m]\u001b[0m\u001b[0;34m.\u001b[0m\u001b[0mreshape\u001b[0m\u001b[0;34m(\u001b[0m\u001b[0;36m1\u001b[0m\u001b[0;34m,\u001b[0m\u001b[0;36m3\u001b[0m\u001b[0;34m)\u001b[0m\u001b[0;34m,\u001b[0m\u001b[0mepochs\u001b[0m \u001b[0;34m=\u001b[0m \u001b[0;36m1\u001b[0m\u001b[0;34m,\u001b[0m \u001b[0mlr\u001b[0m \u001b[0;34m=\u001b[0m \u001b[0;36m.006\u001b[0m\u001b[0;34m)\u001b[0m\u001b[0;34m\u001b[0m\u001b[0;34m\u001b[0m\u001b[0m\n\u001b[0m\u001b[1;32m      6\u001b[0m         \u001b[0mmodel\u001b[0m\u001b[0;34m.\u001b[0m\u001b[0mpredict\u001b[0m\u001b[0;34m(\u001b[0m\u001b[0mX\u001b[0m\u001b[0;34m)\u001b[0m\u001b[0;34m\u001b[0m\u001b[0;34m\u001b[0m\u001b[0m\n\u001b[1;32m      7\u001b[0m         \u001b[0merrs\u001b[0m\u001b[0;34m.\u001b[0m\u001b[0mappend\u001b[0m\u001b[0;34m(\u001b[0m\u001b[0mGCEC\u001b[0m\u001b[0;34m(\u001b[0m\u001b[0mY\u001b[0m\u001b[0;34m,\u001b[0m\u001b[0mmodel\u001b[0m\u001b[0;34m.\u001b[0m\u001b[0mprobabilities\u001b[0m\u001b[0;34m)\u001b[0m\u001b[0;34m)\u001b[0m\u001b[0;34m\u001b[0m\u001b[0;34m\u001b[0m\u001b[0m\n",
      "\u001b[0;32m~/DataScienceTraining/MyML/MyTorch.py\u001b[0m in \u001b[0;36mtrain\u001b[0;34m(self, X, Y, epochs, lr, gamma, l1, l2, moment, p)\u001b[0m\n\u001b[1;32m    402\u001b[0m                 \u001b[0;32mfor\u001b[0m \u001b[0mi\u001b[0m \u001b[0;32min\u001b[0m \u001b[0mrange\u001b[0m\u001b[0;34m(\u001b[0m\u001b[0;36m0\u001b[0m\u001b[0;34m,\u001b[0m\u001b[0mepochs\u001b[0m\u001b[0;34m)\u001b[0m\u001b[0;34m:\u001b[0m\u001b[0;34m\u001b[0m\u001b[0;34m\u001b[0m\u001b[0m\n\u001b[1;32m    403\u001b[0m                         \u001b[0mself\u001b[0m\u001b[0;34m.\u001b[0m\u001b[0mt\u001b[0m \u001b[0;34m=\u001b[0m \u001b[0mi\u001b[0m\u001b[0;34m+\u001b[0m\u001b[0;36m1\u001b[0m\u001b[0;34m\u001b[0m\u001b[0;34m\u001b[0m\u001b[0m\n\u001b[0;32m--> 404\u001b[0;31m                         \u001b[0mphat\u001b[0m \u001b[0;34m=\u001b[0m \u001b[0mself\u001b[0m\u001b[0;34m.\u001b[0m\u001b[0mdrop_predict\u001b[0m\u001b[0;34m(\u001b[0m\u001b[0mX\u001b[0m\u001b[0;34m,\u001b[0m \u001b[0mself\u001b[0m\u001b[0;34m.\u001b[0m\u001b[0mp\u001b[0m\u001b[0;34m)\u001b[0m\u001b[0;34m\u001b[0m\u001b[0;34m\u001b[0m\u001b[0m\n\u001b[0m\u001b[1;32m    405\u001b[0m                         \u001b[0mself\u001b[0m\u001b[0;34m.\u001b[0m\u001b[0mbackProp\u001b[0m\u001b[0;34m(\u001b[0m\u001b[0mY\u001b[0m\u001b[0;34m,\u001b[0m \u001b[0mlr\u001b[0m\u001b[0;34m,\u001b[0m \u001b[0mself\u001b[0m\u001b[0;34m.\u001b[0m\u001b[0mt\u001b[0m\u001b[0;34m)\u001b[0m\u001b[0;34m\u001b[0m\u001b[0;34m\u001b[0m\u001b[0m\n\u001b[1;32m    406\u001b[0m                         \u001b[0mself\u001b[0m\u001b[0;34m.\u001b[0m\u001b[0merrs\u001b[0m\u001b[0;34m.\u001b[0m\u001b[0mappend\u001b[0m\u001b[0;34m(\u001b[0m\u001b[0mself\u001b[0m\u001b[0;34m.\u001b[0m\u001b[0mcostfunc\u001b[0m\u001b[0;34m(\u001b[0m\u001b[0mY\u001b[0m\u001b[0;34m,\u001b[0m\u001b[0mself\u001b[0m\u001b[0;34m.\u001b[0m\u001b[0mpredict\u001b[0m\u001b[0;34m(\u001b[0m\u001b[0mX\u001b[0m\u001b[0;34m,\u001b[0m \u001b[0mp\u001b[0m\u001b[0;34m=\u001b[0m\u001b[0;36m1\u001b[0m\u001b[0;34m)\u001b[0m\u001b[0;34m)\u001b[0m\u001b[0;34m)\u001b[0m\u001b[0;34m\u001b[0m\u001b[0;34m\u001b[0m\u001b[0m\n",
      "\u001b[0;32m~/DataScienceTraining/MyML/MyTorch.py\u001b[0m in \u001b[0;36mdrop_predict\u001b[0;34m(self, X, p)\u001b[0m\n\u001b[1;32m    370\u001b[0m                 \u001b[0mtemp\u001b[0m \u001b[0;34m=\u001b[0m \u001b[0mX\u001b[0m\u001b[0;34m.\u001b[0m\u001b[0mcopy\u001b[0m\u001b[0;34m(\u001b[0m\u001b[0;34m)\u001b[0m\u001b[0;34m\u001b[0m\u001b[0;34m\u001b[0m\u001b[0m\n\u001b[1;32m    371\u001b[0m                 \u001b[0;32mfor\u001b[0m \u001b[0mi\u001b[0m \u001b[0;32min\u001b[0m \u001b[0mrange\u001b[0m\u001b[0;34m(\u001b[0m\u001b[0;36m0\u001b[0m\u001b[0;34m,\u001b[0m\u001b[0mlen\u001b[0m\u001b[0;34m(\u001b[0m\u001b[0mself\u001b[0m\u001b[0;34m.\u001b[0m\u001b[0mlayers\u001b[0m\u001b[0;34m)\u001b[0m\u001b[0;34m)\u001b[0m\u001b[0;34m:\u001b[0m\u001b[0;34m\u001b[0m\u001b[0;34m\u001b[0m\u001b[0m\n\u001b[0;32m--> 372\u001b[0;31m                         \u001b[0mtemp\u001b[0m \u001b[0;34m=\u001b[0m \u001b[0mself\u001b[0m\u001b[0;34m.\u001b[0m\u001b[0mlayers\u001b[0m\u001b[0;34m[\u001b[0m\u001b[0mi\u001b[0m\u001b[0;34m]\u001b[0m\u001b[0;34m.\u001b[0m\u001b[0mforward\u001b[0m\u001b[0;34m(\u001b[0m\u001b[0mtemp\u001b[0m\u001b[0;34m,\u001b[0m \u001b[0mp\u001b[0m\u001b[0;34m)\u001b[0m\u001b[0;34m\u001b[0m\u001b[0;34m\u001b[0m\u001b[0m\n\u001b[0m\u001b[1;32m    373\u001b[0m                 \u001b[0mself\u001b[0m\u001b[0;34m.\u001b[0m\u001b[0mprobabilities\u001b[0m \u001b[0;34m=\u001b[0m \u001b[0mtemp\u001b[0m\u001b[0;34m\u001b[0m\u001b[0;34m\u001b[0m\u001b[0m\n\u001b[1;32m    374\u001b[0m                 \u001b[0;32mif\u001b[0m \u001b[0mself\u001b[0m\u001b[0;34m.\u001b[0m\u001b[0mnodes\u001b[0m\u001b[0;34m[\u001b[0m\u001b[0;34m-\u001b[0m\u001b[0;36m1\u001b[0m\u001b[0;34m]\u001b[0m \u001b[0;34m==\u001b[0m \u001b[0;36m1\u001b[0m\u001b[0;34m:\u001b[0m\u001b[0;34m\u001b[0m\u001b[0;34m\u001b[0m\u001b[0m\n",
      "\u001b[0;31mTypeError\u001b[0m: forward() takes 2 positional arguments but 3 were given"
     ]
    }
   ],
   "source": [
    "errs = []\n",
    "model = NeuralNetwork(indims = 3,nodes = [40,40,40,40,3], activations = ['tan','tan','tan','tan'], taskType = 'c')\n",
    "for i in range(0,10):\n",
    "    for j in range(0,X.shape[0]):\n",
    "        model.train(X[j,].reshape(1,3),Y[j,].reshape(1,3),epochs = 1, lr = .006)\n",
    "        model.predict(X)\n",
    "        errs.append(GCEC(Y,model.probabilities))\n",
    "        if accuracy(model.prediction,Y) == 1.0:\n",
    "            print((1+j)*(1+i))\n",
    "            break"
   ]
  },
  {
   "cell_type": "code",
   "execution_count": null,
   "metadata": {},
   "outputs": [],
   "source": [
    "plt.plot(errs)"
   ]
  },
  {
   "cell_type": "code",
   "execution_count": null,
   "metadata": {},
   "outputs": [],
   "source": [
    "accuracy(model.prediction,Y)"
   ]
  },
  {
   "cell_type": "code",
   "execution_count": null,
   "metadata": {},
   "outputs": [],
   "source": [
    "errs = []\n",
    "model = TSNNada(indims = 3,nodes = [40,40,40,40,3], activation = 'tanh', taskType = 'c')\n",
    "for i in range(0,10):\n",
    "    for j in range(0,X.shape[0]):\n",
    "        model.train(np.matrix(X[j,]),np.matrix(Y[j,]),epochs = 1, lr = .006)\n",
    "        model.predict(X)\n",
    "        errs.append(GCEC(Y,model.probabilities))\n",
    "        if accuracy(model.prediction,Y) == 1.0:\n",
    "            print((1+j)*(1+i))\n",
    "            break"
   ]
  },
  {
   "cell_type": "code",
   "execution_count": null,
   "metadata": {},
   "outputs": [],
   "source": [
    "plt.plot(errs)"
   ]
  },
  {
   "cell_type": "code",
   "execution_count": null,
   "metadata": {},
   "outputs": [],
   "source": [
    "errs = []\n",
    "model = TSNNrms(indims = 3,nodes = [40,40,40,40,3], activation = 'tanh', taskType = 'c')\n",
    "for i in range(0,10):\n",
    "    for j in range(0,X.shape[0]):\n",
    "        model.train(X[j,].reshape(1,3),Y[j,].reshape(1,3),epochs = 1, lr = .005)\n",
    "        model.predict(X)\n",
    "        errs.append(GCEC(Y,model.probabilities))\n",
    "        if accuracy(model.prediction,Y) == 1.0:\n",
    "            print((1+j)*(1+i))\n",
    "            break"
   ]
  },
  {
   "cell_type": "code",
   "execution_count": null,
   "metadata": {},
   "outputs": [],
   "source": [
    "plt.plot(errs)"
   ]
  },
  {
   "cell_type": "code",
   "execution_count": null,
   "metadata": {},
   "outputs": [],
   "source": [
    "errs = []\n",
    "model = TSNN(indims = 3,nodes = [40,40,40,40,3], activation = 'tanh', taskType = 'c')\n",
    "for i in range(0,10):\n",
    "    for j in range(0,X.shape[0]):\n",
    "        model.train(X[j,].reshape(1,3),Y[j,].reshape(1,3),epochs = 1, lr = .005, mu = .8)\n",
    "        model.predict(X)\n",
    "        errs.append(GCEC(Y,model.probabilities))\n",
    "        if accuracy(model.prediction,Y) == 1.0:\n",
    "            print((1+j)*(1+i))\n",
    "            break"
   ]
  },
  {
   "cell_type": "code",
   "execution_count": null,
   "metadata": {},
   "outputs": [],
   "source": [
    "plt.plot(errs)"
   ]
  },
  {
   "cell_type": "code",
   "execution_count": null,
   "metadata": {},
   "outputs": [],
   "source": [
    "errs = []\n",
    "model = TSNNnest(indims = 3,nodes = [40,40,40,40,3], activation = 'tanh', taskType = 'c')\n",
    "for i in range(0,10):\n",
    "    for j in range(0,X.shape[0]):\n",
    "        model.train(X[j,].reshape(1,3),Y[j,].reshape(1,3),epochs = 1, lr = .006, mu = .8)\n",
    "        model.predict(X)\n",
    "        errs.append(GCEC(Y,model.probabilities))\n",
    "        if accuracy(model.prediction,Y) == 1.0:\n",
    "            print((1+j)*(1+i))\n",
    "            break"
   ]
  },
  {
   "cell_type": "code",
   "execution_count": null,
   "metadata": {},
   "outputs": [],
   "source": [
    "plt.plot(errs)"
   ]
  },
  {
   "cell_type": "code",
   "execution_count": null,
   "metadata": {},
   "outputs": [],
   "source": [
    "errs = []\n",
    "model = TSNNAdam(indims = 3,nodes = [40,40,40,40,3], activation = 'tanh', taskType = 'c')\n",
    "for i in range(0,10):\n",
    "    for j in range(0,X.shape[0]):\n",
    "        model.train(X[j,].reshape(1,3),Y[j,].reshape(1,3),epochs = 1, lr = .006, gamma = .8,mu = .9)\n",
    "        model.predict(X)\n",
    "        errs.append(GCEC(Y,model.probabilities))\n",
    "        if accuracy(model.prediction,Y) == 1.0:\n",
    "            print((1+j)*(1+i))\n",
    "            break"
   ]
  },
  {
   "cell_type": "code",
   "execution_count": null,
   "metadata": {},
   "outputs": [],
   "source": [
    "plt.plot(errs)"
   ]
  },
  {
   "cell_type": "code",
   "execution_count": null,
   "metadata": {},
   "outputs": [],
   "source": [
    "errs = []\n",
    "model = TSNNrms(indims = 3,nodes = [40,40,40,40,3], activation = 'tanh', taskType = 'c')\n",
    "for i in range(0,10):\n",
    "    for j in range(0,X.shape[0]):\n",
    "        model.train(X[j,].reshape(1,3),Y[j,].reshape(1,3),epochs = 1,gamma = .9,mu = .9, lr = .0004)\n",
    "        model.predict(X)\n",
    "        errs.append(GCEC(Y,model.probabilities))\n",
    "        if accuracy(model.prediction,Y) == 1.0:\n",
    "            print((1+j)*(1+i))\n",
    "            break"
   ]
  },
  {
   "cell_type": "code",
   "execution_count": null,
   "metadata": {},
   "outputs": [],
   "source": [
    "plt.plot(errs)"
   ]
  },
  {
   "cell_type": "code",
   "execution_count": null,
   "metadata": {},
   "outputs": [],
   "source": [
    "errs = []\n",
    "model = TSNNnestRMS(indims = 3,nodes = [40,40,40,40,3], activation = 'tanh', taskType = 'c')\n",
    "for i in range(0,10):\n",
    "    for j in range(0,X.shape[0]):\n",
    "        model.train(X[j,].reshape(1,3),Y[j,].reshape(1,3),epochs = 1, lr = .0004, gamma = .9,mu = .9)\n",
    "        model.predict(X)\n",
    "        errs.append(GCEC(Y,model.probabilities))\n",
    "        if accuracy(model.prediction,Y) == 1.0:\n",
    "            print((1+j)*(1+i))\n",
    "            break"
   ]
  },
  {
   "cell_type": "code",
   "execution_count": null,
   "metadata": {},
   "outputs": [],
   "source": [
    "plt.plot(errs)"
   ]
  },
  {
   "cell_type": "code",
   "execution_count": null,
   "metadata": {},
   "outputs": [],
   "source": [
    "errs = []\n",
    "model = TSNNada(indims = 3,nodes = [40,40,40,40,3], activation = 'tanh', taskType = 'c')\n",
    "for i in range(0,10):\n",
    "    for j in range(0,X.shape[0]):\n",
    "        model.train(np.matrix(X[j,]),np.matrix(Y[j,]),epochs = 1, lr = .006, mu = .9)\n",
    "        model.predict(X)\n",
    "        errs.append(GCEC(Y,model.probabilities))\n",
    "        if accuracy(model.prediction,Y) == 1.0:\n",
    "            print((1+j)*(1+i))\n",
    "            break"
   ]
  },
  {
   "cell_type": "code",
   "execution_count": null,
   "metadata": {},
   "outputs": [],
   "source": [
    "plt.plot(errs)"
   ]
  },
  {
   "cell_type": "code",
   "execution_count": null,
   "metadata": {},
   "outputs": [],
   "source": [
    "errs = []\n",
    "model = TSNNnestADA(indims = 3,nodes = [40,40,40,40,3], activation = 'tanh', taskType = 'c')\n",
    "for i in range(0,10):\n",
    "    for j in range(0,X.shape[0]):\n",
    "        model.train(X[j,].reshape(1,3),Y[j,].reshape(1,3),epochs = 1, lr = .001, mu = .92)\n",
    "        model.predict(X)\n",
    "        errs.append(GCEC(Y,model.probabilities))\n",
    "        if accuracy(model.prediction,Y) == 1.0:\n",
    "            print((1+j)*(1+i))\n",
    "            break"
   ]
  },
  {
   "cell_type": "code",
   "execution_count": null,
   "metadata": {},
   "outputs": [],
   "source": [
    "plt.plot(errs)"
   ]
  },
  {
   "cell_type": "code",
   "execution_count": 7,
   "metadata": {},
   "outputs": [],
   "source": [
    "adammodel = NeuralNetwork(indims = 3,nodes = [40,40,40,40,3], activations = ['relu','relu','relu','relu'],adam = 1, taskType = 'c')"
   ]
  },
  {
   "cell_type": "code",
   "execution_count": 16,
   "metadata": {},
   "outputs": [
    {
     "data": {
      "image/png": "[encoded data removed]",
      "text/plain": [
       "<Figure size 432x288 with 1 Axes>"
      ]
     },
     "metadata": {
      "needs_background": "light"
     },
     "output_type": "display_data"
    }
   ],
   "source": [
    "adammodel.train(X,Y, epochs = 100, lr = .001, moment = .9,gamma =.9)"
   ]
  }
 ],
 "metadata": {
  "kernelspec": {
   "display_name": "Python 3",
   "language": "python",
   "name": "python3"
  },
  "language_info": {
   "codemirror_mode": {
    "name": "ipython",
    "version": 3
   },
   "file_extension": ".py",
   "mimetype": "text/x-python",
   "name": "python",
   "nbconvert_exporter": "python",
   "pygments_lexer": "ipython3",
   "version": "3.7.1"
  }
 },
 "nbformat": 4,
 "nbformat_minor": 2
}
