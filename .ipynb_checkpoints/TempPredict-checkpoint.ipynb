{
 "cells": [
  {
   "cell_type": "markdown",
   "metadata": {},
   "source": [
    "# Temperature Prediction"
   ]
  },
  {
   "cell_type": "markdown",
   "metadata": {},
   "source": [
    "Our goal is to get as accurate of a prediction of temperatures as we can."
   ]
  },
  {
   "cell_type": "code",
   "execution_count": 24,
   "metadata": {},
   "outputs": [
    {
     "name": "stderr",
     "output_type": "stream",
     "text": [
      "/home/donald/anaconda3/lib/python3.7/site-packages/ipykernel_launcher.py:4: FutureWarning: Method .as_matrix will be removed in a future version. Use .values instead.\n",
      "  after removing the cwd from sys.path.\n"
     ]
    }
   ],
   "source": [
    "# This block loads the relevant packages, and loads the data \n",
    "# into memory.\n",
    "import numpy as np\n",
    "import pandas as pd\n",
    "\n",
    "data = pd.read_csv(\"Data.csv\").as_matrix()\n"
   ]
  },
  {
   "cell_type": "code",
   "execution_count": 108,
   "metadata": {},
   "outputs": [],
   "source": [
    "# This block of code makes a testing, training, \n",
    "# and validation set.\n",
    "# 70% of the number of rows is 14884.0999... so I rounded up.\n",
    "trainnums = np.random.choice(\n",
    "    data.shape[0],14885, replace = False)\n",
    "\n",
    "# This takes finds the numbers that aren't in the list of \n",
    "# training indices.\n",
    "tvnums = [i for i in range(0,len(data)) if i not in trainnums]\n",
    "\n",
    "# This guy makes the training set with the indices from\n",
    "# trainnums.\n",
    "train = data[trainnums,]\n",
    "\n",
    "# Intermediate storage for everything that's not training data.\n",
    "tv = data[tvnums,]\n",
    "\n",
    "# Does the same things we did before to split the test and \n",
    "# training set.\n",
    "testnums = np.random.choice(\n",
    "    tv.shape[0],3189, replace = False)\n",
    "valnums = [i for i in range(0,len(tv)) if i not in testnums]\n",
    "test = data[testnums,]\n",
    "val = data[valnums,]"
   ]
  },
  {
   "cell_type": "markdown",
   "metadata": {},
   "source": [
    "Now that we have our three data sets we can actually get straight into some prediction, since this data is conveniently all numeric and therefore doesn't require munging. We are also going to forget about our validation set for a while and our test set for even longer."
   ]
  },
  {
   "cell_type": "code",
   "execution_count": 109,
   "metadata": {},
   "outputs": [],
   "source": [
    "# This block separates the training set into features and \n",
    "# Y's, then does some linear regression.\n",
    "Y = train[:,len(train[1,])-1]\n",
    "X = train[:,0:81]\n",
    "dummy = np.ones(len(X)).T\n",
    "# Does the transformations on X.\n",
    "Phi = np.column_stack((dummy,X, X**2, X**3, np.sin(X)))\n",
    "\n",
    "# Solves for the coefficients.\n",
    "w = np.linalg.inv(Phi.T.dot(Phi)).dot(Phi.T).dot(Y)\n",
    "\n",
    "# R-squared is cool.\n",
    "R2 = 1 - (Y-Phi.dot(w)).T.dot(Y-Phi.dot(w))/(\n",
    "    Y-np.mean(Y)).T.dot(Y-np.mean(Y))\n"
   ]
  },
  {
   "cell_type": "markdown",
   "metadata": {},
   "source": [
    "Now we are going to remember that we have a validation set and try to use it to make our model predict things that it doesn't know about better. You can tell from that last sentence that I English well."
   ]
  },
  {
   "cell_type": "code",
   "execution_count": 110,
   "metadata": {},
   "outputs": [
    {
     "name": "stdout",
     "output_type": "stream",
     "text": [
      "0.07818183503738586\n"
     ]
    },
    {
     "data": {
      "text/plain": [
       "12.992412120010158"
      ]
     },
     "execution_count": 110,
     "metadata": {},
     "output_type": "execute_result"
    }
   ],
   "source": [
    "Yval = val[:,len(val[1,])-1]\n",
    "Xval = val[:,0:81]\n",
    "dummyval = np.ones(len(Xval)).T\n",
    "Phival = np.column_stack((dummyval, Xval, Xval**2,Xval**3,np.sin(Xval)))\n",
    "\n",
    "Err = Yval - Phival.dot(w)\n",
    "print(np.mean(Err))\n",
    "np.median(np.absolute(Err))"
   ]
  },
  {
   "cell_type": "code",
   "execution_count": 111,
   "metadata": {},
   "outputs": [
    {
     "name": "stdout",
     "output_type": "stream",
     "text": [
      "0.7927902439831729\n"
     ]
    },
    {
     "data": {
      "text/plain": [
       "17.184480392601746"
      ]
     },
     "execution_count": 111,
     "metadata": {},
     "output_type": "execute_result"
    }
   ],
   "source": [
    "# This block separates the training set into features and \n",
    "# Y's, then does some linear regression.\n",
    "Y = train[:,len(train[1,])-1]\n",
    "X = train[:,0:81]\n",
    "dummy = np.ones(len(X)).T\n",
    "# Does the transformations on X.\n",
    "Phi = np.column_stack((dummy,X))\n",
    "\n",
    "# Solves for the coefficients.\n",
    "w = np.linalg.inv(Phi.T.dot(Phi)).dot(Phi.T).dot(Y)\n",
    "\n",
    "# R-squared is cool.\n",
    "R2 = 1 - (Y-Phi.dot(w)).T.dot(Y-Phi.dot(w))/(\n",
    "    Y-np.mean(Y)).T.dot(Y-np.mean(Y))\n",
    "\n",
    "Yval = val[:,len(val[1,])-1]\n",
    "Xval = val[:,0:81]\n",
    "dummyval = np.ones(len(Xval)).T\n",
    "Phival = np.column_stack((dummyval, Xval))\n",
    "\n",
    "Err = Yval - Phival.dot(w)\n",
    "print(np.mean(Err))\n",
    "np.median(np.absolute(Err))"
   ]
  },
  {
   "cell_type": "code",
   "execution_count": 112,
   "metadata": {},
   "outputs": [
    {
     "name": "stdout",
     "output_type": "stream",
     "text": [
      "0.16898619105129162\n"
     ]
    },
    {
     "data": {
      "text/plain": [
       "14.984631203181472"
      ]
     },
     "execution_count": 112,
     "metadata": {},
     "output_type": "execute_result"
    }
   ],
   "source": [
    "# This block separates the training set into features and \n",
    "# Y's, then does some linear regression.\n",
    "Y = train[:,len(train[1,])-1]\n",
    "X = train[:,0:81]\n",
    "dummy = np.ones(len(X)).T\n",
    "# Does the transformations on X.\n",
    "Phi = np.column_stack((dummy,X,X**2))\n",
    "\n",
    "# Solves for the coefficients.\n",
    "w = np.linalg.inv(Phi.T.dot(Phi)).dot(Phi.T).dot(Y)\n",
    "\n",
    "# R-squared is cool.\n",
    "R2 = 1 - (Y-Phi.dot(w)).T.dot(Y-Phi.dot(w))/(\n",
    "    Y-np.mean(Y)).T.dot(Y-np.mean(Y))\n",
    "\n",
    "Yval = val[:,len(val[1,])-1]\n",
    "Xval = val[:,0:81]\n",
    "dummyval = np.ones(len(Xval)).T\n",
    "Phival = np.column_stack((dummyval, Xval,Xval**2))\n",
    "\n",
    "Err = Yval - Phival.dot(w)\n",
    "print(np.mean(Err))\n",
    "np.median(np.absolute(Err))"
   ]
  },
  {
   "cell_type": "code",
   "execution_count": 113,
   "metadata": {},
   "outputs": [
    {
     "name": "stdout",
     "output_type": "stream",
     "text": [
      "0.08167238473078045\n"
     ]
    },
    {
     "data": {
      "text/plain": [
       "15.065959796826974"
      ]
     },
     "execution_count": 113,
     "metadata": {},
     "output_type": "execute_result"
    }
   ],
   "source": [
    "# This block separates the training set into features and \n",
    "# Y's, then does some linear regression.\n",
    "Y = train[:,len(train[1,])-1]\n",
    "X = train[:,0:81]\n",
    "dummy = np.ones(len(X)).T\n",
    "# Does the transformations on X.\n",
    "Phi = np.column_stack((dummy,X,X**3))\n",
    "\n",
    "# Solves for the coefficients.\n",
    "w = np.linalg.inv(Phi.T.dot(Phi)).dot(Phi.T).dot(Y)\n",
    "\n",
    "# R-squared is cool.\n",
    "R2 = 1 - (Y-Phi.dot(w)).T.dot(Y-Phi.dot(w))/(\n",
    "    Y-np.mean(Y)).T.dot(Y-np.mean(Y))\n",
    "\n",
    "Yval = val[:,len(val[1,])-1]\n",
    "Xval = val[:,0:81]\n",
    "dummyval = np.ones(len(Xval)).T\n",
    "Phival = np.column_stack((dummyval, Xval,Xval**3))\n",
    "\n",
    "Err = Yval - Phival.dot(w)\n",
    "print(np.mean(Err))\n",
    "np.median(np.absolute(Err))"
   ]
  },
  {
   "cell_type": "code",
   "execution_count": 114,
   "metadata": {},
   "outputs": [
    {
     "name": "stdout",
     "output_type": "stream",
     "text": [
      "0.512505408452389\n"
     ]
    },
    {
     "data": {
      "text/plain": [
       "14.936047179080262"
      ]
     },
     "execution_count": 114,
     "metadata": {},
     "output_type": "execute_result"
    }
   ],
   "source": [
    "# This block separates the training set into features and \n",
    "# Y's, then does some linear regression.\n",
    "Y = train[:,len(train[1,])-1]\n",
    "X = train[:,0:81]\n",
    "dummy = np.ones(len(X)).T\n",
    "# Does the transformations on X.\n",
    "Phi = np.column_stack((dummy,X,np.sin(X)))\n",
    "\n",
    "# Solves for the coefficients.\n",
    "w = np.linalg.inv(Phi.T.dot(Phi)).dot(Phi.T).dot(Y)\n",
    "\n",
    "# R-squared is cool.\n",
    "R2 = 1 - (Y-Phi.dot(w)).T.dot(Y-Phi.dot(w))/(\n",
    "    Y-np.mean(Y)).T.dot(Y-np.mean(Y))\n",
    "\n",
    "Yval = val[:,len(val[1,])-1]\n",
    "Xval = val[:,0:81]\n",
    "dummyval = np.ones(len(Xval)).T\n",
    "Phival = np.column_stack((dummyval, Xval, np.sin(Xval)))\n",
    "\n",
    "Err = Yval - Phival.dot(w)\n",
    "print(np.mean(Err))\n",
    "np.median(np.absolute(Err))"
   ]
  },
  {
   "cell_type": "code",
   "execution_count": 116,
   "metadata": {},
   "outputs": [
    {
     "name": "stdout",
     "output_type": "stream",
     "text": [
      "0.09171769214585727\n"
     ]
    },
    {
     "data": {
      "text/plain": [
       "13.538631466805418"
      ]
     },
     "execution_count": 116,
     "metadata": {},
     "output_type": "execute_result"
    }
   ],
   "source": [
    "# This block separates the training set into features and \n",
    "# Y's, then does some linear regression.\n",
    "Y = train[:,len(train[1,])-1]\n",
    "X = train[:,0:81]\n",
    "dummy = np.ones(len(X)).T\n",
    "# Does the transformations on X.\n",
    "Phi = np.column_stack((dummy,X,X**2,np.sin(X)))\n",
    "\n",
    "# Solves for the coefficients.\n",
    "w = np.linalg.inv(Phi.T.dot(Phi)).dot(Phi.T).dot(Y)\n",
    "\n",
    "# R-squared is cool.\n",
    "R2 = 1 - (Y-Phi.dot(w)).T.dot(Y-Phi.dot(w))/(\n",
    "    Y-np.mean(Y)).T.dot(Y-np.mean(Y))\n",
    "\n",
    "Yval = val[:,len(val[1,])-1]\n",
    "Xval = val[:,0:81]\n",
    "dummyval = np.ones(len(Xval)).T\n",
    "Phival = np.column_stack((dummyval, Xval,Xval**2, np.sin(Xval)))\n",
    "\n",
    "Err = Yval - Phival.dot(w)\n",
    "print(np.mean(Err))\n",
    "np.median(np.absolute(Err))"
   ]
  },
  {
   "cell_type": "code",
   "execution_count": 117,
   "metadata": {},
   "outputs": [
    {
     "name": "stdout",
     "output_type": "stream",
     "text": [
      "0.10181966935625714\n"
     ]
    },
    {
     "data": {
      "text/plain": [
       "12.05506441972393"
      ]
     },
     "execution_count": 117,
     "metadata": {},
     "output_type": "execute_result"
    }
   ],
   "source": [
    "# This block separates the training set into features and \n",
    "# Y's, then does some linear regression.\n",
    "Y = train[:,len(train[1,])-1]\n",
    "X = train[:,0:81]\n",
    "dummy = np.ones(len(X)).T\n",
    "# Does the transformations on X.\n",
    "Phi = np.column_stack((dummy,X,X**2,X**3,np.sin(X),np.cos(X)))\n",
    "\n",
    "# Solves for the coefficients.\n",
    "w = np.linalg.inv(Phi.T.dot(Phi)).dot(Phi.T).dot(Y)\n",
    "\n",
    "# R-squared is cool.\n",
    "R2 = 1 - (Y-Phi.dot(w)).T.dot(Y-Phi.dot(w))/(\n",
    "    Y-np.mean(Y)).T.dot(Y-np.mean(Y))\n",
    "\n",
    "Yval = val[:,len(val[1,])-1]\n",
    "Xval = val[:,0:81]\n",
    "dummyval = np.ones(len(Xval)).T\n",
    "Phival = np.column_stack((dummyval, Xval,Xval**2,Xval**3, np.sin(Xval),np.cos(Xval)))\n",
    "\n",
    "Err = Yval - Phival.dot(w)\n",
    "print(np.mean(Err))\n",
    "np.median(np.absolute(Err))"
   ]
  },
  {
   "cell_type": "code",
   "execution_count": 118,
   "metadata": {},
   "outputs": [
    {
     "name": "stdout",
     "output_type": "stream",
     "text": [
      "0.09593227827771844\n"
     ]
    },
    {
     "data": {
      "text/plain": [
       "11.574954377254471"
      ]
     },
     "execution_count": 118,
     "metadata": {},
     "output_type": "execute_result"
    }
   ],
   "source": [
    "# This block separates the training set into features and \n",
    "# Y's, then does some linear regression.\n",
    "Y = train[:,len(train[1,])-1]\n",
    "X = train[:,0:81]\n",
    "dummy = np.ones(len(X)).T\n",
    "# Does the transformations on X.\n",
    "Phi = np.column_stack((dummy,X,X**2,X**3,np.sin(X),np.cos(X),np.sin(X**2)))\n",
    "\n",
    "# Solves for the coefficients.\n",
    "w = np.linalg.inv(Phi.T.dot(Phi)).dot(Phi.T).dot(Y)\n",
    "\n",
    "# R-squared is cool.\n",
    "R2 = 1 - (Y-Phi.dot(w)).T.dot(Y-Phi.dot(w))/(\n",
    "    Y-np.mean(Y)).T.dot(Y-np.mean(Y))\n",
    "\n",
    "Yval = val[:,len(val[1,])-1]\n",
    "Xval = val[:,0:81]\n",
    "dummyval = np.ones(len(Xval)).T\n",
    "Phival = np.column_stack((dummyval, Xval,Xval**2,Xval**3, np.sin(Xval),np.cos(Xval),np.sin(Xval**2)))\n",
    "\n",
    "Err = Yval - Phival.dot(w)\n",
    "print(np.mean(Err))\n",
    "np.median(np.absolute(Err))"
   ]
  },
  {
   "cell_type": "code",
   "execution_count": 119,
   "metadata": {},
   "outputs": [
    {
     "name": "stdout",
     "output_type": "stream",
     "text": [
      "220.42445024384298\n"
     ]
    },
    {
     "data": {
      "text/plain": [
       "671.5497514372692"
      ]
     },
     "execution_count": 119,
     "metadata": {},
     "output_type": "execute_result"
    }
   ],
   "source": [
    "# This block separates the training set into features and \n",
    "# Y's, then does some linear regression.\n",
    "Y = train[:,len(train[1,])-1]\n",
    "X = train[:,0:81]\n",
    "dummy = np.ones(len(X)).T\n",
    "# Does the transformations on X.\n",
    "Phi = np.column_stack((dummy,X,X**2,X**3,np.sin(X),np.cos(X),np.sin(X**2),np.cos(X**2)))\n",
    "\n",
    "# Solves for the coefficients.\n",
    "w = np.linalg.inv(Phi.T.dot(Phi)).dot(Phi.T).dot(Y)\n",
    "\n",
    "# R-squared is cool.\n",
    "R2 = 1 - (Y-Phi.dot(w)).T.dot(Y-Phi.dot(w))/(\n",
    "    Y-np.mean(Y)).T.dot(Y-np.mean(Y))\n",
    "\n",
    "Yval = val[:,len(val[1,])-1]\n",
    "Xval = val[:,0:81]\n",
    "dummyval = np.ones(len(Xval)).T\n",
    "Phival = np.column_stack((dummyval, Xval,Xval**2,Xval**3, np.sin(Xval),np.cos(Xval),np.sin(Xval**2),np.cos(Xval**2)))\n",
    "\n",
    "Err = Yval - Phival.dot(w)\n",
    "print(np.mean(Err))\n",
    "np.median(np.absolute(Err))"
   ]
  },
  {
   "cell_type": "code",
   "execution_count": 121,
   "metadata": {},
   "outputs": [
    {
     "name": "stdout",
     "output_type": "stream",
     "text": [
      "0.02830684039772881\n"
     ]
    },
    {
     "data": {
      "text/plain": [
       "12.424971073862253"
      ]
     },
     "execution_count": 121,
     "metadata": {},
     "output_type": "execute_result"
    }
   ],
   "source": [
    "# This block separates the training set into features and \n",
    "# Y's, then does some linear regression.\n",
    "Y = train[:,len(train[1,])-1]\n",
    "X = train[:,0:81]\n",
    "dummy = np.ones(len(X)).T\n",
    "# Does the transformations on X.\n",
    "Phi = np.column_stack((dummy,X,X**2,X**3,np.sin(X),np.sin(X**2)))\n",
    "\n",
    "# Solves for the coefficients.\n",
    "w = np.linalg.inv(Phi.T.dot(Phi)).dot(Phi.T).dot(Y)\n",
    "\n",
    "# R-squared is cool.\n",
    "R2 = 1 - (Y-Phi.dot(w)).T.dot(Y-Phi.dot(w))/(\n",
    "    Y-np.mean(Y)).T.dot(Y-np.mean(Y))\n",
    "\n",
    "Yval = val[:,len(val[1,])-1]\n",
    "Xval = val[:,0:81]\n",
    "dummyval = np.ones(len(Xval)).T\n",
    "Phival = np.column_stack((dummyval, Xval,Xval**2,Xval**3, np.sin(Xval),np.sin(Xval**2)))\n",
    "\n",
    "Err = Yval - Phival.dot(w)\n",
    "print(np.mean(Err))\n",
    "np.median(np.absolute(Err))"
   ]
  },
  {
   "cell_type": "code",
   "execution_count": 122,
   "metadata": {},
   "outputs": [
    {
     "name": "stdout",
     "output_type": "stream",
     "text": [
      "-63.1345868590516\n"
     ]
    },
    {
     "data": {
      "text/plain": [
       "276.7218700126279"
      ]
     },
     "execution_count": 122,
     "metadata": {},
     "output_type": "execute_result"
    }
   ],
   "source": [
    "# This block separates the training set into features and \n",
    "# Y's, then does some linear regression.\n",
    "Y = train[:,len(train[1,])-1]\n",
    "X = train[:,0:81]\n",
    "dummy = np.ones(len(X)).T\n",
    "# Does the transformations on X.\n",
    "Phi = np.column_stack((dummy,X,X**2,X**3,X**4,np.sin(X),np.cos(X),np.sin(X**2)))\n",
    "\n",
    "# Solves for the coefficients.\n",
    "w = np.linalg.inv(Phi.T.dot(Phi)).dot(Phi.T).dot(Y)\n",
    "\n",
    "# R-squared is cool.\n",
    "R2 = 1 - (Y-Phi.dot(w)).T.dot(Y-Phi.dot(w))/(\n",
    "    Y-np.mean(Y)).T.dot(Y-np.mean(Y))\n",
    "\n",
    "Yval = val[:,len(val[1,])-1]\n",
    "Xval = val[:,0:81]\n",
    "dummyval = np.ones(len(Xval)).T\n",
    "Phival = np.column_stack((dummyval, Xval,Xval**2,Xval**3,Xval**4, np.sin(Xval),np.cos(Xval),np.sin(Xval**2)))\n",
    "\n",
    "Err = Yval - Phival.dot(w)\n",
    "print(np.mean(Err))\n",
    "np.median(np.absolute(Err))"
   ]
  },
  {
   "cell_type": "markdown",
   "metadata": {},
   "source": [
    "After much ado, we finally get to the part that we've been waiting for! Using the test data."
   ]
  },
  {
   "cell_type": "code",
   "execution_count": 123,
   "metadata": {},
   "outputs": [
    {
     "name": "stdout",
     "output_type": "stream",
     "text": [
      "0.14422788516050075\n"
     ]
    },
    {
     "data": {
      "text/plain": [
       "11.826889914344065"
      ]
     },
     "execution_count": 123,
     "metadata": {},
     "output_type": "execute_result"
    }
   ],
   "source": [
    "# This block separates the training set into features and \n",
    "# Y's, then does some linear regression.\n",
    "Y = train[:,len(train[1,])-1]\n",
    "X = train[:,0:81]\n",
    "dummy = np.ones(len(X)).T\n",
    "# Does the transformations on X.\n",
    "Phi = np.column_stack((dummy,X,X**2,X**3,np.sin(X),np.cos(X),np.sin(X**2)))\n",
    "\n",
    "# Solves for the coefficients.\n",
    "w = np.linalg.inv(Phi.T.dot(Phi)).dot(Phi.T).dot(Y)\n",
    "\n",
    "# R-squared is cool.\n",
    "R2 = 1 - (Y-Phi.dot(w)).T.dot(Y-Phi.dot(w))/(\n",
    "    Y-np.mean(Y)).T.dot(Y-np.mean(Y))\n",
    "\n",
    "Ytest = test[:,len(test[1,])-1]\n",
    "Xtest = test[:,0:81]\n",
    "dummytest = np.ones(len(Xtest)).T\n",
    "Phitest = np.column_stack((dummytest, Xtest,Xtest**2,Xtest**3, np.sin(Xtest),np.cos(Xtest),np.sin(Xtest**2)))\n",
    "\n",
    "Err = Ytest - Phitest.dot(w)\n",
    "print(np.mean(Err))\n",
    "np.median(np.absolute(Err))"
   ]
  }
 ],
 "metadata": {
  "kernelspec": {
   "display_name": "Python 3",
   "language": "python",
   "name": "python3"
  },
  "language_info": {
   "codemirror_mode": {
    "name": "ipython",
    "version": 3
   },
   "file_extension": ".py",
   "mimetype": "text/x-python",
   "name": "python",
   "nbconvert_exporter": "python",
   "pygments_lexer": "ipython3",
   "version": "3.7.1"
  }
 },
 "nbformat": 4,
 "nbformat_minor": 2
}
