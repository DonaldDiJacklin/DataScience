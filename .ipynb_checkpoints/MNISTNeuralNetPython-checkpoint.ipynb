{
 "cells": [
  {
   "cell_type": "code",
   "execution_count": 1,
   "metadata": {},
   "outputs": [],
   "source": [
    "import numpy as np\n",
    "import matplotlib.pyplot as plt\n",
    "import pandas as pd"
   ]
  },
  {
   "cell_type": "code",
   "execution_count": 2,
   "metadata": {},
   "outputs": [],
   "source": [
    "def softmax(matrix):\n",
    "    return np.exp(matrix)/np.sum(np.exp(matrix), axis = 1).reshape(len(matrix[:,0]),1)"
   ]
  },
  {
   "cell_type": "code",
   "execution_count": 3,
   "metadata": {},
   "outputs": [
    {
     "name": "stderr",
     "output_type": "stream",
     "text": [
      "/home/donald/anaconda3/lib/python3.7/site-packages/ipykernel_launcher.py:1: FutureWarning: Method .as_matrix will be removed in a future version. Use .values instead.\n",
      "  \"\"\"Entry point for launching an IPython kernel.\n"
     ]
    }
   ],
   "source": [
    "data = pd.read_csv('fashion-mnist_train.csv').as_matrix()"
   ]
  },
  {
   "cell_type": "code",
   "execution_count": 4,
   "metadata": {},
   "outputs": [],
   "source": [
    "def oneHotEncode(matrix, columns):\n",
    "    for column in columns:\n",
    "        uniques = np.unique(matrix[:,column])\n",
    "        newmat = np.zeros((len(matrix[:,column]),len(uniques)))\n",
    "\n",
    "        for i in range(0,len(matrix[:,column])):\n",
    "            for j in range(0,len(uniques)):\n",
    "                if(matrix[i,column] == uniques[j]):\n",
    "                    newmat[i,j] = 1\n",
    "        matrix = np.column_stack((matrix,newmat))\n",
    "    try:\n",
    "        matrix = np.delete(matrix,columns,axis = 1).astype(float)\n",
    "    except:\n",
    "        matrix = np.delete(matrix,columns,axis = 1)\n",
    "    return matrix\n",
    "newdata = oneHotEncode(data,[0])"
   ]
  },
  {
   "cell_type": "code",
   "execution_count": null,
   "metadata": {},
   "outputs": [],
   "source": []
  },
  {
   "cell_type": "code",
   "execution_count": 5,
   "metadata": {},
   "outputs": [],
   "source": [
    "def TVTsplit(matrix, train = .7):\n",
    "    #     This function's purpose is to split a given matrix\n",
    "    #     into three parts: train, test, and validate. The \n",
    "    #     train parameter is the percentage of the data that\n",
    "    #     goes into training 70% by default. The val parameter\n",
    "    #     determines how much goes into the validation set\n",
    "    #     15% by default. The rest of the data goes into\n",
    "    #     the test set.\n",
    "    \n",
    "#     The following is needed to perform the operations\n",
    "#     in the calculations in here.\n",
    "    import numpy as np\n",
    "    # The following does some common sense things like\n",
    "    # telling you that train and val need to add up to less\n",
    "    # than 1.\n",
    "\n",
    "    if(train > .99):\n",
    "        print(\"Splitting failed. Please make sure that train is less than .99 so that test and val have enough data.\")\n",
    "        return 0\n",
    "    \n",
    "#     These two things calculate the subset lengths that \n",
    "#     are needed for the subsetting.\n",
    "    splitnum = int(len(matrix[:,0])*train)\n",
    "    splitnum2 = int((len(matrix[:,0]) - splitnum)/2)\n",
    "#     np.random.shuffle(matrix)\n",
    "\n",
    "#     The next three separate the data into the three sets\n",
    "#     using the splitnums from above.\n",
    "    Train = matrix[0:splitnum,]\n",
    "    Test = matrix[splitnum:(splitnum+splitnum2),]\n",
    "    Val = matrix[(splitnum+splitnum2):,]\n",
    "    return Train, Val, Test"
   ]
  },
  {
   "cell_type": "code",
   "execution_count": 124,
   "metadata": {},
   "outputs": [],
   "source": [
    "train,val,test = TVTsplit(newdata)"
   ]
  },
  {
   "cell_type": "code",
   "execution_count": 135,
   "metadata": {},
   "outputs": [],
   "source": [
    "Ytrain = train[:,(len(train[0,])-10):]\n",
    "Xtrain = train[:,:(len(train[0,])-10)]\n",
    "Yval = val[:,(len(val[0,])-10):]\n",
    "Xval = val[:,:(len(val[0,])-10)]\n",
    "Ytest = test[:,(len(test[0,])-10):]\n",
    "Xtest = test[:,:(len(test[0,])-10)]"
   ]
  },
  {
   "cell_type": "code",
   "execution_count": null,
   "metadata": {},
   "outputs": [],
   "source": []
  },
  {
   "cell_type": "code",
   "execution_count": 136,
   "metadata": {},
   "outputs": [],
   "source": [
    "def asnumeric(x):\n",
    "    return list(map(float,x))\n",
    "\n",
    "Xtrain = np.matrix(list(map(asnumeric,Xtrain.T))).T\n",
    "Xval = np.matrix(list(map(asnumeric,Xval.T))).T\n",
    "Xtest = np.matrix(list(map(asnumeric,Xtest.T))).T"
   ]
  },
  {
   "cell_type": "code",
   "execution_count": 137,
   "metadata": {},
   "outputs": [],
   "source": [
    "trainmins = np.array(list(map(np.nanmin,Xtrain.T)))\n",
    "trainmaxs = np.array(list(map(np.nanmax,Xtrain.T)))"
   ]
  },
  {
   "cell_type": "code",
   "execution_count": 138,
   "metadata": {},
   "outputs": [],
   "source": [
    "for i in range(0,784):\n",
    "    Xtrain[:,i] = (Xtrain[:,i] - trainmins[i])/(trainmaxs[i]-trainmins[i])\n",
    "    Xval[:,i] = (Xval[:,i] - trainmins[i])/(trainmaxs[i]-trainmins[i])\n",
    "    Xtest[:,i] = (Xtest[:,i] - trainmins[i])/(trainmaxs[i]-trainmins[i])\n"
   ]
  },
  {
   "cell_type": "code",
   "execution_count": 333,
   "metadata": {},
   "outputs": [
    {
     "name": "stdout",
     "output_type": "stream",
     "text": [
      "0.9694\n"
     ]
    },
    {
     "data": {
      "text/plain": [
       "0.8205555555555556"
      ]
     },
     "execution_count": 333,
     "metadata": {},
     "output_type": "execute_result"
    },
    {
     "data": {
      "image/png": "[encoded data removed]",
      "text/plain": [
       "<Figure size 432x288 with 1 Axes>"
      ]
     },
     "metadata": {
      "needs_background": "light"
     },
     "output_type": "display_data"
    }
   ],
   "source": [
    "# w = np.random.randn(784*10)\n",
    "# w = np.matrix(w).reshape(784,10)\n",
    "inds = []\n",
    "\n",
    "# for i in range(0)\n",
    "cost = []\n",
    "# wbest = w\n",
    "w = wbest\n",
    "# errbest = 100000\n",
    "for i in range(0,3000):\n",
    "    w = w - .0000055*Xtrain.T@(softmax(Xtrain@w) - Ytrain)\n",
    "    CEC = -np.sum(np.multiply(Yval,np.log(softmax(Xval@w))))\n",
    "    inds.append(i)\n",
    "    cost.append(CEC)\n",
    "    if(CEC<errbest):\n",
    "        errbest = CEC\n",
    "        wbest = w\n",
    "plt.scatter(inds,cost)\n",
    "print(np.mean(np.rint(softmax(Xval@w)) == Yval))\n",
    "np.sum(np.multiply(np.rint(softmax(Xval@w)),Yval))/np.sum(Yval)"
   ]
  },
  {
   "cell_type": "code",
   "execution_count": 334,
   "metadata": {},
   "outputs": [
    {
     "name": "stderr",
     "output_type": "stream",
     "text": [
      "/home/donald/anaconda3/lib/python3.7/site-packages/ipykernel_launcher.py:1: FutureWarning: Method .as_matrix will be removed in a future version. Use .values instead.\n",
      "  \"\"\"Entry point for launching an IPython kernel.\n"
     ]
    }
   ],
   "source": [
    "testdata = pd.read_csv('fashion-mnist_test.csv').as_matrix()"
   ]
  },
  {
   "cell_type": "code",
   "execution_count": 335,
   "metadata": {},
   "outputs": [],
   "source": [
    "newtestdata = oneHotEncode(testdata,[0])"
   ]
  },
  {
   "cell_type": "code",
   "execution_count": 336,
   "metadata": {},
   "outputs": [],
   "source": [
    "Ynew = newtestdata[:,(len(newtestdata[0,])-10):]\n",
    "Xnew = newtestdata[:,:(len(newtestdata[0,])-10)]"
   ]
  },
  {
   "cell_type": "code",
   "execution_count": 338,
   "metadata": {},
   "outputs": [],
   "source": [
    "Xnew = np.matrix(list(map(asnumeric,Xnew.T))).T"
   ]
  },
  {
   "cell_type": "code",
   "execution_count": 339,
   "metadata": {},
   "outputs": [],
   "source": [
    "for i in range(0,784):\n",
    "    Xnew[:,i] = (Xnew[:,i] - trainmins[i])/(trainmaxs[i]-trainmins[i])"
   ]
  },
  {
   "cell_type": "code",
   "execution_count": 343,
   "metadata": {},
   "outputs": [
    {
     "name": "stdout",
     "output_type": "stream",
     "text": [
      "0.96996\n"
     ]
    },
    {
     "data": {
      "text/plain": [
       "0.8235"
      ]
     },
     "execution_count": 343,
     "metadata": {},
     "output_type": "execute_result"
    }
   ],
   "source": [
    "print(np.mean(np.rint(softmax(Xnew@w)) == Ynew))\n",
    "np.sum(np.multiply(np.rint(softmax(Xnew@w)),Ynew))/np.sum(Ynew)"
   ]
  }
 ],
 "metadata": {
  "kernelspec": {
   "display_name": "Python 3",
   "language": "python",
   "name": "python3"
  },
  "language_info": {
   "codemirror_mode": {
    "name": "ipython",
    "version": 3
   },
   "file_extension": ".py",
   "mimetype": "text/x-python",
   "name": "python",
   "nbconvert_exporter": "python",
   "pygments_lexer": "ipython3",
   "version": "3.7.1"
  }
 },
 "nbformat": 4,
 "nbformat_minor": 2
}
