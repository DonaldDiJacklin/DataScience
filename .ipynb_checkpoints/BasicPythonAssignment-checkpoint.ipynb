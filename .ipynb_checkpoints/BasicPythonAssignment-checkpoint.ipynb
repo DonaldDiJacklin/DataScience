{
 "cells": [
  {
   "cell_type": "markdown",
   "metadata": {},
   "source": [
    "### Import numpy library as np"
   ]
  },
  {
   "cell_type": "code",
   "execution_count": 1,
   "metadata": {},
   "outputs": [],
   "source": [
    "# As is usually the case when starting a new program, one needs to import packages.\n",
    "import numpy as np"
   ]
  },
  {
   "cell_type": "markdown",
   "metadata": {},
   "source": [
    "### Look up the documentation of the function \"linspace\" in the numpy library"
   ]
  },
  {
   "cell_type": "code",
   "execution_count": 2,
   "metadata": {},
   "outputs": [
    {
     "name": "stdout",
     "output_type": "stream",
     "text": [
      "Help on function linspace in module numpy.core.function_base:\n",
      "\n",
      "linspace(start, stop, num=50, endpoint=True, retstep=False, dtype=None)\n",
      "    Return evenly spaced numbers over a specified interval.\n",
      "    \n",
      "    Returns `num` evenly spaced samples, calculated over the\n",
      "    interval [`start`, `stop`].\n",
      "    \n",
      "    The endpoint of the interval can optionally be excluded.\n",
      "    \n",
      "    Parameters\n",
      "    ----------\n",
      "    start : scalar\n",
      "        The starting value of the sequence.\n",
      "    stop : scalar\n",
      "        The end value of the sequence, unless `endpoint` is set to False.\n",
      "        In that case, the sequence consists of all but the last of ``num + 1``\n",
      "        evenly spaced samples, so that `stop` is excluded.  Note that the step\n",
      "        size changes when `endpoint` is False.\n",
      "    num : int, optional\n",
      "        Number of samples to generate. Default is 50. Must be non-negative.\n",
      "    endpoint : bool, optional\n",
      "        If True, `stop` is the last sample. Otherwise, it is not included.\n",
      "        Default is True.\n",
      "    retstep : bool, optional\n",
      "        If True, return (`samples`, `step`), where `step` is the spacing\n",
      "        between samples.\n",
      "    dtype : dtype, optional\n",
      "        The type of the output array.  If `dtype` is not given, infer the data\n",
      "        type from the other input arguments.\n",
      "    \n",
      "        .. versionadded:: 1.9.0\n",
      "    \n",
      "    Returns\n",
      "    -------\n",
      "    samples : ndarray\n",
      "        There are `num` equally spaced samples in the closed interval\n",
      "        ``[start, stop]`` or the half-open interval ``[start, stop)``\n",
      "        (depending on whether `endpoint` is True or False).\n",
      "    step : float, optional\n",
      "        Only returned if `retstep` is True\n",
      "    \n",
      "        Size of spacing between samples.\n",
      "    \n",
      "    \n",
      "    See Also\n",
      "    --------\n",
      "    arange : Similar to `linspace`, but uses a step size (instead of the\n",
      "             number of samples).\n",
      "    logspace : Samples uniformly distributed in log space.\n",
      "    \n",
      "    Examples\n",
      "    --------\n",
      "    >>> np.linspace(2.0, 3.0, num=5)\n",
      "    array([ 2.  ,  2.25,  2.5 ,  2.75,  3.  ])\n",
      "    >>> np.linspace(2.0, 3.0, num=5, endpoint=False)\n",
      "    array([ 2. ,  2.2,  2.4,  2.6,  2.8])\n",
      "    >>> np.linspace(2.0, 3.0, num=5, retstep=True)\n",
      "    (array([ 2.  ,  2.25,  2.5 ,  2.75,  3.  ]), 0.25)\n",
      "    \n",
      "    Graphical illustration:\n",
      "    \n",
      "    >>> import matplotlib.pyplot as plt\n",
      "    >>> N = 8\n",
      "    >>> y = np.zeros(N)\n",
      "    >>> x1 = np.linspace(0, 10, N, endpoint=True)\n",
      "    >>> x2 = np.linspace(0, 10, N, endpoint=False)\n",
      "    >>> plt.plot(x1, y, 'o')\n",
      "    [<matplotlib.lines.Line2D object at 0x...>]\n",
      "    >>> plt.plot(x2, y + 0.5, 'o')\n",
      "    [<matplotlib.lines.Line2D object at 0x...>]\n",
      "    >>> plt.ylim([-0.5, 1])\n",
      "    (-0.5, 1)\n",
      "    >>> plt.show()\n",
      "\n"
     ]
    }
   ],
   "source": [
    "# I've never seen this particular function before so perhaps some documentation would be 'help'full.\n",
    "help(np.linspace)"
   ]
  },
  {
   "cell_type": "markdown",
   "metadata": {},
   "source": [
    "### Create a Variable X, set it to $\\left[\\begin{array}{c}1\\\\2\\\\3\\end{array}\\right]$\n",
    "### Create a Variable Y, set it to  $\\left[\\begin{array}{c}2\\\\1\\\\4\\end{array}\\right]$\n",
    "### Print both X and Y\n",
    "Hint: np.array().reshape()"
   ]
  },
  {
   "cell_type": "code",
   "execution_count": 5,
   "metadata": {},
   "outputs": [
    {
     "name": "stdout",
     "output_type": "stream",
     "text": [
      "[1 2 3]\n",
      "[2 1 4]\n"
     ]
    }
   ],
   "source": [
    "# The following two lines initialize two vectors called X and Y and stores in them the transpose of [1,2,3]\n",
    "# and [2,1,4] respectively.\n",
    "X = np.transpose([1,2,3])\n",
    "Y = np.transpose([2,1,4])\n",
    "\n",
    "# It's always nice to see things when you initialize them to make sure you did it right.\n",
    "print(X)\n",
    "print(Y)"
   ]
  },
  {
   "cell_type": "markdown",
   "metadata": {},
   "source": [
    "### Calculate the matrix product of $X^TY$, store it in variable Z. \n",
    "### Print Z\n",
    "Hint: np.ndarray.T and np.ndarray.dot can be chained."
   ]
  },
  {
   "cell_type": "code",
   "execution_count": 7,
   "metadata": {},
   "outputs": [
    {
     "name": "stdout",
     "output_type": "stream",
     "text": [
      "16\n"
     ]
    }
   ],
   "source": [
    "# The following calculates the Matrix Product of X transpose and Y, which can be accomplished with a dot product\n",
    "# since they are both vectors.\n",
    "Z = np.dot(np.transpose(X),Y)\n",
    "\n",
    "# And the result of the previous calculation is printed below.\n",
    "print(Z)"
   ]
  },
  {
   "cell_type": "markdown",
   "metadata": {},
   "source": [
    "### Add 10 to every element of X, and print the result."
   ]
  },
  {
   "cell_type": "code",
   "execution_count": 8,
   "metadata": {},
   "outputs": [
    {
     "name": "stdout",
     "output_type": "stream",
     "text": [
      "[11 12 13]\n"
     ]
    }
   ],
   "source": [
    "# Supposing we wanted to know what happens if we added 10 to every element, Python is nice enough that we can just\n",
    "# add 10 to X.\n",
    "print(X+10)"
   ]
  },
  {
   "cell_type": "markdown",
   "metadata": {},
   "source": [
    "### Add noise drawn from a normal distribution to every element of Y, and print the result\n",
    "Hint: use np.random.randn(). Expected result to be the same size as Y"
   ]
  },
  {
   "cell_type": "code",
   "execution_count": 17,
   "metadata": {},
   "outputs": [
    {
     "name": "stdout",
     "output_type": "stream",
     "text": [
      "[[2.99993392 1.27773571 3.81685823]]\n"
     ]
    }
   ],
   "source": [
    "# The following creates a (1) sample of length 3, so as to be the same size as Y.\n",
    "pseudoRandomVector = np.random.randn(1,3)\n",
    "\n",
    "# Adding them together is as simple as\n",
    "print(Y+pseudoRandomVector)"
   ]
  },
  {
   "cell_type": "markdown",
   "metadata": {},
   "source": [
    "### Re Initialize X as a range of 200 equally spaced numbers between 0 and 2, with shape (200,1). Print last 20 elements of X\n",
    "Hint: np.linspace() or np.arange()"
   ]
  },
  {
   "cell_type": "code",
   "execution_count": 22,
   "metadata": {},
   "outputs": [
    {
     "name": "stdout",
     "output_type": "stream",
     "text": [
      "[1.80904523 1.81909548 1.82914573 1.83919598 1.84924623 1.85929648\n",
      " 1.86934673 1.87939698 1.88944724 1.89949749 1.90954774 1.91959799\n",
      " 1.92964824 1.93969849 1.94974874 1.95979899 1.96984925 1.9798995\n",
      " 1.98994975 2.        ]\n"
     ]
    }
   ],
   "source": [
    "# The following changes the value stored at X to be a 200 long vector of evenly spaced numbers between 0 and 2.\n",
    "X = np.linspace(0,2,200)\n",
    "\n",
    "# And of course it's nice to see what we've done, but perhaps not all 200 entries, so let's take the last 20.\n",
    "print(X[-20:])"
   ]
  },
  {
   "cell_type": "markdown",
   "metadata": {},
   "source": [
    "### Find the mean of X and print it\n",
    "Hint: np.ndarray.mean()"
   ]
  },
  {
   "cell_type": "code",
   "execution_count": 24,
   "metadata": {},
   "outputs": [
    {
     "name": "stdout",
     "output_type": "stream",
     "text": [
      "1.0000000000000002\n"
     ]
    }
   ],
   "source": [
    "# If we want to see the mean of X we can do the following.\n",
    "print(np.mean(X))"
   ]
  },
  {
   "cell_type": "markdown",
   "metadata": {},
   "source": [
    "###  Make a Variable T and set it equal to the concatenation of a column vector of just ones, and X. Print first 10 elements of T, and the count of the elements you printed\n",
    "Hint: np.hstack() and np.ones()\n",
    "Expected Output: $$\\left[\\begin{array}{c}1&t_1\\\\1&t_2\\\\.&.\\\\.&.\\\\.&.\\\\.&.\\\\1&t_{10}\\end{array}\\right]$$"
   ]
  },
  {
   "cell_type": "code",
   "execution_count": 44,
   "metadata": {},
   "outputs": [
    {
     "name": "stdout",
     "output_type": "stream",
     "text": [
      "[[1.         0.        ]\n",
      " [1.         0.01005025]\n",
      " [1.         0.0201005 ]\n",
      " [1.         0.03015075]\n",
      " [1.         0.04020101]\n",
      " [1.         0.05025126]\n",
      " [1.         0.06030151]\n",
      " [1.         0.07035176]\n",
      " [1.         0.08040201]\n",
      " [1.         0.09045226]]\n",
      "[[1.         0.        ]\n",
      " [1.         0.01005025]\n",
      " [1.         0.0201005 ]\n",
      " [1.         0.03015075]\n",
      " [1.         0.04020101]\n",
      " [1.         0.05025126]\n",
      " [1.         0.06030151]\n",
      " [1.         0.07035176]\n",
      " [1.         0.08040201]\n",
      " [1.         0.09045226]\n",
      " [1.         0.10050251]\n",
      " [1.         0.11055276]\n",
      " [1.         0.12060302]\n",
      " [1.         0.13065327]\n",
      " [1.         0.14070352]\n",
      " [1.         0.15075377]\n",
      " [1.         0.16080402]\n",
      " [1.         0.17085427]\n",
      " [1.         0.18090452]\n",
      " [1.         0.19095477]\n",
      " [1.         0.20100503]\n",
      " [1.         0.21105528]\n",
      " [1.         0.22110553]\n",
      " [1.         0.23115578]\n",
      " [1.         0.24120603]\n",
      " [1.         0.25125628]\n",
      " [1.         0.26130653]\n",
      " [1.         0.27135678]\n",
      " [1.         0.28140704]\n",
      " [1.         0.29145729]\n",
      " [1.         0.30150754]\n",
      " [1.         0.31155779]\n",
      " [1.         0.32160804]\n",
      " [1.         0.33165829]\n",
      " [1.         0.34170854]\n",
      " [1.         0.35175879]\n",
      " [1.         0.36180905]\n",
      " [1.         0.3718593 ]\n",
      " [1.         0.38190955]\n",
      " [1.         0.3919598 ]\n",
      " [1.         0.40201005]\n",
      " [1.         0.4120603 ]\n",
      " [1.         0.42211055]\n",
      " [1.         0.4321608 ]\n",
      " [1.         0.44221106]\n",
      " [1.         0.45226131]\n",
      " [1.         0.46231156]\n",
      " [1.         0.47236181]\n",
      " [1.         0.48241206]\n",
      " [1.         0.49246231]\n",
      " [1.         0.50251256]\n",
      " [1.         0.51256281]\n",
      " [1.         0.52261307]\n",
      " [1.         0.53266332]\n",
      " [1.         0.54271357]\n",
      " [1.         0.55276382]\n",
      " [1.         0.56281407]\n",
      " [1.         0.57286432]\n",
      " [1.         0.58291457]\n",
      " [1.         0.59296482]\n",
      " [1.         0.60301508]\n",
      " [1.         0.61306533]\n",
      " [1.         0.62311558]\n",
      " [1.         0.63316583]\n",
      " [1.         0.64321608]\n",
      " [1.         0.65326633]\n",
      " [1.         0.66331658]\n",
      " [1.         0.67336683]\n",
      " [1.         0.68341709]\n",
      " [1.         0.69346734]\n",
      " [1.         0.70351759]\n",
      " [1.         0.71356784]\n",
      " [1.         0.72361809]\n",
      " [1.         0.73366834]\n",
      " [1.         0.74371859]\n",
      " [1.         0.75376884]\n",
      " [1.         0.7638191 ]\n",
      " [1.         0.77386935]\n",
      " [1.         0.7839196 ]\n",
      " [1.         0.79396985]\n",
      " [1.         0.8040201 ]\n",
      " [1.         0.81407035]\n",
      " [1.         0.8241206 ]\n",
      " [1.         0.83417085]\n",
      " [1.         0.84422111]\n",
      " [1.         0.85427136]\n",
      " [1.         0.86432161]\n",
      " [1.         0.87437186]\n",
      " [1.         0.88442211]\n",
      " [1.         0.89447236]\n",
      " [1.         0.90452261]\n",
      " [1.         0.91457286]\n",
      " [1.         0.92462312]\n",
      " [1.         0.93467337]\n",
      " [1.         0.94472362]\n",
      " [1.         0.95477387]\n",
      " [1.         0.96482412]\n",
      " [1.         0.97487437]\n",
      " [1.         0.98492462]\n",
      " [1.         0.99497487]\n",
      " [1.         1.00502513]\n",
      " [1.         1.01507538]\n",
      " [1.         1.02512563]\n",
      " [1.         1.03517588]\n",
      " [1.         1.04522613]\n",
      " [1.         1.05527638]\n",
      " [1.         1.06532663]\n",
      " [1.         1.07537688]\n",
      " [1.         1.08542714]\n",
      " [1.         1.09547739]\n",
      " [1.         1.10552764]\n",
      " [1.         1.11557789]\n",
      " [1.         1.12562814]\n",
      " [1.         1.13567839]\n",
      " [1.         1.14572864]\n",
      " [1.         1.15577889]\n",
      " [1.         1.16582915]\n",
      " [1.         1.1758794 ]\n",
      " [1.         1.18592965]\n",
      " [1.         1.1959799 ]\n",
      " [1.         1.20603015]\n",
      " [1.         1.2160804 ]\n",
      " [1.         1.22613065]\n",
      " [1.         1.2361809 ]\n",
      " [1.         1.24623116]\n",
      " [1.         1.25628141]\n",
      " [1.         1.26633166]\n",
      " [1.         1.27638191]\n",
      " [1.         1.28643216]\n",
      " [1.         1.29648241]\n",
      " [1.         1.30653266]\n",
      " [1.         1.31658291]\n",
      " [1.         1.32663317]\n",
      " [1.         1.33668342]\n",
      " [1.         1.34673367]\n",
      " [1.         1.35678392]\n",
      " [1.         1.36683417]\n",
      " [1.         1.37688442]\n",
      " [1.         1.38693467]\n",
      " [1.         1.39698492]\n",
      " [1.         1.40703518]\n",
      " [1.         1.41708543]\n",
      " [1.         1.42713568]\n",
      " [1.         1.43718593]\n",
      " [1.         1.44723618]\n",
      " [1.         1.45728643]\n",
      " [1.         1.46733668]\n",
      " [1.         1.47738693]\n",
      " [1.         1.48743719]\n",
      " [1.         1.49748744]\n",
      " [1.         1.50753769]\n",
      " [1.         1.51758794]\n",
      " [1.         1.52763819]\n",
      " [1.         1.53768844]\n",
      " [1.         1.54773869]\n",
      " [1.         1.55778894]\n",
      " [1.         1.5678392 ]\n",
      " [1.         1.57788945]\n",
      " [1.         1.5879397 ]\n",
      " [1.         1.59798995]\n",
      " [1.         1.6080402 ]\n",
      " [1.         1.61809045]\n",
      " [1.         1.6281407 ]\n",
      " [1.         1.63819095]\n",
      " [1.         1.64824121]\n",
      " [1.         1.65829146]\n",
      " [1.         1.66834171]\n",
      " [1.         1.67839196]\n",
      " [1.         1.68844221]\n",
      " [1.         1.69849246]\n",
      " [1.         1.70854271]\n",
      " [1.         1.71859296]\n",
      " [1.         1.72864322]\n",
      " [1.         1.73869347]\n",
      " [1.         1.74874372]\n",
      " [1.         1.75879397]\n",
      " [1.         1.76884422]\n",
      " [1.         1.77889447]\n",
      " [1.         1.78894472]\n",
      " [1.         1.79899497]\n",
      " [1.         1.80904523]\n",
      " [1.         1.81909548]\n",
      " [1.         1.82914573]\n",
      " [1.         1.83919598]\n",
      " [1.         1.84924623]\n",
      " [1.         1.85929648]\n",
      " [1.         1.86934673]\n",
      " [1.         1.87939698]\n",
      " [1.         1.88944724]\n",
      " [1.         1.89949749]\n",
      " [1.         1.90954774]\n",
      " [1.         1.91959799]\n",
      " [1.         1.92964824]\n",
      " [1.         1.93969849]\n",
      " [1.         1.94974874]\n",
      " [1.         1.95979899]\n",
      " [1.         1.96984925]\n",
      " [1.         1.9798995 ]\n",
      " [1.         1.98994975]\n",
      " [1.         2.        ]]\n"
     ]
    }
   ],
   "source": [
    "\n",
    "T = np.column_stack((np.ones(200),X))\n",
    "print(T[0:10])"
   ]
  },
  {
   "cell_type": "markdown",
   "metadata": {},
   "source": [
    "### Re-initialize Y as: $$Y = T \\left[\\begin{array}{c}2.7\\\\9.5 \\end{array}\\right]+3.2 \\epsilon$$\n",
    "<br> \n",
    "where $\\epsilon$ is Noise, with the same dimensions as Z minus one column, sampled from a normal distribution\n",
    "### Print first 20 elements of Y"
   ]
  },
  {
   "cell_type": "code",
   "execution_count": null,
   "metadata": {},
   "outputs": [],
   "source": []
  },
  {
   "cell_type": "markdown",
   "metadata": {},
   "source": [
    "### Import matplotlib.pyplot as plt"
   ]
  },
  {
   "cell_type": "code",
   "execution_count": null,
   "metadata": {},
   "outputs": [],
   "source": []
  },
  {
   "cell_type": "markdown",
   "metadata": {},
   "source": [
    "### Create a scatter plot of second column of T and Y. Follow the rest of the specifications\n",
    "1. Set the size of the figure to (8,9)\n",
    "2. Create corresponding axis labels with font size 20\n",
    "3. Set the title to be \"Scatter Plot\" with font size 24\n",
    "4. Change the size of all the points to 4\n",
    "5. Change the color of the points to red\n",
    "\n",
    "<br>\n",
    "<br>\n",
    "Hint: plt..."
   ]
  },
  {
   "cell_type": "code",
   "execution_count": null,
   "metadata": {},
   "outputs": [],
   "source": []
  },
  {
   "cell_type": "markdown",
   "metadata": {},
   "source": [
    "### Create a Variable F and set it equal to 12 times the second column of Z, without preserving the dimensionality. Print the first 10 values of F."
   ]
  },
  {
   "cell_type": "code",
   "execution_count": null,
   "metadata": {},
   "outputs": [],
   "source": []
  },
  {
   "cell_type": "markdown",
   "metadata": {},
   "source": [
    "### Recreate the same scatter plot as earlier. Then, follow these instructions\n",
    "1. Create a line plot of F with X on the same plot. F on the y-axis, X on the X-axis\n",
    "2. Set the LineWidth to 4.\n",
    "3. Set the color of the line to be blue\n",
    "4. Create a legend indicating that the line is F. Set the font size to 20\n",
    "5. Set the font of the x and y ticks to be 15"
   ]
  },
  {
   "cell_type": "code",
   "execution_count": null,
   "metadata": {},
   "outputs": [],
   "source": []
  }
 ],
 "metadata": {
  "kernelspec": {
   "display_name": "Python 3",
   "language": "python",
   "name": "python3"
  },
  "language_info": {
   "codemirror_mode": {
    "name": "ipython",
    "version": 3
   },
   "file_extension": ".py",
   "mimetype": "text/x-python",
   "name": "python",
   "nbconvert_exporter": "python",
   "pygments_lexer": "ipython3",
   "version": "3.7.1"
  }
 },
 "nbformat": 4,
 "nbformat_minor": 2
}
