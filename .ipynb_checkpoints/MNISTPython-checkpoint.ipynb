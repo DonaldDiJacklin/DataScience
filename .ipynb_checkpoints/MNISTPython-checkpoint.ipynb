{
 "cells": [
  {
   "cell_type": "code",
   "execution_count": 3,
   "metadata": {},
   "outputs": [],
   "source": [
    "import numpy as np\n",
    "import matplotlib.pyplot as plt\n",
    "import pandas as pd"
   ]
  },
  {
   "cell_type": "code",
   "execution_count": 4,
   "metadata": {},
   "outputs": [],
   "source": [
    "def softmax(matrix):\n",
    "    return np.exp(matrix)/np.sum(np.exp(matrix), axis = 1).reshape(len(matrix[:,0]),1)"
   ]
  },
  {
   "cell_type": "code",
   "execution_count": 7,
   "metadata": {},
   "outputs": [
    {
     "name": "stderr",
     "output_type": "stream",
     "text": [
      "/home/donald/anaconda3/lib/python3.7/site-packages/ipykernel_launcher.py:1: FutureWarning: Method .as_matrix will be removed in a future version. Use .values instead.\n",
      "  \"\"\"Entry point for launching an IPython kernel.\n"
     ]
    }
   ],
   "source": [
    "data = pd.read_excel('Proteins.xls').as_matrix()"
   ]
  },
  {
   "cell_type": "code",
   "execution_count": 188,
   "metadata": {},
   "outputs": [],
   "source": [
    "def oneHotEncode(matrix, columns):\n",
    "    for column in columns:\n",
    "        uniques = np.unique(matrix[:,column])\n",
    "        newmat = np.zeros((len(matrix[:,column]),len(uniques)))\n",
    "\n",
    "        for i in range(0,len(matrix[:,column])):\n",
    "            for j in range(0,len(uniques)):\n",
    "                if(matrix[i,column] == uniques[j]):\n",
    "                    newmat[i,j] = 1\n",
    "        matrix = np.column_stack((matrix,newmat))\n",
    "    try:\n",
    "        matrix = np.delete(matrix,columns,axis = 1).astype(float)\n",
    "    except:\n",
    "        matrix = np.delete(matrix,columns,axis = 1)\n",
    "    return matrix\n",
    "newdata = oneHotEncode(data,[len(data[0,])-1])"
   ]
  },
  {
   "cell_type": "code",
   "execution_count": null,
   "metadata": {},
   "outputs": [],
   "source": []
  },
  {
   "cell_type": "code",
   "execution_count": 189,
   "metadata": {},
   "outputs": [],
   "source": [
    "def TVTsplit(matrix, train = .7):\n",
    "    #     This function's purpose is to split a given matrix\n",
    "    #     into three parts: train, test, and validate. The \n",
    "    #     train parameter is the percentage of the data that\n",
    "    #     goes into training 70% by default. The val parameter\n",
    "    #     determines how much goes into the validation set\n",
    "    #     15% by default. The rest of the data goes into\n",
    "    #     the test set.\n",
    "    \n",
    "#     The following is needed to perform the operations\n",
    "#     in the calculations in here.\n",
    "    import numpy as np\n",
    "    # The following does some common sense things like\n",
    "    # telling you that train and val need to add up to less\n",
    "    # than 1.\n",
    "\n",
    "    if(train > .99):\n",
    "        print(\"Splitting failed. Please make sure that train is less than .99 so that test and val have enough data.\")\n",
    "        return 0\n",
    "    \n",
    "#     These two things calculate the subset lengths that \n",
    "#     are needed for the subsetting.\n",
    "    splitnum = int(len(matrix[:,0])*train)\n",
    "    splitnum2 = int((len(matrix[:,0]) - splitnum)/2)\n",
    "#     np.random.shuffle(matrix)\n",
    "\n",
    "#     The next three separate the data into the three sets\n",
    "#     using the splitnums from above.\n",
    "    Train = matrix[0:splitnum,]\n",
    "    Test = matrix[splitnum:(splitnum+splitnum2),]\n",
    "    Val = matrix[(splitnum+splitnum2):,]\n",
    "    return Train, Val, Test"
   ]
  },
  {
   "cell_type": "code",
   "execution_count": 190,
   "metadata": {},
   "outputs": [],
   "source": [
    "train,val,test = TVTsplit(newdata)"
   ]
  },
  {
   "cell_type": "code",
   "execution_count": 40,
   "metadata": {},
   "outputs": [],
   "source": [
    "Ytrain = train[:,(len(train[0,])-8):]\n",
    "Xtrain = train[:,:(len(train[0,])-8)]\n",
    "Yval = val[:,(len(val[0,])-8):]\n",
    "Xval = val[:,:(len(val[0,])-8)]\n",
    "Ytest = test[:,(len(test[0,])-8):]\n",
    "Xtest = test[:,:(len(test[0,])-8)]"
   ]
  },
  {
   "cell_type": "code",
   "execution_count": 49,
   "metadata": {},
   "outputs": [],
   "source": [
    "def asnumeric(x):\n",
    "    return list(map(float,x))\n",
    "\n",
    "Xtrain = np.matrix(list(map(asnumeric,Xtrain.T))).T\n",
    "Xval = np.matrix(list(map(asnumeric,Xval.T))).T\n",
    "Xtest = np.matrix(list(map(asnumeric,Xtest.T))).T"
   ]
  },
  {
   "cell_type": "code",
   "execution_count": 69,
   "metadata": {},
   "outputs": [],
   "source": [
    "trainmins = np.array(list(map(np.nanmin,Xtrain.T)))\n",
    "trainmaxs = np.array(list(map(np.nanmax,Xtrain.T)))"
   ]
  },
  {
   "cell_type": "code",
   "execution_count": 70,
   "metadata": {},
   "outputs": [],
   "source": [
    "Xtrain = np.where(np.isnan(Xtrain), np.ma.array(Xtrain, mask=np.isnan(Xtrain)).mean(axis=0), Xtrain)\n",
    "Xval = np.where(np.isnan(Xval), np.ma.array(Xtrain, mask=np.isnan(Xtrain)).mean(axis=0), Xval)\n",
    "Xtest = np.where(np.isnan(Xtest), np.ma.array(Xtrain, mask=np.isnan(Xtrain)).mean(axis=0), Xtest)"
   ]
  },
  {
   "cell_type": "code",
   "execution_count": 72,
   "metadata": {},
   "outputs": [],
   "source": [
    "for i in range(0,len(Xtrain[0,])):\n",
    "    Xtrain[:,i] = (Xtrain[:,i] - trainmins[i])/(trainmaxs[i]-trainmins[i])\n",
    "    Xval[:,i] = (Xval[:,i] - trainmins[i])/(trainmaxs[i]-trainmins[i])\n",
    "    Xtest[:,i] = (Xtest[:,i] - trainmins[i])/(trainmaxs[i]-trainmins[i])\n"
   ]
  },
  {
   "cell_type": "code",
   "execution_count": 176,
   "metadata": {},
   "outputs": [
    {
     "data": {
      "text/plain": [
       "<matplotlib.collections.PathCollection at 0x7fda674e3748>"
      ]
     },
     "execution_count": 176,
     "metadata": {},
     "output_type": "execute_result"
    },
    {
     "data": {
      "image/png": "[encoded data removed]",
      "text/plain": [
       "<Figure size 432x288 with 1 Axes>"
      ]
     },
     "metadata": {
      "needs_background": "light"
     },
     "output_type": "display_data"
    }
   ],
   "source": [
    "# w = np.random.randn(len(Xtrain[0,])*len(Ytrain[0,]))\n",
    "# w = np.matrix(w).reshape(len(Xtrain[0,]),len(Ytrain[0,]))\n",
    "inds = []\n",
    "\n",
    "# for i in range(0)\n",
    "cost = []\n",
    "for i in range(0,10000):\n",
    "    w = w - .001*Xtrain.T@(softmax(Xtrain@w) - Ytrain)\n",
    "    CEC = -np.sum(np.multiply(Yval,np.log(softmax(Xval@w))))\n",
    "    inds.append(i)\n",
    "    cost.append(CEC)\n",
    "plt.scatter(inds,cost)"
   ]
  },
  {
   "cell_type": "code",
   "execution_count": 177,
   "metadata": {},
   "outputs": [
    {
     "data": {
      "text/plain": [
       "1.6057097272814729"
      ]
     },
     "execution_count": 177,
     "metadata": {},
     "output_type": "execute_result"
    }
   ],
   "source": [
    "CEC"
   ]
  },
  {
   "cell_type": "code",
   "execution_count": 178,
   "metadata": {},
   "outputs": [
    {
     "name": "stdout",
     "output_type": "stream",
     "text": [
      "1.0\n"
     ]
    },
    {
     "data": {
      "text/plain": [
       "1.0"
      ]
     },
     "execution_count": 178,
     "metadata": {},
     "output_type": "execute_result"
    }
   ],
   "source": [
    "print(np.mean(np.rint(softmax(Xval@w)) == Yval))\n",
    "np.sum(np.multiply(np.rint(softmax(Xval@w)),Yval))/np.sum(Yval)"
   ]
  },
  {
   "cell_type": "code",
   "execution_count": 282,
   "metadata": {},
   "outputs": [
    {
     "name": "stdout",
     "output_type": "stream",
     "text": [
      "0.9938271604938271\n",
      "0.9753086419753086\n",
      "New\n",
      "0.9876543209876543\n",
      "0.9333333333333333\n",
      "New\n",
      "0.9876543209876543\n",
      "0.9629629629629629\n",
      "New\n",
      "0.9876543209876543\n",
      "0.9375\n",
      "New\n",
      "0.9938271604938271\n",
      "1.0\n",
      "New\n",
      "1.0\n",
      "1.0\n",
      "New\n",
      "1.0\n",
      "1.0\n",
      "New\n",
      "0.9938271604938271\n",
      "0.9583333333333334\n",
      "New\n",
      "1.0\n",
      "1.0\n"
     ]
    }
   ],
   "source": [
    "Ytest = np.matrix(Ytest)\n",
    "print(np.mean(np.rint(softmax(Xtest@w)) == Ytest))\n",
    "print(np.sum(np.multiply(np.rint(softmax(Xtest@w)),Ytest))/np.sum(Ytest))\n",
    "print('New')\n",
    "print(np.mean(np.rint(softmax(Xtest@w))[:,0] == Ytest[:,0]))\n",
    "print(np.sum(np.multiply(np.rint(softmax(Xtest@w)),Ytest)[:,0])/np.sum(Ytest[:,0]))\n",
    "print('New')\n",
    "print(np.mean(np.rint(softmax(Xtest@w))[:,1] == Ytest[:,1]))\n",
    "print(np.sum(np.multiply(np.rint(softmax(Xtest@w)),Ytest)[:,1])/np.sum(Ytest[:,1]))\n",
    "print('New')\n",
    "print(np.mean(np.rint(softmax(Xtest@w))[:,2] == Ytest[:,2]))\n",
    "print(np.sum(np.multiply(np.rint(softmax(Xtest@w)),Ytest)[:,2])/np.sum(Ytest[:,2]))\n",
    "print('New')\n",
    "print(np.mean(np.rint(softmax(Xtest@w))[:,3] == Ytest[:,3]))\n",
    "print(np.sum(np.multiply(np.rint(softmax(Xtest@w)),Ytest)[:,3])/np.sum(Ytest[:,3]))\n",
    "print('New')\n",
    "print(np.mean(np.rint(softmax(Xtest@w))[:,4] == Ytest[:,4]))\n",
    "print(np.sum(np.multiply(np.rint(softmax(Xtest@w)),Ytest)[:,4])/np.sum(Ytest[:,4]))\n",
    "print('New')\n",
    "print(np.mean(np.rint(softmax(Xtest@w))[:,5] == Ytest[:,5]))\n",
    "print(np.sum(np.multiply(np.rint(softmax(Xtest@w)),Ytest)[:,5])/np.sum(Ytest[:,5]))\n",
    "print('New')\n",
    "print(np.mean(np.rint(softmax(Xtest@w))[:,6] == Ytest[:,6]))\n",
    "print(np.sum(np.multiply(np.rint(softmax(Xtest@w)),Ytest)[:,6])/np.sum(Ytest[:,6]))\n",
    "print('New')\n",
    "print(np.mean(np.rint(softmax(Xtest@w))[:,7] == Ytest[:,7]))\n",
    "print(np.sum(np.multiply(np.rint(softmax(Xtest@w)),Ytest)[:,7])/np.sum(Ytest[:,7]))"
   ]
  },
  {
   "cell_type": "code",
   "execution_count": 255,
   "metadata": {},
   "outputs": [
    {
     "name": "stdout",
     "output_type": "stream",
     "text": [
      "(array([31, 32, 41, 45, 46]), array([0, 0, 0, 0, 0]))\n"
     ]
    },
    {
     "data": {
      "text/plain": [
       "matrix([[ 7.77228576,  7.0370215 ,  6.34482801,  6.05863056,  8.91682449],\n",
       "        [-1.28970308, -1.28970308, -1.28970308, -1.28970308, -1.28970308]])"
      ]
     },
     "execution_count": 255,
     "metadata": {},
     "output_type": "execute_result"
    }
   ],
   "source": [
    "print(np.where(w[:,7]>6))\n",
    "w[np.where(w[:,7]>6),7]"
   ]
  },
  {
   "cell_type": "code",
   "execution_count": 280,
   "metadata": {},
   "outputs": [
    {
     "data": {
      "text/plain": [
       "(162, 8)"
      ]
     },
     "execution_count": 280,
     "metadata": {},
     "output_type": "execute_result"
    }
   ],
   "source": [
    "np.matrix(Ytest).shape"
   ]
  },
  {
   "cell_type": "code",
   "execution_count": 272,
   "metadata": {},
   "outputs": [
    {
     "data": {
      "text/plain": [
       "matrix([[0.],\n",
       "        [0.],\n",
       "        [1.],\n",
       "        [0.],\n",
       "        [0.],\n",
       "        [0.],\n",
       "        [0.],\n",
       "        [0.],\n",
       "        [0.],\n",
       "        [0.],\n",
       "        [0.],\n",
       "        [0.],\n",
       "        [0.],\n",
       "        [0.],\n",
       "        [0.],\n",
       "        [0.],\n",
       "        [0.],\n",
       "        [0.],\n",
       "        [0.],\n",
       "        [0.],\n",
       "        [1.],\n",
       "        [0.],\n",
       "        [0.],\n",
       "        [0.],\n",
       "        [0.],\n",
       "        [0.],\n",
       "        [0.],\n",
       "        [0.],\n",
       "        [0.],\n",
       "        [0.],\n",
       "        [0.],\n",
       "        [1.],\n",
       "        [0.],\n",
       "        [0.],\n",
       "        [0.],\n",
       "        [0.],\n",
       "        [0.],\n",
       "        [0.],\n",
       "        [0.],\n",
       "        [0.],\n",
       "        [0.],\n",
       "        [0.],\n",
       "        [0.],\n",
       "        [0.],\n",
       "        [0.],\n",
       "        [0.],\n",
       "        [0.],\n",
       "        [0.],\n",
       "        [0.],\n",
       "        [0.],\n",
       "        [0.],\n",
       "        [0.],\n",
       "        [0.],\n",
       "        [0.],\n",
       "        [0.],\n",
       "        [0.],\n",
       "        [0.],\n",
       "        [1.],\n",
       "        [0.],\n",
       "        [0.],\n",
       "        [0.],\n",
       "        [0.],\n",
       "        [0.],\n",
       "        [0.],\n",
       "        [0.],\n",
       "        [0.],\n",
       "        [0.],\n",
       "        [1.],\n",
       "        [0.],\n",
       "        [0.],\n",
       "        [0.],\n",
       "        [0.],\n",
       "        [0.],\n",
       "        [1.],\n",
       "        [0.],\n",
       "        [1.],\n",
       "        [0.],\n",
       "        [0.],\n",
       "        [1.],\n",
       "        [0.],\n",
       "        [0.],\n",
       "        [0.],\n",
       "        [0.],\n",
       "        [0.],\n",
       "        [0.],\n",
       "        [0.],\n",
       "        [0.],\n",
       "        [0.],\n",
       "        [0.],\n",
       "        [0.],\n",
       "        [0.],\n",
       "        [0.],\n",
       "        [0.],\n",
       "        [0.],\n",
       "        [0.],\n",
       "        [0.],\n",
       "        [0.],\n",
       "        [0.],\n",
       "        [0.],\n",
       "        [0.],\n",
       "        [0.],\n",
       "        [0.],\n",
       "        [0.],\n",
       "        [0.],\n",
       "        [0.],\n",
       "        [0.],\n",
       "        [0.],\n",
       "        [0.],\n",
       "        [0.],\n",
       "        [0.],\n",
       "        [0.],\n",
       "        [0.],\n",
       "        [0.],\n",
       "        [1.],\n",
       "        [0.],\n",
       "        [0.],\n",
       "        [0.],\n",
       "        [1.],\n",
       "        [0.],\n",
       "        [0.],\n",
       "        [0.],\n",
       "        [0.],\n",
       "        [0.],\n",
       "        [1.],\n",
       "        [0.],\n",
       "        [0.],\n",
       "        [0.],\n",
       "        [0.],\n",
       "        [0.],\n",
       "        [0.],\n",
       "        [0.],\n",
       "        [0.],\n",
       "        [0.],\n",
       "        [1.],\n",
       "        [0.],\n",
       "        [0.],\n",
       "        [0.],\n",
       "        [0.],\n",
       "        [0.],\n",
       "        [1.],\n",
       "        [0.],\n",
       "        [0.],\n",
       "        [0.],\n",
       "        [0.],\n",
       "        [0.],\n",
       "        [0.],\n",
       "        [0.],\n",
       "        [0.],\n",
       "        [0.],\n",
       "        [1.],\n",
       "        [0.],\n",
       "        [0.],\n",
       "        [0.],\n",
       "        [1.],\n",
       "        [0.],\n",
       "        [0.],\n",
       "        [0.],\n",
       "        [0.],\n",
       "        [0.],\n",
       "        [0.],\n",
       "        [0.],\n",
       "        [0.]])"
      ]
     },
     "execution_count": 272,
     "metadata": {},
     "output_type": "execute_result"
    }
   ],
   "source": [
    "np.rint(softmax(Xtest@w))[:,0]"
   ]
  }
 ],
 "metadata": {
  "kernelspec": {
   "display_name": "Python 3",
   "language": "python",
   "name": "python3"
  },
  "language_info": {
   "codemirror_mode": {
    "name": "ipython",
    "version": 3
   },
   "file_extension": ".py",
   "mimetype": "text/x-python",
   "name": "python",
   "nbconvert_exporter": "python",
   "pygments_lexer": "ipython3",
   "version": "3.7.1"
  }
 },
 "nbformat": 4,
 "nbformat_minor": 2
}
