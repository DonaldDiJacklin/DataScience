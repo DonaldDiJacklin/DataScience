{
 "cells": [
  {
   "cell_type": "code",
   "execution_count": 2,
   "metadata": {},
   "outputs": [],
   "source": [
    "import numpy as np\n",
    "import scipy.stats as sp\n",
    "import matplotlib.pyplot as plt"
   ]
  },
  {
   "cell_type": "code",
   "execution_count": 21,
   "metadata": {},
   "outputs": [],
   "source": [
    "def res(X,mu, sigma, Pi):\n",
    "#     print(X.shape)\n",
    "#     print(mu.shape)\n",
    "#     print(sigma.shape)\n",
    "#     print(Pi)\n",
    "    d = Pi*sp.multivariate_normal.pdf(X, mu, sigma)\n",
    "    return d"
   ]
  },
  {
   "cell_type": "code",
   "execution_count": 4,
   "metadata": {},
   "outputs": [],
   "source": [
    "X1 = np.random.randn(500,2)*[1,2] + 5\n",
    "X2 = np.random.randn(500,2)*[1,1]\n",
    "X3 = np.random.randn(500,2)*[1.2,1] - [2,-6]\n",
    "X = np.row_stack((X1,X2, X3))"
   ]
  },
  {
   "cell_type": "code",
   "execution_count": 72,
   "metadata": {},
   "outputs": [],
   "source": [
    "M = np.row_stack((np.array([0,0]),np.array([1,1]),np.array([-1,2])))\n",
    "M\n",
    "sigma0 = np.eye(2)\n",
    "sigma1 = np.eye(2)\n",
    "sigma2 = np.eye(2)\n",
    "\n",
    "Pi = np.ones(3)/3"
   ]
  },
  {
   "cell_type": "code",
   "execution_count": 73,
   "metadata": {},
   "outputs": [],
   "source": [
    "for i in range(100):\n",
    "    D0 = np.empty((len(X),1))\n",
    "#     for i in range(len(X)):\n",
    "    D0[:,0] = np.array(res(X[:,], M[0,], sigma0, Pi[0]), dtype = float)\n",
    "    D1 = np.empty((len(X),1))\n",
    "#     for i in range(len(X)):\n",
    "    D1[:,0] = res(X[:,], M[1,], sigma1, Pi[1])\n",
    "    D2 = np.empty((len(X),1))\n",
    "#     for i in range(len(X)):\n",
    "    D2[:,0] = res(X[:,], M[2,], sigma2, Pi[2])\n",
    "    D = np.column_stack((D0,D1, D2))\n",
    "    D = D/np.sum(D, axis = 1).reshape(-1,1)\n",
    "    labels = np.argmin(D, axis = 1)\n",
    "    Pi = np.mean(D,axis = 0)\n",
    "    M0 = np.sum(D[:,0].reshape(-1,1)*X, axis = 0)/np.sum(D[:,0]).reshape(-1,1)\n",
    "    M1 = np.sum(D[:,1].reshape(-1,1)*X, axis = 0)/np.sum(D[:,1]).reshape(-1,1)\n",
    "    M2 = np.sum(D[:,2].reshape(-1,1)*X, axis = 0)/np.sum(D[:,2]).reshape(-1,1)\n",
    "    M = np.row_stack((M0,M1,M2))\n",
    "    sigma0 = (D[:,0].reshape(-1,1)*(X - M0)).T@(X - M0)/np.sum(D[:,0]).reshape(-1,1) + .000000001*np.eye(2)\n",
    "    sigma1 = (D[:,1].reshape(-1,1)*(X - M1)).T@(X - M1)/np.sum(D[:,1]).reshape(-1,1) + .000000001*np.eye(2)\n",
    "    sigma2 = (D[:,2].reshape(-1,1)*(X - M2)).T@(X - M2)/np.sum(D[:,2]).reshape(-1,1) + .000000001*np.eye(2)"
   ]
  },
  {
   "cell_type": "code",
   "execution_count": 74,
   "metadata": {},
   "outputs": [
    {
     "name": "stdout",
     "output_type": "stream",
     "text": [
      "These are the centers.\n",
      "[[ 0.04740313 -0.02537135]\n",
      " [ 4.98894166  5.06782407]\n",
      " [-1.91243001  6.06968265]]\n",
      "This is the first vcov. Should be [1,0],[0,1].\n",
      "[[0.92701375 0.00985316]\n",
      " [0.00985316 1.08511295]]\n",
      "This is the second vcov. Should be [1,0],[0,4].\n",
      "[[0.97104971 0.04114447]\n",
      " [0.04114447 3.7560746 ]]\n",
      "This is the third vcov. Should be [1.44,0],[0,1].\n",
      "[[1.54302815 0.10964832]\n",
      " [0.10964832 0.97220476]]\n"
     ]
    }
   ],
   "source": [
    "print('These are the centers.')\n",
    "print(M)\n",
    "print('This is the first vcov. Should be [1,0],[0,1].')\n",
    "print(sigma0)\n",
    "print('This is the second vcov. Should be [1,0],[0,4].')\n",
    "print(sigma1)\n",
    "print('This is the third vcov. Should be [1.44,0],[0,1].')\n",
    "print(sigma2)"
   ]
  },
  {
   "cell_type": "code",
   "execution_count": 62,
   "metadata": {},
   "outputs": [
    {
     "data": {
      "text/plain": [
       "array([1., 1., 1., ..., 1., 1., 1.])"
      ]
     },
     "execution_count": 62,
     "metadata": {},
     "output_type": "execute_result"
    }
   ],
   "source": [
    "np.sum(D, axis = 1)"
   ]
  },
  {
   "cell_type": "code",
   "execution_count": null,
   "metadata": {},
   "outputs": [],
   "source": [
    "X1 = np.random.randn(200,2)*[1,2] + 5\n",
    "X2 = np.random.randn(200,2)*[1,1]\n",
    "X3 = np.random.randn(200,2)*[1.2,1] - [2,-6]"
   ]
  }
 ],
 "metadata": {
  "kernelspec": {
   "display_name": "Python 3",
   "language": "python",
   "name": "python3"
  },
  "language_info": {
   "codemirror_mode": {
    "name": "ipython",
    "version": 3
   },
   "file_extension": ".py",
   "mimetype": "text/x-python",
   "name": "python",
   "nbconvert_exporter": "python",
   "pygments_lexer": "ipython3",
   "version": "3.7.1"
  }
 },
 "nbformat": 4,
 "nbformat_minor": 2
}
