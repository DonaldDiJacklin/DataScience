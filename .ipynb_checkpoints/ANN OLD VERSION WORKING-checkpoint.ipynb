{
 "cells": [
  {
   "cell_type": "code",
   "execution_count": 1,
   "metadata": {},
   "outputs": [],
   "source": [
    "class aNNN:\n",
    "    \n",
    "\n",
    "    def __init__(self,indims,activation,nodeslist,layers,outputactivation,functionderivs,taskclassification):\n",
    "        import numpy as np\n",
    "        import matplotlib.pyplot as plt\n",
    "        self.layers = len(nodeslist)\n",
    "        self.indims = indims\n",
    "        self.activation = activation\n",
    "        self.nodeslist = nodeslist\n",
    "        self.outputactivation=outputactivation\n",
    "        self.functionderivs=functionderivs\n",
    "        self.taskclassification=taskclassification\n",
    "        \n",
    "            \n",
    "\n",
    "    def wi(self):\n",
    "        import numpy as np\n",
    "        self.derdic={}\n",
    "        self.wdic={}    \n",
    "        self.bdic={}\n",
    "        self.momw={}\n",
    "        self.momb={}\n",
    "        self.z={}\n",
    "        self.zder={}\n",
    "        self.wdic['w0']=np.random.randn(self.indims,self.nodeslist[0])\n",
    "        self.bdic['b0']=np.random.randn(1,self.nodeslist[0])\n",
    "        self.momw['0']=np.zeros((self.indims,self.nodeslist[0]))\n",
    "        self.momb['0']=np.zeros((1,self.nodeslist[0]))\n",
    "        for i in range(1,self.layers):\n",
    "            self.wdic['w'+str(i)]=np.random.randn(self.nodeslist[i-1],self.nodeslist[i])*np.sqrt(2/(self.nodeslist[i-1])+self.nodeslist[i])\n",
    "            self.momw[str(i)]=np.zeros((self.nodeslist[i-1],self.nodeslist[i]))\n",
    "            self.momb[str(i)]=np.zeros((1,self.nodeslist[i]))\n",
    "            self.bdic['b'+str(i)]=np.random.randn(1,self.nodeslist[i])*np.sqrt(2/(self.nodeslist[i-1])+self.nodeslist[i])\n",
    "        return()\n",
    "    \n",
    "    def predict(self,x):\n",
    "        import numpy as np\n",
    "        self.z['0']=x\n",
    "        for i in range(self.layers-1):\n",
    "            self.a=self.activation[i]\n",
    "            self.z[str(i+1)]=self.a(self.z[str(i)]@self.wdic['w'+str(i)]+self.bdic['b'+str(i)])\n",
    "            self.zder[str(i)]=self.functionderivs[i](self.z[str(i+1)])\n",
    "        \n",
    "        if self.taskclassification==True:\n",
    "            self.predictions=self.outputactivation(self.z[str(self.layers-1)]@self.wdic['w'+str(self.layers-1)]+self.bdic['b'+str(self.layers-1)])\n",
    "        else:\n",
    "            self.predictions=self.z[str(self.layers-1)]@self.wdic['w'+str(self.layers-1)]+self.bdic['b'+str(self.layers-1)]\n",
    "        return()        \n",
    "        \n",
    "    def train(self,x,yval,LR,epochs,taskclassification,costfunction,mu,k):\n",
    "        import numpy as np\n",
    "        import matplotlib.pyplot as plt\n",
    "        self.cost=[]\n",
    "        self.acclist=[]\n",
    "        \n",
    "        for i in range(1,epochs):\n",
    "            LR=LR*np.exp(-k*i)\n",
    "            self.predict(x)\n",
    "            self.derdic[str(self.layers-1)]=self.predictions-yval\n",
    "            \n",
    "            for j in range(self.layers-2,-1,-1):\n",
    "                    self.derdic[str(j)]=self.derdic[str(j+1)]@self.wdic['w'+str(j+1)].T*self.zder[str(j)]\n",
    "            \n",
    "            for d in range(self.layers-1,-1,-1):\n",
    "                \n",
    "                self.momw[str(d)]=mu*self.momw[str(d)]-LR*self.z[str(d)].T@self.derdic[str(d)]\n",
    "                self.momb[str(d)]=mu*self.momb[str(d)]-LR*np.sum(self.derdic[str(d)])\n",
    "                \n",
    "                prevmw=self.momw[str(d)]\n",
    "                prevmb=self.momb[str(d)]\n",
    "                \n",
    "                self.wdic['w' + str(d)]= self.wdic['w' + str(d)]+prevmw\n",
    "                self.bdic['b'+str(d)]=self.bdic['b'+str(d)]+prevmb\n",
    "                \n",
    "                self.predict(x)\n",
    "                \n",
    "                self.derdic[str(self.layers-1)]=self.predictions-yval\n",
    "                for j in range(self.layers-2,-1,-1):\n",
    "                    self.derdic[str(j)]=self.derdic[str(j+1)]@self.wdic['w'+str(j+1)].T*self.zder[str(j)]\n",
    "                \n",
    "                gradbw=LR*self.z[str(d)].T@self.derdic[str(d)]\n",
    "                \n",
    "                gradbp=LR*np.sum(self.derdic[str(d)])\n",
    "                \n",
    "                self.wdic['w'+str(d)]=self.wdic['w'+str(d)]-prevmw\n",
    "                self.bdic['b'+str(d)]=self.bdic['b'+str(d)]-prevmb\n",
    "                \n",
    "                self.momw[str(d)]=mu*prevmw-gradbw\n",
    "                self.momb[str(d)]=mu*prevmb-gradbp\n",
    "                \n",
    "                self.wdic['w' + str(d)]= self.wdic['w' + str(d)]+self.momw[str(d)]\n",
    "                self.bdic['b'+str(d)]= self.bdic['b'+str(d)]+self.momb[str(d)]\n",
    "        \n",
    "            \n",
    "            \n",
    "            if self.taskclassification==True:\n",
    "                self.costs=costfunction(self.predictions,yval)\n",
    "                self.cost=np.append(self.cost,self.costs)\n",
    "                self.pred=np.eye(self.predictions.shape[1])[self.predictions.argmax(0)]\n",
    "                self.acc=np.mean(self.pred==yval)\n",
    "                \n",
    "                self.acclist=np.append(i,self.acc)\n",
    "                if self.acc==1.0:\n",
    "                    break\n",
    "            if self.taskclassification==False:\n",
    "                self.costs=costfunction(self.predictions,yval)\n",
    "                self.cost=np.append(self.cost,self.costs)\n",
    "                self.err=(self.costs)\n",
    "        self.plotcosts=plt.plot(self.cost)\n",
    "        return(self.predictions)\n",
    "    \n",
    "    def trainsgd(self,x,yval,LR,epochs,taskclassification,costfunction,steps,mu):\n",
    "        import numpy as np\n",
    "        import matplotlib.pyplot as plt\n",
    "        \n",
    "        self.cost=[]\n",
    "        \n",
    "        for i in range(1,epochs):\n",
    "            \n",
    "            for a in range(0,x.shape[0],steps):\n",
    "                \n",
    "                self.predict(x[a:(a+steps),:])\n",
    "                \n",
    "                self.derdic[str(self.layers-1)]=self.predictions-yval[a:(a+steps),:]\n",
    "            \n",
    "                for j in range(self.layers-2,-1,-1):\n",
    "                    self.derdic[str(j)]=self.derdic[str(j+1)]@self.wdic['w'+str(j+1)].T*self.zder[str(j)]\n",
    "   \n",
    "                for d in range(self.layers-1,-1,-1):\n",
    "                    self.momw[str(d)]=mu*self.momw[str(d)]-LR*self.z[str(d)].T@self.derdic[str(d)]\n",
    "                    self.momb[str(d)]=mu*self.momb[str(d)]-LR*np.sum(self.derdic[str(d)])\n",
    "                    self.wdic['w' + str(d)]= self.wdic['w' + str(d)]+self.momw[str(d)]\n",
    "                    self.bdic['b'+str(d)]=self.bdic['b'+str(d)]+self.momb[str(d)]\n",
    "\n",
    "    \n",
    "                if self.taskclassification==True:\n",
    "                    self.costs=costfunction(self.predictions,yval[a:(a+steps),:])\n",
    "                    self.cost=np.append(self.cost,self.costs)\n",
    "                    self.pred=np.rint(self.predictions)\n",
    "                self.acc=np.mean(self.pred==yval[a:(a+steps),:])\n",
    "        \n",
    "                if self.taskclassification==False:\n",
    "                    self.costs=costfunction(self.predictions,yval[a:(a+steps),:])\n",
    "                    self.cost=np.append(self.cost,self.costs)\n",
    "                    self.err=(self.costs)\n",
    "        self.plotcosts=plt.plot(self.cost)\n",
    "        return()\n",
    "    "
   ]
  },
  {
   "cell_type": "code",
   "execution_count": null,
   "metadata": {},
   "outputs": [],
   "source": []
  },
  {
   "cell_type": "code",
   "execution_count": 2,
   "metadata": {},
   "outputs": [],
   "source": [
    "import numpy as np\n",
    "import time\n",
    "\n",
    "def softmax(mat):\n",
    "    nom=np.exp(mat)\n",
    "    denom=np.exp(mat).sum(1).reshape(nom.shape[0],1)\n",
    "    return(nom/denom)\n",
    "def sig(Z):\n",
    "    return (1/(1+np.exp(-Z)))\n",
    "def relu(x):\n",
    "    return(x*(x>0))\n",
    "def drelu(x):\n",
    "    return(x>0)\n",
    "def GCEC(p,y):\n",
    "    errs=-np.sum(y*np.log(p))/len(p)\n",
    "    return(errs)\n",
    "\n",
    "def BCEC(p,y):\n",
    "    errs=-np.sum(y*np.log(p)+(1-y)*(np.log(1-p)))/len(p)\n",
    "    return(errs)\n",
    "\n",
    "def LCF(yhat,y):\n",
    "    errs=(yhat-y).T@(yhat-y)/len(yhat)\n",
    "    return(errs)\n",
    "    \n",
    "def MCF(yhat,y):\n",
    "    errs=np.trace((yhat - y).T@( yhat - y))\n",
    "    return(errs)\n",
    "\n",
    "def normalize(X,xmin,xmax):\n",
    "        xmin=X.min(0)\n",
    "        xmax=X.max(0)\n",
    "        nom=X-xmin\n",
    "        denom=xmax-xmin\n",
    "        return(nom/denom)\n",
    "def derivtanh(x):\n",
    "    x1=1-np.power(x,2)\n",
    "    return(x1)\n",
    "def lrelu(x):\n",
    "    return(x*(x>0)+0.2*x*(x<=0))\n",
    "def dlrelu(x):\n",
    "    return((x>0)+0.2*(x<=0))\n",
    "def tander(Z):\n",
    "    return 1-np.multiply(Z,Z)"
   ]
  },
  {
   "cell_type": "code",
   "execution_count": 3,
   "metadata": {},
   "outputs": [],
   "source": [
    "import numpy as np\n",
    "import matplotlib.pyplot as plt\n",
    "\n",
    "x1=np.random.randn(3000,2)*20\n",
    "x2=np.random.randn(3000,2)*10\n",
    "def softmax(mat):\n",
    "    nom=np.exp(mat)\n",
    "    denom=np.exp(mat).sum(1).reshape(nom.shape[0],1)\n",
    "    return(nom/denom)\n",
    "def tanh(x):\n",
    "    h=(np.exp(x)-np.exp(-x))/(np.exp(x)+np.exp(-x))\n",
    "    return(h)\n",
    "def ohe(matrix,cols):\n",
    "    emp=np.matrix([])\n",
    "    colsh=matrix.shape[1]\n",
    "    print(len(matrix))\n",
    "    for i in range(colsh):\n",
    "        if i in cols:\n",
    "            rows=len(matrix)\n",
    "            z=np.unique(matrix[:,i])\n",
    "            colu=(len(z))\n",
    "            x=np.zeros((rows,colu))\n",
    "            for v in range(0,len(matrix)):\n",
    "                for j in range(0,len(z)):\n",
    "                    if matrix[v,i] == z[j]:\n",
    "                        x[v,j] = 1\n",
    "                    else:\n",
    "                        x[v,j] = 0\n",
    "            if emp.size == 0:\n",
    "                emp = x\n",
    "            else:\n",
    "                emp=np.hstack((emp,x))\n",
    "        else:\n",
    "            add= matrix[:,i]\n",
    "            add=add.reshape((matrix.shape[0],1))\n",
    "            if emp.size==0:\n",
    "                emp=add\n",
    "            else:\n",
    "                print(add.shape)\n",
    "                print(emp.shape)\n",
    "                emp = np.hstack((emp,add))\n",
    "    return(emp)"
   ]
  },
  {
   "cell_type": "code",
   "execution_count": 4,
   "metadata": {
    "scrolled": true
   },
   "outputs": [
    {
     "data": {
      "image/png": "[encoded data removed]",
      "text/plain": [
       "<Figure size 432x288 with 1 Axes>"
      ]
     },
     "metadata": {
      "needs_background": "light"
     },
     "output_type": "display_data"
    }
   ],
   "source": [
    "\n",
    "emp=np.array([[]])\n",
    "emp2=np.array([[]])\n",
    "sq=[]\n",
    "for i in range(len(x1)):\n",
    "    r=np.sqrt(x1[i,0]**2+x1[i,1]**2)\n",
    "    r2=np.sqrt(x2[i,0]**2+x2[i,1]**2)\n",
    "    sq.append(r)\n",
    "    if (r >= 40):\n",
    "    \n",
    "        if(emp.size==0):\n",
    "            \n",
    "            g=np.hstack((x1[i,0],x1[i,1]))\n",
    "            emp=g\n",
    "        else:\n",
    "            k=np.hstack((x1[i,0],x1[i,1]))\n",
    "            \n",
    "            emp=np.vstack((emp,k))\n",
    "    if (40>r2>20):\n",
    "        if(emp2.size==0):\n",
    "            n=np.hstack((x2[i,0],x2[i,1]))\n",
    "            emp2=n\n",
    "        else:\n",
    "            m=np.hstack((x2[i,0],x2[i,1]))\n",
    "            emp2=np.vstack((emp2,m))\n",
    "            \n",
    "\n",
    "h=np.size(emp)\n",
    "emp=emp[0:300,:]\n",
    "emp2=emp2[0:300,:]\n",
    "x3=np.random.randn(300,2)*2\n",
    "plt.scatter(x3[:,0],x3[:,1],c='blue')\n",
    "plt.scatter(emp[:,0],emp[:,1],c='red')\n",
    "plt.scatter(emp2[:,0],emp2[:,1],c='black')\n",
    "plt.show()"
   ]
  },
  {
   "cell_type": "code",
   "execution_count": 5,
   "metadata": {},
   "outputs": [
    {
     "name": "stdout",
     "output_type": "stream",
     "text": [
      "900\n"
     ]
    }
   ],
   "source": [
    "X=np.vstack((emp,emp2,x3))\n",
    "Y1=np.ones((emp.shape[0])).reshape(emp.shape[0],1)\n",
    "Y2=np.zeros((emp2.shape[0])).reshape(emp2.shape[0],1)\n",
    "Y3=np.array([[2]]*x3.shape[0])\n",
    "Y=np.vstack((Y1,Y2,Y3)).reshape(X.shape[0],1)\n",
    "Y=ohe(Y,[0])"
   ]
  },
  {
   "cell_type": "code",
   "execution_count": 6,
   "metadata": {},
   "outputs": [
    {
     "name": "stdout",
     "output_type": "stream",
     "text": [
      "[[ 40.43053219   4.07675567]\n",
      " [ 41.98323299   5.40408706]\n",
      " [ 36.91171915 -27.89944502]\n",
      " ...\n",
      " [  2.55479516   1.34643119]\n",
      " [  0.73132544  -3.00799935]\n",
      " [  0.85943759   2.25652878]]\n"
     ]
    }
   ],
   "source": [
    "print(X)"
   ]
  },
  {
   "cell_type": "code",
   "execution_count": 7,
   "metadata": {},
   "outputs": [
    {
     "name": "stdout",
     "output_type": "stream",
     "text": [
      "[[0.84021443 0.54840049]\n",
      " [0.85199482 0.55829761]\n",
      " [0.81351708 0.30997312]\n",
      " ...\n",
      " [0.55285    0.5280421 ]\n",
      " [0.53901527 0.49557372]\n",
      " [0.53998726 0.53482815]]\n"
     ]
    }
   ],
   "source": [
    "def normalize(X,xmin,xmax):\n",
    "        xmin=X.min(0)\n",
    "        xmax=X.max(0)\n",
    "        nom=X-xmin\n",
    "        denom=xmax-xmin\n",
    "        return(nom/denom)\n",
    "\n",
    "X=normalize(X,0,1)\n",
    "print(X)\n"
   ]
  },
  {
   "cell_type": "code",
   "execution_count": 8,
   "metadata": {},
   "outputs": [
    {
     "ename": "ModuleNotFoundError",
     "evalue": "No module named 'datamodel'",
     "output_type": "error",
     "traceback": [
      "\u001b[0;31m---------------------------------------------------------------------------\u001b[0m",
      "\u001b[0;31mModuleNotFoundError\u001b[0m                       Traceback (most recent call last)",
      "\u001b[0;32m<ipython-input-8-6e1eed7a84a0>\u001b[0m in \u001b[0;36m<module>\u001b[0;34m\u001b[0m\n\u001b[0;32m----> 1\u001b[0;31m \u001b[0;32mfrom\u001b[0m \u001b[0mdatamodel\u001b[0m \u001b[0;32mimport\u001b[0m \u001b[0maNN\u001b[0m\u001b[0;34m\u001b[0m\u001b[0;34m\u001b[0m\u001b[0m\n\u001b[0m\u001b[1;32m      2\u001b[0m \u001b[0mmodreg\u001b[0m\u001b[0;34m=\u001b[0m\u001b[0maNN\u001b[0m\u001b[0;34m.\u001b[0m\u001b[0maNN\u001b[0m\u001b[0;34m(\u001b[0m\u001b[0mX\u001b[0m\u001b[0;34m.\u001b[0m\u001b[0mshape\u001b[0m\u001b[0;34m[\u001b[0m\u001b[0;36m1\u001b[0m\u001b[0;34m]\u001b[0m\u001b[0;34m,\u001b[0m\u001b[0mnp\u001b[0m\u001b[0;34m.\u001b[0m\u001b[0marray\u001b[0m\u001b[0;34m(\u001b[0m\u001b[0;34m[\u001b[0m\u001b[0mrelu\u001b[0m\u001b[0;34m]\u001b[0m\u001b[0;34m*\u001b[0m\u001b[0;36m3\u001b[0m\u001b[0;34m)\u001b[0m\u001b[0;34m,\u001b[0m\u001b[0;34m[\u001b[0m\u001b[0;36m20\u001b[0m\u001b[0;34m,\u001b[0m\u001b[0;36m20\u001b[0m\u001b[0;34m,\u001b[0m\u001b[0;36m20\u001b[0m\u001b[0;34m,\u001b[0m\u001b[0;36m3\u001b[0m\u001b[0;34m]\u001b[0m\u001b[0;34m,\u001b[0m\u001b[0;36m4\u001b[0m\u001b[0;34m,\u001b[0m\u001b[0msoftmax\u001b[0m\u001b[0;34m,\u001b[0m\u001b[0mnp\u001b[0m\u001b[0;34m.\u001b[0m\u001b[0marray\u001b[0m\u001b[0;34m(\u001b[0m\u001b[0;34m[\u001b[0m\u001b[0mdrelu\u001b[0m\u001b[0;34m]\u001b[0m\u001b[0;34m*\u001b[0m\u001b[0;36m3\u001b[0m\u001b[0;34m)\u001b[0m\u001b[0;34m,\u001b[0m\u001b[0;32mTrue\u001b[0m\u001b[0;34m)\u001b[0m\u001b[0;34m\u001b[0m\u001b[0;34m\u001b[0m\u001b[0m\n",
      "\u001b[0;31mModuleNotFoundError\u001b[0m: No module named 'datamodel'"
     ]
    }
   ],
   "source": [
    "from datamodel import aNN\n",
    "modreg=aNN.aNN(X.shape[1],np.array([relu]*3),[20,20,20,3],4,softmax,np.array([drelu]*3),True)\n"
   ]
  },
  {
   "cell_type": "code",
   "execution_count": 9,
   "metadata": {},
   "outputs": [
    {
     "ename": "NameError",
     "evalue": "name 'modreg' is not defined",
     "output_type": "error",
     "traceback": [
      "\u001b[0;31m---------------------------------------------------------------------------\u001b[0m",
      "\u001b[0;31mNameError\u001b[0m                                 Traceback (most recent call last)",
      "\u001b[0;32m<ipython-input-9-201538ddd64c>\u001b[0m in \u001b[0;36m<module>\u001b[0;34m\u001b[0m\n\u001b[0;32m----> 1\u001b[0;31m \u001b[0mmodreg\u001b[0m\u001b[0;34m.\u001b[0m\u001b[0mwi\u001b[0m\u001b[0;34m(\u001b[0m\u001b[0;34m)\u001b[0m\u001b[0;34m\u001b[0m\u001b[0;34m\u001b[0m\u001b[0m\n\u001b[0m\u001b[1;32m      2\u001b[0m \u001b[0mmodreg\u001b[0m\u001b[0;34m.\u001b[0m\u001b[0mpredict\u001b[0m\u001b[0;34m(\u001b[0m\u001b[0mX\u001b[0m\u001b[0;34m)\u001b[0m\u001b[0;34m\u001b[0m\u001b[0;34m\u001b[0m\u001b[0m\n",
      "\u001b[0;31mNameError\u001b[0m: name 'modreg' is not defined"
     ]
    }
   ],
   "source": [
    "modreg.wi()\n",
    "modreg.predict(X)"
   ]
  },
  {
   "cell_type": "code",
   "execution_count": 10,
   "metadata": {},
   "outputs": [
    {
     "ename": "NameError",
     "evalue": "name 'modreg' is not defined",
     "output_type": "error",
     "traceback": [
      "\u001b[0;31m---------------------------------------------------------------------------\u001b[0m",
      "\u001b[0;31mNameError\u001b[0m                                 Traceback (most recent call last)",
      "\u001b[0;32m<ipython-input-10-6fa8bccede0d>\u001b[0m in \u001b[0;36m<module>\u001b[0;34m\u001b[0m\n\u001b[1;32m      1\u001b[0m \u001b[0;34m\u001b[0m\u001b[0m\n\u001b[1;32m      2\u001b[0m \u001b[0;34m\u001b[0m\u001b[0m\n\u001b[0;32m----> 3\u001b[0;31m \u001b[0mmodreg\u001b[0m\u001b[0;34m.\u001b[0m\u001b[0mz\u001b[0m\u001b[0;34m[\u001b[0m\u001b[0;34m'0'\u001b[0m\u001b[0;34m]\u001b[0m\u001b[0;34m=\u001b[0m\u001b[0mX\u001b[0m\u001b[0;34m\u001b[0m\u001b[0;34m\u001b[0m\u001b[0m\n\u001b[0m\u001b[1;32m      4\u001b[0m \u001b[0;34m\u001b[0m\u001b[0m\n\u001b[1;32m      5\u001b[0m \u001b[0mc\u001b[0m\u001b[0;34m=\u001b[0m\u001b[0mmodreg\u001b[0m\u001b[0;34m.\u001b[0m\u001b[0mz\u001b[0m\u001b[0;34m[\u001b[0m\u001b[0;34m'3'\u001b[0m\u001b[0;34m]\u001b[0m\u001b[0;34m@\u001b[0m\u001b[0mmodreg\u001b[0m\u001b[0;34m.\u001b[0m\u001b[0mwdic\u001b[0m\u001b[0;34m[\u001b[0m\u001b[0;34m'w3'\u001b[0m\u001b[0;34m]\u001b[0m\u001b[0;34m+\u001b[0m\u001b[0mmodreg\u001b[0m\u001b[0;34m.\u001b[0m\u001b[0mbdic\u001b[0m\u001b[0;34m[\u001b[0m\u001b[0;34m'b3'\u001b[0m\u001b[0;34m]\u001b[0m\u001b[0;34m\u001b[0m\u001b[0;34m\u001b[0m\u001b[0m\n",
      "\u001b[0;31mNameError\u001b[0m: name 'modreg' is not defined"
     ]
    }
   ],
   "source": [
    "\n",
    "\n",
    "modreg.z['0']=X\n",
    "\n",
    "c=modreg.z['3']@modreg.wdic['w3']+modreg.bdic['b3']\n",
    "\n",
    "g=c*(c>0)\n",
    "print(g)"
   ]
  },
  {
   "cell_type": "code",
   "execution_count": 11,
   "metadata": {},
   "outputs": [
    {
     "name": "stdout",
     "output_type": "stream",
     "text": [
      "\n"
     ]
    }
   ],
   "source": [
    "print()\n"
   ]
  },
  {
   "cell_type": "code",
   "execution_count": null,
   "metadata": {},
   "outputs": [],
   "source": []
  },
  {
   "cell_type": "code",
   "execution_count": 12,
   "metadata": {},
   "outputs": [
    {
     "ename": "NameError",
     "evalue": "name 'modreg' is not defined",
     "output_type": "error",
     "traceback": [
      "\u001b[0;31m---------------------------------------------------------------------------\u001b[0m",
      "\u001b[0;31mNameError\u001b[0m                                 Traceback (most recent call last)",
      "\u001b[0;32m<ipython-input-12-222465258fed>\u001b[0m in \u001b[0;36m<module>\u001b[0;34m\u001b[0m\n\u001b[0;32m----> 1\u001b[0;31m \u001b[0mmodreg\u001b[0m\u001b[0;34m.\u001b[0m\u001b[0mwi\u001b[0m\u001b[0;34m(\u001b[0m\u001b[0;34m)\u001b[0m\u001b[0;34m\u001b[0m\u001b[0;34m\u001b[0m\u001b[0m\n\u001b[0m",
      "\u001b[0;31mNameError\u001b[0m: name 'modreg' is not defined"
     ]
    }
   ],
   "source": [
    "modreg.wi()"
   ]
  },
  {
   "cell_type": "code",
   "execution_count": 13,
   "metadata": {},
   "outputs": [
    {
     "ename": "NameError",
     "evalue": "name 'modreg' is not defined",
     "output_type": "error",
     "traceback": [
      "\u001b[0;31m---------------------------------------------------------------------------\u001b[0m",
      "\u001b[0;31mNameError\u001b[0m                                 Traceback (most recent call last)",
      "\u001b[0;32m<ipython-input-13-9d7a1b04ac23>\u001b[0m in \u001b[0;36m<module>\u001b[0;34m\u001b[0m\n\u001b[0;32m----> 1\u001b[0;31m \u001b[0mmodreg\u001b[0m\u001b[0;34m.\u001b[0m\u001b[0mtrain\u001b[0m\u001b[0;34m(\u001b[0m\u001b[0mX\u001b[0m\u001b[0;34m,\u001b[0m\u001b[0mY\u001b[0m\u001b[0;34m,\u001b[0m\u001b[0;36m5e-9\u001b[0m\u001b[0;34m,\u001b[0m\u001b[0;36m100\u001b[0m\u001b[0;34m,\u001b[0m\u001b[0;32mTrue\u001b[0m\u001b[0;34m,\u001b[0m\u001b[0mGCEC\u001b[0m\u001b[0;34m,\u001b[0m\u001b[0;36m0\u001b[0m\u001b[0;34m,\u001b[0m\u001b[0;36m1\u001b[0m\u001b[0;34m,\u001b[0m\u001b[0;36m100\u001b[0m\u001b[0;34m)\u001b[0m\u001b[0;34m\u001b[0m\u001b[0;34m\u001b[0m\u001b[0m\n\u001b[0m",
      "\u001b[0;31mNameError\u001b[0m: name 'modreg' is not defined"
     ]
    }
   ],
   "source": [
    "modreg.train(X,Y,5e-9,100,True,GCEC,0,1,100)"
   ]
  },
  {
   "cell_type": "code",
   "execution_count": null,
   "metadata": {},
   "outputs": [],
   "source": []
  },
  {
   "cell_type": "code",
   "execution_count": null,
   "metadata": {},
   "outputs": [],
   "source": []
  },
  {
   "cell_type": "code",
   "execution_count": 14,
   "metadata": {},
   "outputs": [],
   "source": [
    "mod1=aNNN(X.shape[1],np.array([np.tanh]*3),[20,20,20,3],4,softmax,np.array([tander]*3),True)\n",
    "mod2=aNNN(X.shape[1],np.array([relu]*4),[20,20,20,3],4,softmax,np.array([drelu]*4),True)"
   ]
  },
  {
   "cell_type": "code",
   "execution_count": 15,
   "metadata": {},
   "outputs": [
    {
     "data": {
      "text/plain": [
       "()"
      ]
     },
     "execution_count": 15,
     "metadata": {},
     "output_type": "execute_result"
    }
   ],
   "source": [
    "mod1.wi()"
   ]
  },
  {
   "cell_type": "code",
   "execution_count": 16,
   "metadata": {},
   "outputs": [
    {
     "data": {
      "text/plain": [
       "()"
      ]
     },
     "execution_count": 16,
     "metadata": {},
     "output_type": "execute_result"
    }
   ],
   "source": [
    "mod1.predict(X)"
   ]
  },
  {
   "cell_type": "code",
   "execution_count": 17,
   "metadata": {},
   "outputs": [
    {
     "ename": "IndexError",
     "evalue": "index 40 is out of bounds for axis 0 with size 3",
     "output_type": "error",
     "traceback": [
      "\u001b[0;31m---------------------------------------------------------------------------\u001b[0m",
      "\u001b[0;31mIndexError\u001b[0m                                Traceback (most recent call last)",
      "\u001b[0;32m<ipython-input-17-0da0d07af8d7>\u001b[0m in \u001b[0;36m<module>\u001b[0;34m\u001b[0m\n\u001b[0;32m----> 1\u001b[0;31m \u001b[0mmod1\u001b[0m\u001b[0;34m.\u001b[0m\u001b[0mtrain\u001b[0m\u001b[0;34m(\u001b[0m\u001b[0mX\u001b[0m\u001b[0;34m,\u001b[0m\u001b[0mY\u001b[0m\u001b[0;34m,\u001b[0m\u001b[0;36m1e-5\u001b[0m\u001b[0;34m,\u001b[0m\u001b[0;36m10000\u001b[0m\u001b[0;34m,\u001b[0m\u001b[0;32mTrue\u001b[0m\u001b[0;34m,\u001b[0m\u001b[0mGCEC\u001b[0m\u001b[0;34m,\u001b[0m\u001b[0;36m.8\u001b[0m\u001b[0;34m,\u001b[0m\u001b[0;36m0\u001b[0m\u001b[0;34m)\u001b[0m\u001b[0;34m\u001b[0m\u001b[0;34m\u001b[0m\u001b[0m\n\u001b[0m\u001b[1;32m      2\u001b[0m \u001b[0mp\u001b[0m\u001b[0;34m=\u001b[0m\u001b[0mnp\u001b[0m\u001b[0;34m.\u001b[0m\u001b[0mrint\u001b[0m\u001b[0;34m(\u001b[0m\u001b[0mmod1\u001b[0m\u001b[0;34m.\u001b[0m\u001b[0mpredictions\u001b[0m\u001b[0;34m)\u001b[0m\u001b[0;34m\u001b[0m\u001b[0;34m\u001b[0m\u001b[0m\n\u001b[1;32m      3\u001b[0m \u001b[0mprint\u001b[0m\u001b[0;34m(\u001b[0m\u001b[0mnp\u001b[0m\u001b[0;34m.\u001b[0m\u001b[0mmean\u001b[0m\u001b[0;34m(\u001b[0m\u001b[0mp\u001b[0m\u001b[0;34m==\u001b[0m\u001b[0mY\u001b[0m\u001b[0;34m)\u001b[0m\u001b[0;34m)\u001b[0m\u001b[0;34m\u001b[0m\u001b[0;34m\u001b[0m\u001b[0m\n",
      "\u001b[0;32m<ipython-input-1-80a394ce26a0>\u001b[0m in \u001b[0;36mtrain\u001b[0;34m(self, x, yval, LR, epochs, taskclassification, costfunction, mu, k)\u001b[0m\n\u001b[1;32m     98\u001b[0m                 \u001b[0mself\u001b[0m\u001b[0;34m.\u001b[0m\u001b[0mcosts\u001b[0m\u001b[0;34m=\u001b[0m\u001b[0mcostfunction\u001b[0m\u001b[0;34m(\u001b[0m\u001b[0mself\u001b[0m\u001b[0;34m.\u001b[0m\u001b[0mpredictions\u001b[0m\u001b[0;34m,\u001b[0m\u001b[0myval\u001b[0m\u001b[0;34m)\u001b[0m\u001b[0;34m\u001b[0m\u001b[0;34m\u001b[0m\u001b[0m\n\u001b[1;32m     99\u001b[0m                 \u001b[0mself\u001b[0m\u001b[0;34m.\u001b[0m\u001b[0mcost\u001b[0m\u001b[0;34m=\u001b[0m\u001b[0mnp\u001b[0m\u001b[0;34m.\u001b[0m\u001b[0mappend\u001b[0m\u001b[0;34m(\u001b[0m\u001b[0mself\u001b[0m\u001b[0;34m.\u001b[0m\u001b[0mcost\u001b[0m\u001b[0;34m,\u001b[0m\u001b[0mself\u001b[0m\u001b[0;34m.\u001b[0m\u001b[0mcosts\u001b[0m\u001b[0;34m)\u001b[0m\u001b[0;34m\u001b[0m\u001b[0;34m\u001b[0m\u001b[0m\n\u001b[0;32m--> 100\u001b[0;31m                 \u001b[0mself\u001b[0m\u001b[0;34m.\u001b[0m\u001b[0mpred\u001b[0m\u001b[0;34m=\u001b[0m\u001b[0mnp\u001b[0m\u001b[0;34m.\u001b[0m\u001b[0meye\u001b[0m\u001b[0;34m(\u001b[0m\u001b[0mself\u001b[0m\u001b[0;34m.\u001b[0m\u001b[0mpredictions\u001b[0m\u001b[0;34m.\u001b[0m\u001b[0mshape\u001b[0m\u001b[0;34m[\u001b[0m\u001b[0;36m1\u001b[0m\u001b[0;34m]\u001b[0m\u001b[0;34m)\u001b[0m\u001b[0;34m[\u001b[0m\u001b[0mself\u001b[0m\u001b[0;34m.\u001b[0m\u001b[0mpredictions\u001b[0m\u001b[0;34m.\u001b[0m\u001b[0margmax\u001b[0m\u001b[0;34m(\u001b[0m\u001b[0;36m0\u001b[0m\u001b[0;34m)\u001b[0m\u001b[0;34m]\u001b[0m\u001b[0;34m\u001b[0m\u001b[0;34m\u001b[0m\u001b[0m\n\u001b[0m\u001b[1;32m    101\u001b[0m                 \u001b[0mself\u001b[0m\u001b[0;34m.\u001b[0m\u001b[0macc\u001b[0m\u001b[0;34m=\u001b[0m\u001b[0mnp\u001b[0m\u001b[0;34m.\u001b[0m\u001b[0mmean\u001b[0m\u001b[0;34m(\u001b[0m\u001b[0mself\u001b[0m\u001b[0;34m.\u001b[0m\u001b[0mpred\u001b[0m\u001b[0;34m==\u001b[0m\u001b[0myval\u001b[0m\u001b[0;34m)\u001b[0m\u001b[0;34m\u001b[0m\u001b[0;34m\u001b[0m\u001b[0m\n\u001b[1;32m    102\u001b[0m \u001b[0;34m\u001b[0m\u001b[0m\n",
      "\u001b[0;31mIndexError\u001b[0m: index 40 is out of bounds for axis 0 with size 3"
     ]
    }
   ],
   "source": [
    "mod1.train(X,Y,1e-5,10000,True,GCEC,.8,0)\n",
    "p=np.rint(mod1.predictions)\n",
    "print(np.mean(p==Y))\n"
   ]
  },
  {
   "cell_type": "code",
   "execution_count": 18,
   "metadata": {},
   "outputs": [
    {
     "name": "stderr",
     "output_type": "stream",
     "text": [
      "/home/donald/anaconda3/lib/python3.7/site-packages/ipykernel_launcher.py:9: RuntimeWarning: invalid value encountered in true_divide\n",
      "  if __name__ == '__main__':\n"
     ]
    },
    {
     "data": {
      "text/plain": [
       "()"
      ]
     },
     "execution_count": 18,
     "metadata": {},
     "output_type": "execute_result"
    }
   ],
   "source": [
    "mod2.wi()\n",
    "mod2.predict(X)"
   ]
  },
  {
   "cell_type": "code",
   "execution_count": 19,
   "metadata": {},
   "outputs": [
    {
     "name": "stderr",
     "output_type": "stream",
     "text": [
      "/home/donald/anaconda3/lib/python3.7/site-packages/ipykernel_launcher.py:9: RuntimeWarning: invalid value encountered in true_divide\n",
      "  if __name__ == '__main__':\n",
      "/home/donald/anaconda3/lib/python3.7/site-packages/ipykernel_launcher.py:11: RuntimeWarning: invalid value encountered in greater\n",
      "  # This is added back by InteractiveShellApp.init_path()\n",
      "/home/donald/anaconda3/lib/python3.7/site-packages/ipykernel_launcher.py:13: RuntimeWarning: invalid value encountered in greater\n",
      "  del sys.path[0]\n",
      "/home/donald/anaconda3/lib/python3.7/site-packages/ipykernel_launcher.py:101: DeprecationWarning: elementwise == comparison failed; this will raise an error in the future.\n"
     ]
    },
    {
     "data": {
      "text/plain": [
       "array([[nan, nan, nan],\n",
       "       [nan, nan, nan],\n",
       "       [nan, nan, nan],\n",
       "       ...,\n",
       "       [nan, nan, nan],\n",
       "       [nan, nan, nan],\n",
       "       [nan, nan, nan]])"
      ]
     },
     "execution_count": 19,
     "metadata": {},
     "output_type": "execute_result"
    },
    {
     "data": {
      "image/png": "[encoded data removed]",
      "text/plain": [
       "<Figure size 432x288 with 1 Axes>"
      ]
     },
     "metadata": {
      "needs_background": "light"
     },
     "output_type": "display_data"
    }
   ],
   "source": [
    "mod2.train(X,Y,5e-5,5,True,GCEC,0.5,0)"
   ]
  },
  {
   "cell_type": "code",
   "execution_count": 20,
   "metadata": {},
   "outputs": [],
   "source": [
    "X = np.matrix(np.random.randn(500,2))"
   ]
  },
  {
   "cell_type": "code",
   "execution_count": 21,
   "metadata": {},
   "outputs": [
    {
     "ename": "TypeError",
     "evalue": "normalize() missing 2 required positional arguments: 'xmin' and 'xmax'",
     "output_type": "error",
     "traceback": [
      "\u001b[0;31m---------------------------------------------------------------------------\u001b[0m",
      "\u001b[0;31mTypeError\u001b[0m                                 Traceback (most recent call last)",
      "\u001b[0;32m<ipython-input-21-d11d70cf91d0>\u001b[0m in \u001b[0;36m<module>\u001b[0;34m\u001b[0m\n\u001b[0;32m----> 1\u001b[0;31m \u001b[0mnormalize\u001b[0m\u001b[0;34m(\u001b[0m\u001b[0mX\u001b[0m\u001b[0;34m)\u001b[0m\u001b[0;34m\u001b[0m\u001b[0;34m\u001b[0m\u001b[0m\n\u001b[0m",
      "\u001b[0;31mTypeError\u001b[0m: normalize() missing 2 required positional arguments: 'xmin' and 'xmax'"
     ]
    }
   ],
   "source": [
    "normalize(X, X.)"
   ]
  }
 ],
 "metadata": {
  "kernelspec": {
   "display_name": "Python 3",
   "language": "python",
   "name": "python3"
  },
  "language_info": {
   "codemirror_mode": {
    "name": "ipython",
    "version": 3
   },
   "file_extension": ".py",
   "mimetype": "text/x-python",
   "name": "python",
   "nbconvert_exporter": "python",
   "pygments_lexer": "ipython3",
   "version": "3.7.1"
  }
 },
 "nbformat": 4,
 "nbformat_minor": 2
}
