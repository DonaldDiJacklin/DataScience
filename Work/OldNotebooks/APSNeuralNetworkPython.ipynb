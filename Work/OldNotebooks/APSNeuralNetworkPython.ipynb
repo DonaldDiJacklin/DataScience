{
 "cells": [
  {
   "cell_type": "code",
   "execution_count": 2,
   "metadata": {},
   "outputs": [],
   "source": [
    "import numpy as np\n",
    "import pandas as pd\n",
    "import matplotlib.pyplot as plt"
   ]
  },
  {
   "cell_type": "code",
   "execution_count": 57,
   "metadata": {},
   "outputs": [
    {
     "name": "stderr",
     "output_type": "stream",
     "text": [
      "/home/donald/anaconda3/lib/python3.7/site-packages/ipykernel_launcher.py:1: FutureWarning: Method .as_matrix will be removed in a future version. Use .values instead.\n",
      "  \"\"\"Entry point for launching an IPython kernel.\n",
      "/home/donald/anaconda3/lib/python3.7/site-packages/ipykernel_launcher.py:2: FutureWarning: Method .as_matrix will be removed in a future version. Use .values instead.\n",
      "  \n",
      "/home/donald/anaconda3/lib/python3.7/site-packages/ipykernel_launcher.py:3: FutureWarning: Method .as_matrix will be removed in a future version. Use .values instead.\n",
      "  This is separate from the ipykernel package so we can avoid doing imports until\n",
      "/home/donald/anaconda3/lib/python3.7/site-packages/ipykernel_launcher.py:4: FutureWarning: Method .as_matrix will be removed in a future version. Use .values instead.\n",
      "  after removing the cwd from sys.path.\n",
      "/home/donald/anaconda3/lib/python3.7/site-packages/ipykernel_launcher.py:5: FutureWarning: Method .as_matrix will be removed in a future version. Use .values instead.\n",
      "  \"\"\"\n",
      "/home/donald/anaconda3/lib/python3.7/site-packages/ipykernel_launcher.py:6: FutureWarning: Method .as_matrix will be removed in a future version. Use .values instead.\n",
      "  \n"
     ]
    }
   ],
   "source": [
    "Xtrain = pd.read_csv(\"Xtrain.csv\").as_matrix()\n",
    "Ytrain = pd.read_csv(\"Ytrain.csv\").as_matrix()\n",
    "Xval = pd.read_csv(\"Xval.csv\").as_matrix()\n",
    "Yval = pd.read_csv(\"Yval.csv\").as_matrix()\n",
    "Xtest = pd.read_csv(\"Xtest.csv\").as_matrix()\n",
    "Ytest = pd.read_csv(\"Ytest.csv\").as_matrix()"
   ]
  },
  {
   "cell_type": "code",
   "execution_count": 58,
   "metadata": {},
   "outputs": [],
   "source": [
    "def ROC(X,Y,w1,b1,w2,b2):\n",
    "    threshold = np.linspace(1000,0, 1001)\n",
    "    threshold = threshold/1000\n",
    "    tprs = []\n",
    "    fprs = []\n",
    "    for i in threshold:\n",
    "        tprs.append(np.sum(np.multiply((sig(tanh(X@w1 + b1)@w2+b2)>i),Y))/np.sum(Y))\n",
    "        fprs.append(np.sum(np.multiply((sig(tanh(X@w1 + b1)@w2+b2)>i),1 - Y))/np.sum(1 - Y))\n",
    "    plt.plot(fprs,tprs)\n",
    "    plt.plot([0,1],[0,1], c = 'black')\n",
    "    plt.xlabel(\"False Positive Rate\",fontsize = 14)\n",
    "    plt.ylabel(\"True Positive Rate\", fontsize = 14)\n",
    "    plt.title(\"ROC\", fontsize  = 20)\n",
    "    leg = \"AUC = \"+str((np.sum(np.multiply(tprs[0:1000],np.diff(fprs)))+np.sum(np.multiply(tprs[1:1001],np.diff(fprs))))/2)\n",
    "    plt.text(.58,0,leg, fontsize = 14)\n",
    "    plt.show()\n",
    "def tanh(X):\n",
    "    return (np.exp(X)-np.exp(-X))/(np.exp(X)+np.exp(-X))\n",
    "def sig(X):\n",
    "    return 1/(1+np.exp(-X))"
   ]
  },
  {
   "cell_type": "code",
   "execution_count": 59,
   "metadata": {},
   "outputs": [],
   "source": [
    "trainmaxs = np.max(Xtrain,axis = 0)\n",
    "trainmins = np.min(Xtrain, axis = 0)"
   ]
  },
  {
   "cell_type": "code",
   "execution_count": 60,
   "metadata": {},
   "outputs": [],
   "source": [
    "Xtrain = (Xtrain-trainmins)/(trainmaxs - trainmins)\n",
    "Xval = (Xval-trainmins)/(trainmaxs - trainmins)\n",
    "Xtest = (Xtest-trainmins)/(trainmaxs - trainmins)"
   ]
  },
  {
   "cell_type": "code",
   "execution_count": 141,
   "metadata": {},
   "outputs": [],
   "source": [
    "w1 = np.matrix(np.random.randn(169,70))\n",
    "w2 = np.matrix(np.random.randn(70,1))\n",
    "b1 = np.matrix(np.random.randn(1,70))\n",
    "b2 = np.asscalar(np.random.randn(1,1))\n",
    "errs = []\n",
    "for i in range(0,500):\n",
    "    A1 = Xtrain@w1 + b1\n",
    "    Z1 = tanh(A1)\n",
    "    A2 = Z1@w2 + b2\n",
    "    phat = sig(A2)\n",
    "    w1 = w1 - .00001*Xtrain.T@(np.multiply(\n",
    "        (phat - Ytrain)@w2.T,(1 - np.multiply(Z1,Z1))))\n",
    "    w2 = w2 - .00001*Z1.T@(phat - Ytrain)\n",
    "    b1 = b1 - .00001*np.sum(np.multiply(\n",
    "        (phat - Ytrain)@w2.T,(1 - np.multiply(Z1,Z1))))\n",
    "    b2 = b2 - .00001*np.sum(phat - Ytrain)\n",
    "    A1val = Xval@w1 + b1\n",
    "    Z1val = tanh(A1val)\n",
    "    A2val = Z1val@w2 + b2\n",
    "    phatval = sig(A2val)\n",
    "    errs.append(-np.sum(np.multiply(\n",
    "        Yval,np.log(phatval))+np.multiply((1-Yval),\n",
    "                                    np.log(1-phatval))))"
   ]
  },
  {
   "cell_type": "code",
   "execution_count": 142,
   "metadata": {},
   "outputs": [
    {
     "data": {
      "text/plain": [
       "472.9514865744491"
      ]
     },
     "execution_count": 142,
     "metadata": {},
     "output_type": "execute_result"
    },
    {
     "data": {
      "image/png": "[encoded data removed]",
      "text/plain": [
       "<Figure size 432x288 with 1 Axes>"
      ]
     },
     "metadata": {
      "needs_background": "light"
     },
     "output_type": "display_data"
    }
   ],
   "source": [
    "plt.plot(errs)\n",
    "min(errs)"
   ]
  },
  {
   "cell_type": "code",
   "execution_count": 143,
   "metadata": {},
   "outputs": [],
   "source": [
    "def ROC(X,Y,w1,b1,w2,b2):\n",
    "    threshold = np.linspace(1000,0, 1001)\n",
    "    threshold = threshold/1000\n",
    "    tprs = []\n",
    "    fprs = []\n",
    "    for i in threshold:\n",
    "        tprs.append(np.sum(np.multiply((sig(tanh(X@w1 + b1)@w2+b2)>i),Y))/np.sum(Y))\n",
    "        fprs.append(np.sum(np.multiply((sig(tanh(X@w1 + b1)@w2+b2)>i),1 - Y))/np.sum(1 - Y))\n",
    "    plt.plot(fprs,tprs)\n",
    "    plt.plot([0,1],[0,1], c = 'black')\n",
    "    plt.xlabel(\"False Positive Rate\",fontsize = 14)\n",
    "    plt.ylabel(\"True Positive Rate\", fontsize = 14)\n",
    "    plt.title(\"ROC\", fontsize  = 20)\n",
    "    leg = \"AUC = \"+str(round((np.sum(np.multiply(tprs[0:1000],np.diff(fprs)))+np.sum(np.multiply(tprs[1:1001],np.diff(fprs))))/2,4))\n",
    "    plt.text(.58,0,leg, fontsize = 14)\n",
    "    plt.show()"
   ]
  },
  {
   "cell_type": "code",
   "execution_count": 144,
   "metadata": {},
   "outputs": [
    {
     "data": {
      "image/png": "[encoded data removed]",
      "text/plain": [
       "<Figure size 432x288 with 1 Axes>"
      ]
     },
     "metadata": {
      "needs_background": "light"
     },
     "output_type": "display_data"
    }
   ],
   "source": [
    "ROC(Xtest,Ytest,w1,b1,w2,b2)"
   ]
  },
  {
   "cell_type": "markdown",
   "metadata": {},
   "source": [
    "Number of nodes is 70."
   ]
  },
  {
   "cell_type": "code",
   "execution_count": null,
   "metadata": {},
   "outputs": [],
   "source": []
  }
 ],
 "metadata": {
  "kernelspec": {
   "display_name": "Python 3",
   "language": "python",
   "name": "python3"
  },
  "language_info": {
   "codemirror_mode": {
    "name": "ipython",
    "version": 3
   },
   "file_extension": ".py",
   "mimetype": "text/x-python",
   "name": "python",
   "nbconvert_exporter": "python",
   "pygments_lexer": "ipython3",
   "version": "3.7.1"
  }
 },
 "nbformat": 4,
 "nbformat_minor": 2
}
