{
 "cells": [
  {
   "cell_type": "code",
   "execution_count": 1,
   "metadata": {},
   "outputs": [],
   "source": [
    "data <- read.csv(\"APSfailure.csv\", header = T, na.strings = c('NA','na'))"
   ]
  },
  {
   "cell_type": "markdown",
   "metadata": {},
   "source": [
    "# Not shown is that I found that there are only two columns that don't contain NA's.\n"
   ]
  },
  {
   "cell_type": "markdown",
   "metadata": {},
   "source": [
    "Split the data into X's and Y's momentarily so that I can operate on them separately."
   ]
  },
  {
   "cell_type": "code",
   "execution_count": 2,
   "metadata": {},
   "outputs": [],
   "source": [
    "Yfull <- data[,1]\n",
    "Xfull <- data[,2:ncol(data)]"
   ]
  },
  {
   "cell_type": "code",
   "execution_count": 3,
   "metadata": {},
   "outputs": [],
   "source": [
    "Yfull <- ifelse(Yfull == 'neg',0,1)"
   ]
  },
  {
   "cell_type": "markdown",
   "metadata": {},
   "source": [
    "This following function is used to check how many unique entries are in a row or column, and will be used with the next apply function so that I can see if anything needs to be One Hot Encoded."
   ]
  },
  {
   "cell_type": "code",
   "execution_count": 4,
   "metadata": {},
   "outputs": [],
   "source": [
    "coun <- function(col){\n",
    "    return(length(unique(col)))\n",
    "}"
   ]
  },
  {
   "cell_type": "markdown",
   "metadata": {},
   "source": [
    "This uses the above function to count how many unique values there are in each column."
   ]
  },
  {
   "cell_type": "code",
   "execution_count": 5,
   "metadata": {},
   "outputs": [],
   "source": [
    "uniques <- apply(Xfull, FUN = coun, MARGIN = 2)"
   ]
  },
  {
   "cell_type": "markdown",
   "metadata": {},
   "source": [
    "This identifies which columns are completely filled with NA's or only one element and eliminates them from the dataset since we can't extract any value from them."
   ]
  },
  {
   "cell_type": "code",
   "execution_count": 6,
   "metadata": {},
   "outputs": [],
   "source": [
    "indlesstwo <- which(uniques<2)\n",
    "Xfull<-Xfull[,-indlesstwo]"
   ]
  },
  {
   "cell_type": "markdown",
   "metadata": {},
   "source": [
    "This identifies which remaining columns have less unique elements than three so I can One Hot Encode them."
   ]
  },
  {
   "cell_type": "code",
   "execution_count": 7,
   "metadata": {},
   "outputs": [],
   "source": [
    "nuniques <- apply(Xfull, FUN = coun, MARGIN = 2)\n",
    "indlessthree <- which(nuniques < 3)\n"
   ]
  },
  {
   "cell_type": "code",
   "execution_count": 8,
   "metadata": {},
   "outputs": [],
   "source": [
    "Xfull<-Xfull[,-indlessthree]\n"
   ]
  },
  {
   "cell_type": "code",
   "execution_count": 9,
   "metadata": {},
   "outputs": [],
   "source": [
    "new <- cbind(Yfull,Xfull)"
   ]
  },
  {
   "cell_type": "code",
   "execution_count": 10,
   "metadata": {},
   "outputs": [],
   "source": [
    "TVTsplit <- function(matrix, train = .7){\n",
    "#     This function's purpose is to split a given matrix\n",
    "#     into three parts: train, test, and validate. The \n",
    "#     train parameter is the percentage of the data that\n",
    "#     goes into training 70% by default. The val parameter\n",
    "#     determines how much goes into the validation set\n",
    "#     15% by default. The rest of the data goes into\n",
    "#     the test set.\n",
    "    \n",
    "    # The following does some common sense things like\n",
    "    # telling you that train and val need to add up to less\n",
    "    # than 1.\n",
    "    if(train > .99){\n",
    "        print(\"Splitting failed. Please make sure that\n",
    "                train is less than .99 so that test and\n",
    "                val have enough data.\")\n",
    "        return(0)\n",
    "    }\n",
    "    \n",
    "    # This first line makes an index so that the data can\n",
    "    # be subset randomly into two original sets: Train\n",
    "    # and TestVal\n",
    "    index <- sample(1:length(matrix[,1]),\n",
    "                    round(length(matrix[,1])*train),\n",
    "                    replace = FALSE)\n",
    "    Train <- matrix[index,]\n",
    "    TestVal <- matrix[-index,]\n",
    "    \n",
    "    # The next part splits TestVal into Test and Val.\n",
    "    index <- sample(1:length(TestVal[,1]), \n",
    "                    round(length(TestVal[,1])*.5),\n",
    "                    replace = FALSE)\n",
    "    Val <- TestVal[index,]\n",
    "    Test <- TestVal[-index,]\n",
    "    \n",
    "    # Please note that this returns a list of the \n",
    "    # three subsets.\n",
    "    return(list(Train, Val, Test))\n",
    "}"
   ]
  },
  {
   "cell_type": "code",
   "execution_count": 11,
   "metadata": {},
   "outputs": [],
   "source": [
    "sets <- TVTsplit(new, .7)\n",
    "train <- as.data.frame(sets[1])\n",
    "val <- as.data.frame(sets[2])\n",
    "test <- as.data.frame(sets[3])"
   ]
  },
  {
   "cell_type": "code",
   "execution_count": 12,
   "metadata": {},
   "outputs": [
    {
     "name": "stderr",
     "output_type": "stream",
     "text": [
      "Warning message in na.omit(as.numeric(col)):\n",
      "“NAs introduced by coercion”"
     ]
    }
   ],
   "source": [
    "mwona <- function(col){\n",
    "    newcol <- na.omit(as.numeric(col))\n",
    "    newcol[is.na(newcol)]<- mean(newcol, na.rm = TRUE)\n",
    "}\n",
    "trainmeans <- apply(train, MARGIN = 2,FUN = mwona)"
   ]
  },
  {
   "cell_type": "code",
   "execution_count": 13,
   "metadata": {},
   "outputs": [],
   "source": [
    "for(i in 1:ncol(train)){\n",
    "    newtrain <- na.omit(train[,i])\n",
    "    train[,i]<-as.numeric(train[,i])\n",
    "    val[,i]<-as.numeric(val[,i])\n",
    "    test[,i]<-as.numeric(test[,i])\n",
    "    train[,i][is.na(train[,i])] <- mean(as.numeric(newtrain[i]))\n",
    "    val[,i][is.na(val[,i])] <- mean(as.numeric(newtrain[i]))\n",
    "    test[,i][is.na(test[,i])] <- mean(as.numeric(newtrain[i]))\n",
    "}"
   ]
  },
  {
   "cell_type": "code",
   "execution_count": 16,
   "metadata": {},
   "outputs": [],
   "source": [
    "Xtrain <-train[,2:ncol(train)]\n",
    "Ytrain <-train[,1]\n",
    "\n",
    "Xval <- val[,2:ncol(val)]\n",
    "Yval <- val[,1]\n",
    "\n",
    "Xtest <- test[,2:ncol(test)]\n",
    "Ytest <- test[,1]\n",
    "write.csv(Xtrain, \"Xtrain.csv\",row.names = FALSE)\n",
    "write.csv(Ytrain, \"Ytrain.csv\",row.names = FALSE)\n",
    "write.csv(Xval,\"Xval.csv\",row.names = FALSE)\n",
    "write.csv(Yval,\"Yval.csv\",row.names = FALSE)\n",
    "write.csv(Xtest,\"Xtest.csv\",row.names = FALSE)\n",
    "write.csv(Ytest,\"Ytest.csv\",row.names = FALSE)"
   ]
  },
  {
   "cell_type": "code",
   "execution_count": 15,
   "metadata": {},
   "outputs": [],
   "source": [
    "phitrain <- cbind(rep(1,nrow(Xtrain)),Xtrain)\n",
    "phival <- cbind(rep(1,nrow(Xval)),Xval)\n",
    "phitest <- cbind(rep(1,nrow(Xtest)),Xtest)"
   ]
  },
  {
   "cell_type": "code",
   "execution_count": 16,
   "metadata": {},
   "outputs": [],
   "source": [
    "w <- as.matrix(rnorm(ncol(phitrain)))"
   ]
  },
  {
   "cell_type": "code",
   "execution_count": 17,
   "metadata": {},
   "outputs": [],
   "source": [
    "sig<-function(matrix){\n",
    "    return(1/(1+exp(-matrix)))\n",
    "}"
   ]
  },
  {
   "cell_type": "code",
   "execution_count": 18,
   "metadata": {},
   "outputs": [],
   "source": [
    "for(i in 1:ncol(phitrain)){\n",
    "    phitrain[,i]<-as.numeric(phitrain[,i])\n",
    "    phival[,i]<-as.numeric(phival[,i])\n",
    "    phitest[,i]<-as.numeric(phitest[,i])\n",
    "#     print(is.numeric(phitrain[,i]))\n",
    "}\n",
    "phitrain<-as.matrix(phitrain)\n",
    "phival<-as.matrix(phival)\n",
    "phitest<-as.matrix(phitest)"
   ]
  },
  {
   "cell_type": "code",
   "execution_count": 19,
   "metadata": {},
   "outputs": [],
   "source": [
    "trainmaxs <- apply(phitrain,FUN = max, MARGIN = 2)\n",
    "trainmins<- apply(phitrain, FUN = min, MARGIN = 2)"
   ]
  },
  {
   "cell_type": "code",
   "execution_count": 20,
   "metadata": {},
   "outputs": [],
   "source": [
    "for(i in 2:ncol(phitrain)){\n",
    "    phitrain[,i]<-(phitrain[,i] - trainmaxs[i])/(trainmaxs[i]-trainmins[i])\n",
    "    phival[,i]<-(phival[,i] - trainmaxs[i])/(trainmaxs[i]-trainmins[i])\n",
    "    phitest[,i]<-(phitest[,i] - trainmaxs[i])/(trainmaxs[i]-trainmins[i])\n",
    "}\n"
   ]
  },
  {
   "cell_type": "code",
   "execution_count": 21,
   "metadata": {},
   "outputs": [],
   "source": [
    "w<-as.matrix(rnorm(ncol(phitrain)))\n"
   ]
  },
  {
   "cell_type": "code",
   "execution_count": 89,
   "metadata": {},
   "outputs": [
    {
     "data": {
      "text/html": [
       "0.889473684210526"
      ],
      "text/latex": [
       "0.889473684210526"
      ],
      "text/markdown": [
       "0.889473684210526"
      ],
      "text/plain": [
       "[1] 0.8894737"
      ]
     },
     "metadata": {},
     "output_type": "display_data"
    },
    {
     "data": {
      "text/html": [
       "0.929035087719298"
      ],
      "text/latex": [
       "0.929035087719298"
      ],
      "text/markdown": [
       "0.929035087719298"
      ],
      "text/plain": [
       "[1] 0.9290351"
      ]
     },
     "metadata": {},
     "output_type": "display_data"
    },
    {
     "data": {
      "text/html": [
       "0.943722943722944"
      ],
      "text/latex": [
       "0.943722943722944"
      ],
      "text/markdown": [
       "0.943722943722944"
      ],
      "text/plain": [
       "[1] 0.9437229"
      ]
     },
     "metadata": {},
     "output_type": "display_data"
    },
    {
     "data": {
      "text/html": [
       "0.935175438596491"
      ],
      "text/latex": [
       "0.935175438596491"
      ],
      "text/markdown": [
       "0.935175438596491"
      ],
      "text/plain": [
       "[1] 0.9351754"
      ]
     },
     "metadata": {},
     "output_type": "display_data"
    },
    {
     "data": {
      "text/html": [
       "2628.63056091582"
      ],
      "text/latex": [
       "2628.63056091582"
      ],
      "text/markdown": [
       "2628.63056091582"
      ],
      "text/plain": [
       "[1] 2628.631"
      ]
     },
     "metadata": {},
     "output_type": "display_data"
    },
    {
     "data": {
      "image/png": "[encoded data removed]",
      "text/plain": [
       "plot without title"
      ]
     },
     "metadata": {},
     "output_type": "display_data"
    }
   ],
   "source": [
    "cost<-c()\n",
    "inds<-c()\n",
    "acclist <- c()\n",
    "# costbest<- 100000000\n",
    "w<-wbest\n",
    "for(i in 1:1000){\n",
    "    w<-w - .000000001*t(phitrain)%*%(sig(phitrain%*%w) - Ytrain)-600*sign(w) - .00001*w\n",
    "    r<-ifelse(Yval == 1,-log(sig(phival%*%w)),-log(1-sig(phival%*%w)))\n",
    "    acc<-mean(round(sig(phival%*%w))==Yval)\n",
    "    acclist<- c(acclist,acc)\n",
    "    cost<-c(cost,sum(r))\n",
    "    inds<- c(inds,i)\n",
    "    if(sum(r) < costbest){\n",
    "        costbest<- sum(r)\n",
    "        wbest<-w\n",
    "    }\n",
    "    \n",
    "    \n",
    "}\n",
    "plot(inds,cost)\n",
    "sum(round(sig(phival%*%w))*Yval)/sum(Yval)\n",
    "acc\n",
    "sum(round(sig(phitest%*%w))*Ytest)/sum(Ytest)\n",
    "mean(round(sig(phitest%*%w))==Ytest)\n",
    "sum(r)"
   ]
  },
  {
   "cell_type": "code",
   "execution_count": 109,
   "metadata": {},
   "outputs": [
    {
     "data": {
      "text/html": [
       "0.0183101107538407"
      ],
      "text/latex": [
       "0.0183101107538407"
      ],
      "text/markdown": [
       "0.0183101107538407"
      ],
      "text/plain": [
       "[1] 0.01831011"
      ]
     },
     "metadata": {},
     "output_type": "display_data"
    }
   ],
   "source": [
    "# sum((sig(phitest%*%w)>.7)*!Ytest)/sum(Ytest==0)"
   ]
  },
  {
   "cell_type": "code",
   "execution_count": 90,
   "metadata": {},
   "outputs": [
    {
     "data": {
      "image/png": "[encoded data removed]",
      "text/plain": [
       "Plot with title “ROC”"
      ]
     },
     "metadata": {},
     "output_type": "display_data"
    }
   ],
   "source": [
    "ROC<- function(X, Y, w){\n",
    "    threshold<- 0:1000\n",
    "    threshold<- rev(threshold/1000)\n",
    "    tprs<-c()\n",
    "    fprs<-c()\n",
    "    for(i in threshold){\n",
    "        tprs<-c(tprs,sum((sig(X%*%w)>i)*Y)/sum(Y))\n",
    "        fprs<-c(fprs,sum((sig(X%*%w)>i)*(!Y))/sum(!Y))\n",
    "    }\n",
    "    plot(fprs,tprs, xlab = \"False Positive Rate\", \n",
    "         ylab = 'True Positive Rate', main = \"ROC\",\n",
    "         type = 'n', xlim = c(0,1), ylim = c(0,1))\n",
    "    newtprs<-c(tprs[2:length(tprs)],1)\n",
    "    legend(.74,0.1,legend = paste(\"AUC =\",round((sum(tprs[1:1000]*diff(fprs))+sum(tprs[2:1001]*diff(fprs)))/2, 4)))\n",
    "    lines(fprs,tprs)\n",
    "    abline(0,1)\n",
    "}\n",
    "ROC(phitest,Ytest,w)"
   ]
  }
 ],
 "metadata": {
  "kernelspec": {
   "display_name": "R",
   "language": "R",
   "name": "ir"
  },
  "language_info": {
   "codemirror_mode": "r",
   "file_extension": ".r",
   "mimetype": "text/x-r-source",
   "name": "R",
   "pygments_lexer": "r",
   "version": "3.4.2"
  }
 },
 "nbformat": 4,
 "nbformat_minor": 2
}
