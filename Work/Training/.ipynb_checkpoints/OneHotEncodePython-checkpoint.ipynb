{
 "cells": [
  {
   "cell_type": "code",
   "execution_count": 1,
   "metadata": {},
   "outputs": [
    {
     "ename": "NameError",
     "evalue": "name 'data' is not defined",
     "output_type": "error",
     "traceback": [
      "\u001b[0;31m---------------------------------------------------------------------------\u001b[0m",
      "\u001b[0;31mNameError\u001b[0m                                 Traceback (most recent call last)",
      "\u001b[0;32m<ipython-input-1-3d17002e4634>\u001b[0m in \u001b[0;36m<module>\u001b[0;34m\u001b[0m\n\u001b[1;32m     47\u001b[0m     \u001b[0mVal\u001b[0m \u001b[0;34m=\u001b[0m \u001b[0mmatrix\u001b[0m\u001b[0;34m[\u001b[0m\u001b[0;34m(\u001b[0m\u001b[0msplitnum\u001b[0m\u001b[0;34m+\u001b[0m\u001b[0msplitnum2\u001b[0m\u001b[0;34m)\u001b[0m\u001b[0;34m:\u001b[0m\u001b[0;34m,\u001b[0m\u001b[0;34m]\u001b[0m\u001b[0;34m\u001b[0m\u001b[0;34m\u001b[0m\u001b[0m\n\u001b[1;32m     48\u001b[0m     \u001b[0;32mreturn\u001b[0m \u001b[0mTrain\u001b[0m\u001b[0;34m,\u001b[0m \u001b[0mVal\u001b[0m\u001b[0;34m,\u001b[0m \u001b[0mTest\u001b[0m\u001b[0;34m\u001b[0m\u001b[0;34m\u001b[0m\u001b[0m\n\u001b[0;32m---> 49\u001b[0;31m \u001b[0mtrain\u001b[0m\u001b[0;34m,\u001b[0m \u001b[0mval\u001b[0m\u001b[0;34m,\u001b[0m \u001b[0mtest\u001b[0m \u001b[0;34m=\u001b[0m \u001b[0mTVTsplit\u001b[0m\u001b[0;34m(\u001b[0m\u001b[0mdata\u001b[0m\u001b[0;34m)\u001b[0m\u001b[0;34m\u001b[0m\u001b[0;34m\u001b[0m\u001b[0m\n\u001b[0m",
      "\u001b[0;31mNameError\u001b[0m: name 'data' is not defined"
     ]
    }
   ],
   "source": [
    "import numpy as np\n",
    "def oneHotEncode(matrix, columns):\n",
    "    for column in columns:\n",
    "        uniques = np.unique(matrix[:,column])\n",
    "        newmat = np.zeros((len(matrix[:,column]),len(uniques)))\n",
    "\n",
    "        for i in range(0,len(matrix[:,column])):\n",
    "            for j in range(0,len(uniques)):\n",
    "                if(matrix[i,column] == uniques[j]):\n",
    "                    newmat[i,j] = 1\n",
    "        matrix = np.column_stack((matrix,newmat))\n",
    "    try:\n",
    "        matrix = np.delete(matrix,columns,axis = 1).astype(float)\n",
    "    except:\n",
    "        matrix = np.delete(matrix,columns,axis = 1)\n",
    "    return matrix\n",
    "\n"
   ]
  },
  {
   "cell_type": "code",
   "execution_count": 35,
   "metadata": {},
   "outputs": [
    {
     "name": "stdout",
     "output_type": "stream",
     "text": [
      "[[1. 0. 1.]\n",
      " [5. 0. 1.]\n",
      " [2. 0. 1.]\n",
      " [2. 0. 1.]\n",
      " [3. 0. 1.]\n",
      " [1. 1. 0.]]\n"
     ]
    }
   ],
   "source": [
    "f = [3,3,3,3,3,1]\n",
    "g = [1,5,2,2,3,1]\n",
    "fgmat = np.column_stack((f,g))\n",
    "print(oneHotEncode(fgmat,[0]))"
   ]
  },
  {
   "cell_type": "code",
   "execution_count": 36,
   "metadata": {},
   "outputs": [
    {
     "name": "stdout",
     "output_type": "stream",
     "text": [
      "[[3. 1. 0. 0. 0.]\n",
      " [3. 0. 0. 0. 1.]\n",
      " [3. 0. 1. 0. 0.]\n",
      " [3. 0. 1. 0. 0.]\n",
      " [3. 0. 0. 1. 0.]\n",
      " [1. 1. 0. 0. 0.]]\n"
     ]
    }
   ],
   "source": [
    "print(oneHotEncode(fgmat,[1]))"
   ]
  },
  {
   "cell_type": "code",
   "execution_count": 38,
   "metadata": {},
   "outputs": [
    {
     "name": "stdout",
     "output_type": "stream",
     "text": [
      "[['cat' '1.0' '0.0' '0.0']\n",
      " ['frog' '0.0' '0.0' '1.0']\n",
      " ['dog' '0.0' '0.0' '1.0']\n",
      " ['cat' '0.0' '1.0' '0.0']\n",
      " ['dog' '0.0' '1.0' '0.0']\n",
      " ['frog' '1.0' '0.0' '0.0']]\n"
     ]
    }
   ],
   "source": [
    "g = [1,3,3,2,2,1]\n",
    "r = [\"cat\",'frog','dog',\"cat\",'dog','frog']\n",
    "mat = np.column_stack((g,r))\n",
    "print(oneHotEncode(mat,[0]))\n"
   ]
  },
  {
   "cell_type": "code",
   "execution_count": 39,
   "metadata": {},
   "outputs": [
    {
     "name": "stdout",
     "output_type": "stream",
     "text": [
      "[[1. 1. 0. 0.]\n",
      " [3. 0. 0. 1.]\n",
      " [3. 0. 1. 0.]\n",
      " [2. 1. 0. 0.]\n",
      " [2. 0. 1. 0.]\n",
      " [1. 0. 0. 1.]]\n"
     ]
    }
   ],
   "source": [
    "g = [1,3,3,2,2,1]\n",
    "r = [\"cat\",'frog','dog',\"cat\",'dog','frog']\n",
    "mat = np.column_stack((g,r))\n",
    "print(oneHotEncode(mat,[1]))\n"
   ]
  },
  {
   "cell_type": "code",
   "execution_count": 40,
   "metadata": {},
   "outputs": [
    {
     "name": "stdout",
     "output_type": "stream",
     "text": [
      "[[1. 0. 0. 1. 0. 0.]\n",
      " [0. 0. 1. 0. 0. 1.]\n",
      " [0. 0. 1. 0. 1. 0.]\n",
      " [0. 1. 0. 1. 0. 0.]\n",
      " [0. 1. 0. 0. 1. 0.]\n",
      " [1. 0. 0. 0. 0. 1.]]\n"
     ]
    }
   ],
   "source": [
    "g = [1,3,3,2,2,1]\n",
    "r = [\"cat\",'frog','dog',\"cat\",'dog','frog']\n",
    "mat = np.column_stack((g,r))\n",
    "print(oneHotEncode(mat,[0,1]))\n"
   ]
  },
  {
   "cell_type": "code",
   "execution_count": 42,
   "metadata": {},
   "outputs": [
    {
     "name": "stdout",
     "output_type": "stream",
     "text": [
      "[[ 0.  1.  0.  0.  1.  0.  0.]\n",
      " [20.  0.  0.  1.  0.  0.  1.]\n",
      " [20.  0.  0.  1.  0.  1.  0.]\n",
      " [ 3.  0.  1.  0.  1.  0.  0.]\n",
      " [ 2.  0.  1.  0.  0.  1.  0.]\n",
      " [ 0.  1.  0.  0.  0.  0.  1.]]\n"
     ]
    }
   ],
   "source": [
    "g = [1,3,3,2,2,1]\n",
    "r = [\"cat\",'frog','dog',\"cat\",'dog','frog']\n",
    "k = [0,20,20,3,2,0]\n",
    "mat = np.column_stack((g,r,k))\n",
    "print(oneHotEncode(mat,[0,1]))\n"
   ]
  },
  {
   "cell_type": "code",
   "execution_count": 43,
   "metadata": {},
   "outputs": [
    {
     "name": "stdout",
     "output_type": "stream",
     "text": [
      "[['cat' '1.0' '0.0' '0.0' '1.0' '0.0' '0.0' '0.0']\n",
      " ['frog' '0.0' '0.0' '1.0' '0.0' '0.0' '1.0' '0.0']\n",
      " ['dog' '0.0' '0.0' '1.0' '0.0' '0.0' '1.0' '0.0']\n",
      " ['cat' '0.0' '1.0' '0.0' '0.0' '0.0' '0.0' '1.0']\n",
      " ['dog' '0.0' '1.0' '0.0' '0.0' '1.0' '0.0' '0.0']\n",
      " ['frog' '1.0' '0.0' '0.0' '1.0' '0.0' '0.0' '0.0']]\n"
     ]
    }
   ],
   "source": [
    "g = [1,3,3,2,2,1]\n",
    "r = [\"cat\",'frog','dog',\"cat\",'dog','frog']\n",
    "k = [0,20,20,3,2,0]\n",
    "mat = np.column_stack((g,r,k))\n",
    "print(oneHotEncode(mat,[0,2]))\n"
   ]
  },
  {
   "cell_type": "code",
   "execution_count": 47,
   "metadata": {},
   "outputs": [
    {
     "name": "stdout",
     "output_type": "stream",
     "text": [
      "[[1. 0. 0. 1. 0. 0. 0. 1. 0. 0.]\n",
      " [0. 0. 1. 0. 0. 1. 0. 0. 0. 1.]\n",
      " [0. 0. 1. 0. 0. 1. 0. 0. 1. 0.]\n",
      " [0. 1. 0. 0. 0. 0. 1. 1. 0. 0.]\n",
      " [0. 1. 0. 0. 1. 0. 0. 0. 1. 0.]\n",
      " [1. 0. 0. 1. 0. 0. 0. 0. 0. 1.]]\n"
     ]
    }
   ],
   "source": [
    "g = [1,3,3,2,2,1]\n",
    "r = [\"cat\",'frog','dog',\"cat\",'dog','frog']\n",
    "k = [0,20,20,3,2,0]\n",
    "mat = np.column_stack((g,r,k))\n",
    "print(oneHotEncode(mat,[0,2,1]))\n"
   ]
  }
 ],
 "metadata": {
  "kernelspec": {
   "display_name": "Python 3",
   "language": "python",
   "name": "python3"
  },
  "language_info": {
   "codemirror_mode": {
    "name": "ipython",
    "version": 3
   },
   "file_extension": ".py",
   "mimetype": "text/x-python",
   "name": "python",
   "nbconvert_exporter": "python",
   "pygments_lexer": "ipython3",
   "version": "3.7.1"
  }
 },
 "nbformat": 4,
 "nbformat_minor": 2
}
