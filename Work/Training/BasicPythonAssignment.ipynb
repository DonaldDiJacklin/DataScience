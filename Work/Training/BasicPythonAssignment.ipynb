{
 "cells": [
  {
   "cell_type": "markdown",
   "metadata": {},
   "source": [
    "### Import numpy library as np"
   ]
  },
  {
   "cell_type": "code",
   "execution_count": 87,
   "metadata": {},
   "outputs": [],
   "source": [
    "# As is usually the case when starting a new program, one needs to import packages.\n",
    "import numpy as np"
   ]
  },
  {
   "cell_type": "markdown",
   "metadata": {},
   "source": [
    "### Look up the documentation of the function \"linspace\" in the numpy library"
   ]
  },
  {
   "cell_type": "code",
   "execution_count": 88,
   "metadata": {},
   "outputs": [
    {
     "name": "stdout",
     "output_type": "stream",
     "text": [
      "Help on function linspace in module numpy.core.function_base:\n",
      "\n",
      "linspace(start, stop, num=50, endpoint=True, retstep=False, dtype=None)\n",
      "    Return evenly spaced numbers over a specified interval.\n",
      "    \n",
      "    Returns `num` evenly spaced samples, calculated over the\n",
      "    interval [`start`, `stop`].\n",
      "    \n",
      "    The endpoint of the interval can optionally be excluded.\n",
      "    \n",
      "    Parameters\n",
      "    ----------\n",
      "    start : scalar\n",
      "        The starting value of the sequence.\n",
      "    stop : scalar\n",
      "        The end value of the sequence, unless `endpoint` is set to False.\n",
      "        In that case, the sequence consists of all but the last of ``num + 1``\n",
      "        evenly spaced samples, so that `stop` is excluded.  Note that the step\n",
      "        size changes when `endpoint` is False.\n",
      "    num : int, optional\n",
      "        Number of samples to generate. Default is 50. Must be non-negative.\n",
      "    endpoint : bool, optional\n",
      "        If True, `stop` is the last sample. Otherwise, it is not included.\n",
      "        Default is True.\n",
      "    retstep : bool, optional\n",
      "        If True, return (`samples`, `step`), where `step` is the spacing\n",
      "        between samples.\n",
      "    dtype : dtype, optional\n",
      "        The type of the output array.  If `dtype` is not given, infer the data\n",
      "        type from the other input arguments.\n",
      "    \n",
      "        .. versionadded:: 1.9.0\n",
      "    \n",
      "    Returns\n",
      "    -------\n",
      "    samples : ndarray\n",
      "        There are `num` equally spaced samples in the closed interval\n",
      "        ``[start, stop]`` or the half-open interval ``[start, stop)``\n",
      "        (depending on whether `endpoint` is True or False).\n",
      "    step : float, optional\n",
      "        Only returned if `retstep` is True\n",
      "    \n",
      "        Size of spacing between samples.\n",
      "    \n",
      "    \n",
      "    See Also\n",
      "    --------\n",
      "    arange : Similar to `linspace`, but uses a step size (instead of the\n",
      "             number of samples).\n",
      "    logspace : Samples uniformly distributed in log space.\n",
      "    \n",
      "    Examples\n",
      "    --------\n",
      "    >>> np.linspace(2.0, 3.0, num=5)\n",
      "    array([ 2.  ,  2.25,  2.5 ,  2.75,  3.  ])\n",
      "    >>> np.linspace(2.0, 3.0, num=5, endpoint=False)\n",
      "    array([ 2. ,  2.2,  2.4,  2.6,  2.8])\n",
      "    >>> np.linspace(2.0, 3.0, num=5, retstep=True)\n",
      "    (array([ 2.  ,  2.25,  2.5 ,  2.75,  3.  ]), 0.25)\n",
      "    \n",
      "    Graphical illustration:\n",
      "    \n",
      "    >>> import matplotlib.pyplot as plt\n",
      "    >>> N = 8\n",
      "    >>> y = np.zeros(N)\n",
      "    >>> x1 = np.linspace(0, 10, N, endpoint=True)\n",
      "    >>> x2 = np.linspace(0, 10, N, endpoint=False)\n",
      "    >>> plt.plot(x1, y, 'o')\n",
      "    [<matplotlib.lines.Line2D object at 0x...>]\n",
      "    >>> plt.plot(x2, y + 0.5, 'o')\n",
      "    [<matplotlib.lines.Line2D object at 0x...>]\n",
      "    >>> plt.ylim([-0.5, 1])\n",
      "    (-0.5, 1)\n",
      "    >>> plt.show()\n",
      "\n"
     ]
    }
   ],
   "source": [
    "# I've never seen this particular function before so perhaps some documentation would be 'help'full.\n",
    "help(np.linspace)"
   ]
  },
  {
   "cell_type": "markdown",
   "metadata": {},
   "source": [
    "### Create a Variable X, set it to $\\left[\\begin{array}{c}1\\\\2\\\\3\\end{array}\\right]$\n",
    "### Create a Variable Y, set it to  $\\left[\\begin{array}{c}2\\\\1\\\\4\\end{array}\\right]$\n",
    "### Print both X and Y\n",
    "Hint: np.array().reshape()"
   ]
  },
  {
   "cell_type": "code",
   "execution_count": 89,
   "metadata": {},
   "outputs": [
    {
     "name": "stdout",
     "output_type": "stream",
     "text": [
      "[1 2 3]\n",
      "[2 1 4]\n"
     ]
    }
   ],
   "source": [
    "# The following two lines initialize two vectors called X and Y and stores in them the transpose of [1,2,3]\n",
    "# and [2,1,4] respectively.\n",
    "X = np.transpose([1,2,3])\n",
    "Y = np.transpose([2,1,4])\n",
    "\n",
    "# It's always nice to see things when you initialize them to make sure you did it right.\n",
    "print(X)\n",
    "print(Y)"
   ]
  },
  {
   "cell_type": "markdown",
   "metadata": {},
   "source": [
    "### Calculate the matrix product of $X^TY$, store it in variable Z. \n",
    "### Print Z\n",
    "Hint: np.ndarray.T and np.ndarray.dot can be chained."
   ]
  },
  {
   "cell_type": "code",
   "execution_count": 90,
   "metadata": {},
   "outputs": [
    {
     "name": "stdout",
     "output_type": "stream",
     "text": [
      "16\n"
     ]
    }
   ],
   "source": [
    "# The following calculates the Matrix Product of X transpose and Y, which can be accomplished with a dot product\n",
    "# since they are both vectors.\n",
    "Z = np.dot(np.transpose(X),Y)\n",
    "\n",
    "# And the result of the previous calculation is printed below.\n",
    "print(Z)"
   ]
  },
  {
   "cell_type": "markdown",
   "metadata": {},
   "source": [
    "### Add 10 to every element of X, and print the result."
   ]
  },
  {
   "cell_type": "code",
   "execution_count": 91,
   "metadata": {},
   "outputs": [
    {
     "name": "stdout",
     "output_type": "stream",
     "text": [
      "[11 12 13]\n"
     ]
    }
   ],
   "source": [
    "# Supposing we wanted to know what happens if we added 10 to every element, Python is nice enough that we can just\n",
    "# add 10 to X.\n",
    "print(X+10)"
   ]
  },
  {
   "cell_type": "markdown",
   "metadata": {},
   "source": [
    "### Add noise drawn from a normal distribution to every element of Y, and print the result\n",
    "Hint: use np.random.randn(). Expected result to be the same size as Y"
   ]
  },
  {
   "cell_type": "code",
   "execution_count": 92,
   "metadata": {},
   "outputs": [
    {
     "name": "stdout",
     "output_type": "stream",
     "text": [
      "[[3.55769974 0.89728405 3.62339178]]\n"
     ]
    }
   ],
   "source": [
    "# The following creates a (1) sample of length 3, so as to be the same size as Y.\n",
    "pseudoRandomVector = np.random.randn(1,3)\n",
    "\n",
    "# Adding them together is as simple as\n",
    "print(Y+pseudoRandomVector)"
   ]
  },
  {
   "cell_type": "markdown",
   "metadata": {},
   "source": [
    "### Re Initialize X as a range of 200 equally spaced numbers between 0 and 2, with shape (200,1). Print last 20 elements of X\n",
    "Hint: np.linspace() or np.arange()"
   ]
  },
  {
   "cell_type": "code",
   "execution_count": 93,
   "metadata": {},
   "outputs": [
    {
     "name": "stdout",
     "output_type": "stream",
     "text": [
      "[1.80904523 1.81909548 1.82914573 1.83919598 1.84924623 1.85929648\n",
      " 1.86934673 1.87939698 1.88944724 1.89949749 1.90954774 1.91959799\n",
      " 1.92964824 1.93969849 1.94974874 1.95979899 1.96984925 1.9798995\n",
      " 1.98994975 2.        ]\n"
     ]
    }
   ],
   "source": [
    "# The following changes the value stored at X to be a 200 long vector of evenly spaced numbers between 0 and 2.\n",
    "X = np.linspace(0,2,200)\n",
    "\n",
    "# And of course it's nice to see what we've done, but perhaps not all 200 entries, so let's take the last 20.\n",
    "print(X[-20:])"
   ]
  },
  {
   "cell_type": "markdown",
   "metadata": {},
   "source": [
    "### Find the mean of X and print it\n",
    "Hint: np.ndarray.mean()"
   ]
  },
  {
   "cell_type": "code",
   "execution_count": 94,
   "metadata": {},
   "outputs": [
    {
     "name": "stdout",
     "output_type": "stream",
     "text": [
      "1.0000000000000002\n"
     ]
    }
   ],
   "source": [
    "# If we want to see the mean of X we can do the following.\n",
    "print(np.mean(X))"
   ]
  },
  {
   "cell_type": "markdown",
   "metadata": {},
   "source": [
    "###  Make a Variable T and set it equal to the concatenation of a column vector of just ones, and X. Print first 10 elements of T, and the count of the elements you printed\n",
    "Hint: np.hstack() and np.ones()\n",
    "Expected Output: $$\\left[\\begin{array}{c}1&t_1\\\\1&t_2\\\\.&.\\\\.&.\\\\.&.\\\\.&.\\\\1&t_{10}\\end{array}\\right]$$"
   ]
  },
  {
   "cell_type": "code",
   "execution_count": 95,
   "metadata": {},
   "outputs": [
    {
     "name": "stdout",
     "output_type": "stream",
     "text": [
      "[[1.         0.        ]\n",
      " [1.         0.01005025]\n",
      " [1.         0.0201005 ]\n",
      " [1.         0.03015075]\n",
      " [1.         0.04020101]\n",
      " [1.         0.05025126]\n",
      " [1.         0.06030151]\n",
      " [1.         0.07035176]\n",
      " [1.         0.08040201]\n",
      " [1.         0.09045226]]\n",
      "10\n"
     ]
    }
   ],
   "source": [
    "# The next line appends a 200 long vector of ones beside the vector of x's\n",
    "T = np.column_stack((np.ones(200),X))\n",
    "\n",
    "# As usual it's nice to see the result but perhaps not all 200 lines.\n",
    "print(T[0:10])\n",
    "\n",
    "# This is how many lines were printed.\n",
    "print(len(T[0:10]))"
   ]
  },
  {
   "cell_type": "markdown",
   "metadata": {},
   "source": [
    "### Re-initialize Y as: $$Y = T \\left[\\begin{array}{c}2.7\\\\9.5 \\end{array}\\right]+3.2 \\epsilon$$\n",
    "<br> \n",
    "where $\\epsilon$ is Noise, with the same dimensions as Z minus one column, sampled from a normal distribution\n",
    "### Print first 20 elements of Y"
   ]
  },
  {
   "cell_type": "code",
   "execution_count": 96,
   "metadata": {},
   "outputs": [
    {
     "name": "stdout",
     "output_type": "stream",
     "text": [
      "[-0.27697177  5.56366016  1.0212417   2.13627855 -2.81393251 -0.09564291\n",
      " -1.44765574  1.27725887 -0.53675706  3.23130777  2.4001823   7.85174143\n",
      "  5.73671448  2.17033657  5.99266418  3.97799713  1.15272746  1.09848733\n",
      "  4.32680498  6.37545248]\n"
     ]
    }
   ],
   "source": [
    "# The following adds a bit of scaled normal noise to\n",
    "# T[2.7 9.5]T\n",
    "Y = (np.ndarray.dot(T,[2.7, 9.5])+3.2*np.random.randn(1,200))[0]\n",
    "\n",
    "# As always we like to see what we've done.\n",
    "print(Y[0:20])"
   ]
  },
  {
   "cell_type": "markdown",
   "metadata": {},
   "source": [
    "### Import matplotlib.pyplot as plt"
   ]
  },
  {
   "cell_type": "code",
   "execution_count": 97,
   "metadata": {},
   "outputs": [],
   "source": [
    "# I import the following to make some graphs.\n",
    "import matplotlib.pyplot as plt"
   ]
  },
  {
   "cell_type": "markdown",
   "metadata": {},
   "source": [
    "### Create a scatter plot of second column of T and Y. Follow the rest of the specifications\n",
    "1. Set the size of the figure to (8,9)\n",
    "2. Create corresponding axis labels with font size 20\n",
    "3. Set the title to be \"Scatter Plot\" with font size 24\n",
    "4. Change the size of all the points to 4\n",
    "5. Change the color of the points to red\n",
    "\n",
    "<br>\n",
    "<br>\n",
    "Hint: plt..."
   ]
  },
  {
   "cell_type": "code",
   "execution_count": 98,
   "metadata": {},
   "outputs": [
    {
     "data": {
      "image/png": "[encoded data removed]",
      "text/plain": [
       "<Figure size 576x648 with 1 Axes>"
      ]
     },
     "metadata": {
      "needs_background": "light"
     },
     "output_type": "display_data"
    }
   ],
   "source": [
    "# The following is several lines just to make 1 picture.\n",
    "plt.figure(figsize = (8,9))\n",
    "plt.scatter(np.array(T)[:,1],Y, s = 4, color = \"red\")\n",
    "plt.xlabel('T', fontsize = 20)\n",
    "plt.ylabel('Y', fontsize = 20)\n",
    "plt.title('Scatter Plot', fontdict = {'fontsize':24})\n",
    "plt.show()"
   ]
  },
  {
   "cell_type": "markdown",
   "metadata": {},
   "source": [
    "### Create a Variable F and set it equal to 12 times the second column of Z, without preserving the dimensionality. Print the first 10 values of F."
   ]
  },
  {
   "cell_type": "code",
   "execution_count": 99,
   "metadata": {},
   "outputs": [
    {
     "name": "stdout",
     "output_type": "stream",
     "text": [
      "[0.         0.12060302 0.24120603 0.36180905 0.48241206 0.60301508\n",
      " 0.72361809 0.84422111 0.96482412 1.08542714]\n"
     ]
    }
   ],
   "source": [
    "# Supposing we want to make each element of T 12 times bigger.\n",
    "F = 12*T[:,1]\n",
    "\n",
    "# Show what we have done.\n",
    "print(F[0:10])"
   ]
  },
  {
   "cell_type": "markdown",
   "metadata": {},
   "source": [
    "### Recreate the same scatter plot as earlier. Then, follow these instructions\n",
    "1. Create a line plot of F with X on the same plot. F on the y-axis, X on the X-axis\n",
    "2. Set the LineWidth to 4.\n",
    "3. Set the color of the line to be blue\n",
    "4. Create a legend indicating that the line is F. Set the font size to 20\n",
    "5. Set the font of the x and y ticks to be 15"
   ]
  },
  {
   "cell_type": "code",
   "execution_count": 106,
   "metadata": {},
   "outputs": [
    {
     "data": {
      "image/png": "[encoded data removed]",
      "text/plain": [
       "<Figure size 576x648 with 1 Axes>"
      ]
     },
     "metadata": {
      "needs_background": "light"
     },
     "output_type": "display_data"
    }
   ],
   "source": [
    "# The following is several lines just to make 1 picture.\n",
    "plt.figure(figsize = (8,9))\n",
    "plt.scatter(np.array(T)[:,1],Y, s = 4, color = \"red\")\n",
    "plt.xlabel('T', fontsize = 20)\n",
    "plt.ylabel('Y', fontsize = 20)\n",
    "plt.title('Scatter Plot', fontdict = {'fontsize':24})\n",
    "\n",
    "# The following shows basically a line with a slope of 1/12\n",
    "plt.scatter(X,F, linewidth = 4, color = 'blue', label = 'F')\n",
    "plt.gca().legend(fontsize = 20)\n",
    "plt.xticks(fontsize = 15)\n",
    "plt.yticks(fontsize = 15)\n",
    "plt.show()"
   ]
  }
 ],
 "metadata": {
  "kernelspec": {
   "display_name": "Python 3",
   "language": "python",
   "name": "python3"
  },
  "language_info": {
   "codemirror_mode": {
    "name": "ipython",
    "version": 3
   },
   "file_extension": ".py",
   "mimetype": "text/x-python",
   "name": "python",
   "nbconvert_exporter": "python",
   "pygments_lexer": "ipython3",
   "version": "3.7.1"
  }
 },
 "nbformat": 4,
 "nbformat_minor": 2
}
