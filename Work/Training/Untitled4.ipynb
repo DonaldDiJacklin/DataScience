{
 "cells": [
  {
   "cell_type": "code",
   "execution_count": 1,
   "metadata": {},
   "outputs": [],
   "source": [
    "data <-read.csv(\"input.csv\", header = TRUE)"
   ]
  },
  {
   "cell_type": "code",
   "execution_count": 4,
   "metadata": {},
   "outputs": [],
   "source": [
    "tanh<- function(X){\n",
    "    return((exp(X) - exp(-X))/(exp(X)+exp(-X)))\n",
    "}\n",
    "sig <- function(X){\n",
    "    return(1/(1+exp(-X)))\n",
    "}"
   ]
  },
  {
   "cell_type": "code",
   "execution_count": 7,
   "metadata": {},
   "outputs": [],
   "source": [
    "X<-as.matrix(data[,1:2])\n",
    "Y<-data[,3]"
   ]
  },
  {
   "cell_type": "code",
   "execution_count": 42,
   "metadata": {},
   "outputs": [
    {
     "ename": "ERROR",
     "evalue": "Error in tanh(apply(X %*% w, FUN = function(x) {: non-conformable arguments\n",
     "output_type": "error",
     "traceback": [
      "Error in tanh(apply(X %*% w, FUN = function(x) {: non-conformable arguments\nTraceback:\n",
      "1. sig(tanh(apply(X %*% w, FUN = function(x) {\n .     x + b1\n . }, MARGIN = 1)) %*% w2)"
     ]
    }
   ],
   "source": [
    "for(i in 1:1){\n",
    "    w <-as.matrix(rbind(rnorm(6),rnorm(6)))\n",
    "    b1 <-t(as.matrix(rnorm(6)))\n",
    "    w2 <- as.matrix(rnorm(6))\n",
    "    b2 <- rnorm(1)\n",
    "    newY <- round(sig(tanh(apply(X%*%w,FUN = function(x){x+b1}, MARGIN = 1))%*%w2))\n",
    "    }"
   ]
  },
  {
   "cell_type": "code",
   "execution_count": 43,
   "metadata": {},
   "outputs": [
    {
     "data": {
      "text/html": [
       "<table>\n",
       "<tbody>\n",
       "\t<tr><td>-1.07763308</td></tr>\n",
       "\t<tr><td> 0.52822540</td></tr>\n",
       "\t<tr><td> 1.51038067</td></tr>\n",
       "\t<tr><td>-1.02921619</td></tr>\n",
       "\t<tr><td>-0.88019081</td></tr>\n",
       "\t<tr><td> 0.04772172</td></tr>\n",
       "</tbody>\n",
       "</table>\n"
      ],
      "text/latex": [
       "\\begin{tabular}{l}\n",
       "\t -1.07763308\\\\\n",
       "\t  0.52822540\\\\\n",
       "\t  1.51038067\\\\\n",
       "\t -1.02921619\\\\\n",
       "\t -0.88019081\\\\\n",
       "\t  0.04772172\\\\\n",
       "\\end{tabular}\n"
      ],
      "text/markdown": [
       "\n",
       "| -1.07763308 |\n",
       "|  0.52822540 |\n",
       "|  1.51038067 |\n",
       "| -1.02921619 |\n",
       "| -0.88019081 |\n",
       "|  0.04772172 |\n",
       "\n"
      ],
      "text/plain": [
       "     [,1]       \n",
       "[1,] -1.07763308\n",
       "[2,]  0.52822540\n",
       "[3,]  1.51038067\n",
       "[4,] -1.02921619\n",
       "[5,] -0.88019081\n",
       "[6,]  0.04772172"
      ]
     },
     "metadata": {},
     "output_type": "display_data"
    }
   ],
   "source": [
    "w2"
   ]
  }
 ],
 "metadata": {
  "kernelspec": {
   "display_name": "R",
   "language": "R",
   "name": "ir"
  },
  "language_info": {
   "codemirror_mode": "r",
   "file_extension": ".r",
   "mimetype": "text/x-r-source",
   "name": "R",
   "pygments_lexer": "r",
   "version": "3.4.2"
  }
 },
 "nbformat": 4,
 "nbformat_minor": 2
}
