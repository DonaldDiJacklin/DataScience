{
 "cells": [
  {
   "cell_type": "code",
   "execution_count": 1,
   "metadata": {},
   "outputs": [],
   "source": [
    "import numpy as np\n",
    "X = np.random.randn(1000,2)\n",
    "w = np.random.randn(3,3)\n",
    "X = np.column_stack((np.ones(1000),X))"
   ]
  },
  {
   "cell_type": "code",
   "execution_count": 2,
   "metadata": {},
   "outputs": [],
   "source": [
    "def softmax(matrix):\n",
    "    return np.exp(matrix)/np.sum(np.exp(matrix), axis = 1).reshape(len(matrix[:,0]),1)"
   ]
  },
  {
   "cell_type": "code",
   "execution_count": 3,
   "metadata": {},
   "outputs": [
    {
     "data": {
      "text/plain": [
       "array([[0.68468525, 0.22692794, 0.08838682],\n",
       "       [0.23097845, 0.36170121, 0.40732034],\n",
       "       [0.1267456 , 0.34252224, 0.53073215],\n",
       "       ...,\n",
       "       [0.33198002, 0.18965033, 0.47836965],\n",
       "       [0.36872769, 0.28092186, 0.35035045],\n",
       "       [0.1938415 , 0.5341916 , 0.2719669 ]])"
      ]
     },
     "execution_count": 3,
     "metadata": {},
     "output_type": "execute_result"
    }
   ],
   "source": [
    "softmax(X@w)"
   ]
  },
  {
   "cell_type": "code",
   "execution_count": 5,
   "metadata": {},
   "outputs": [
    {
     "data": {
      "text/plain": [
       "array([[0.68468525, 0.22692794, 0.08838682],\n",
       "       [0.23097845, 0.36170121, 0.40732034],\n",
       "       [0.1267456 , 0.34252224, 0.53073215],\n",
       "       ...,\n",
       "       [0.33198002, 0.18965033, 0.47836965],\n",
       "       [0.36872769, 0.28092186, 0.35035045],\n",
       "       [0.1938415 , 0.5341916 , 0.2719669 ]])"
      ]
     },
     "execution_count": 5,
     "metadata": {},
     "output_type": "execute_result"
    }
   ],
   "source": [
    "softmax(X@w)"
   ]
  },
  {
   "cell_type": "code",
   "execution_count": 43,
   "metadata": {},
   "outputs": [
    {
     "name": "stdout",
     "output_type": "stream",
     "text": [
      "total 52572\r\n",
      "drwxr-xr-x 43 donald donald     4096 Feb 11 11:53 .\r\n",
      "drwxr-xr-x  3 root   root       4096 Feb  3  2018 ..\r\n",
      "drwxr-xr-x 24 donald donald     4096 Jan 22 08:17 anaconda3\r\n",
      "drwxrwxr-x  6 donald donald     4096 Jul 24  2018 anyconnect-3.1.14018\r\n",
      "-rw-rw-r--  1 donald donald      109 Feb  6  2018 .apport-ignore.xml\r\n",
      "-rw-r--r--  1 donald donald        0 Feb  8  2018 armas.pdf\r\n",
      "-rw-r--r--  1 donald donald     1995 Feb  8  2018 armas.R\r\n",
      "-rw-------  1 donald donald    14511 Feb 11 11:53 .bash_history\r\n",
      "-rw-r--r--  1 donald donald      220 Feb  3  2018 .bash_logout\r\n",
      "-rw-r--r--  1 donald donald     4426 Jan 22 08:17 .bashrc\r\n",
      "-rw-r--r--  1 donald donald     3848 Jan 22 08:17 .bashrc-anaconda3.bak\r\n",
      "drwx------ 25 donald donald     4096 Jan 28 13:58 .cache\r\n",
      "drwxr-xr-x  3 donald donald     4096 Nov 16 05:55 ConelecProject\r\n",
      "drwxr-xr-x 32 donald donald     4096 Feb  9 15:11 .config\r\n",
      "-rw-r--r--  1 donald donald        8 Nov 19 10:23 CoverLetter.aux\r\n",
      "-rw-r--r--  1 donald donald    26218 Nov 19 10:23 CoverLetter.log\r\n",
      "-rw-r--r--  1 donald donald    23330 Nov 19 10:23 CoverLetter.pdf\r\n",
      "-rw-r--r--  1 donald donald     3267 Nov 19 10:23 CoverLetter.synctex.gz\r\n",
      "-rw-r--r--  1 donald donald     1197 Nov 19 10:23 CoverLetter.tex\r\n",
      "drwxrwxr-x  4 donald donald     4096 Feb 11 17:53 DataScienceTraining\r\n",
      "drwx------  3 donald donald     4096 Feb  3  2018 .dbus\r\n",
      "drwxr-xr-x 12 donald donald     4096 Feb  8 07:48 Desktop\r\n",
      "-rw-r--r--  1 donald donald 52100102 May  1  2018 discord.deb\r\n",
      "-rw-r--r--  1 donald donald    79740 Aug  9  2018 DonaldDiJacklinResume.pdf\r\n",
      "drwxr-xr-x  6 donald donald    20480 Feb 11 08:23 Downloads\r\n",
      "-rw-r--r--  1 donald donald        8 May 31  2018 DuolingoCoverLetter.aux\r\n",
      "-rw-r--r--  1 donald donald    26398 May 31  2018 DuolingoCoverLetter.log\r\n",
      "-rw-r--r--  1 donald donald    21247 May 31  2018 DuolingoCoverLetter.pdf\r\n",
      "-rw-r--r--  1 donald donald     4446 May 31  2018 DuolingoCoverLetter.synctex.gz\r\n",
      "-rw-r--r--  1 donald donald     1492 May 31  2018 DuolingoCoverLetter.tex\r\n",
      "drwxr-xr-x 10 donald donald     4096 Sep 13 09:09 .dvdcss\r\n",
      "drwxr-xr-x  2 donald donald     4096 Dec 20 13:27 EAproject\r\n",
      "-rw-r--r--  1 donald donald     8980 Feb  3  2018 examples.desktop\r\n",
      "drwxr-xr-x  6 donald donald     4096 Feb  3  2018 Fall17\r\n",
      "-rw-r--r--  1 donald donald        8 Jan 28 12:47 Frob.aux\r\n",
      "-rw-r--r--  1 donald donald    26308 Jan 28 12:47 Frob.log\r\n",
      "-rw-r--r--  1 donald donald    83866 Jan 28 12:47 Frob.pdf\r\n",
      "-rw-r--r--  1 donald donald     4926 Jan 28 12:47 Frob.synctex.gz\r\n",
      "-rw-r--r--  1 donald donald     1651 Jan 28 12:47 Frob.tex\r\n",
      "drwx------  3 donald donald     4096 Feb  8 05:16 .gconf\r\n",
      "-rw-r--r--  1 donald donald       58 May 16  2018 .gitconfig\r\n",
      "drwx------  3 donald donald     4096 Feb  3  2018 .gnome\r\n",
      "drwx------  2 donald donald     4096 Mar 11  2018 .gnupg\r\n",
      "-rw-r--r--  1 donald donald     2114 Jul  5  2018 grades.csv\r\n",
      "-rw-r--r--  1 donald donald     2132 Jul 10  2018 gradesTim.csv\r\n",
      "-rw-------  1 donald donald    32282 Feb  8 05:15 .ICEauthority\r\n",
      "drwxrwxr-x  2 donald donald     4096 Jul 11  2018 .InstallAnywhere\r\n",
      "drwxr-xr-x  2 donald donald     4096 Feb  5 12:47 .ipynb_checkpoints\r\n",
      "drwxr-xr-x  5 donald donald     4096 Jan 22 12:54 .ipython\r\n",
      "drwxrwxr-x  3 donald donald     4096 Jul 11  2018 .java\r\n",
      "drwxr-xr-x  2 donald donald     4096 Jan 22 16:50 .jupyter\r\n",
      "drwxr-xr-x  6 donald donald     4096 Jun  5  2018 .local\r\n",
      "-rw-r--r--  1 donald donald      261 Sep  8 20:21 mathprob.py\r\n",
      "drwx------  5 donald donald     4096 Feb  3  2018 .mozilla\r\n",
      "drwxr-xr-x  2 donald donald     4096 Aug 17 19:26 Music\r\n",
      "drwxr-xr-x  2 donald donald     4096 May 22  2018 .nano\r\n",
      "-rw-r--r--  1 donald donald     8192 Jul 11  2018 new\r\n",
      "drwx------  4 donald donald     4096 Feb  8  2018 .nv\r\n",
      "-rw-r--r--  1 donald donald   181867 Jan 22 19:30 Page1.pdf\r\n",
      "-rw-r--r--  1 donald donald   212275 Jan 22 19:29 Page2.pdf\r\n",
      "-rw-r--r--  1 donald donald   232419 Jan 22 19:31 Page3.pdf\r\n",
      "-rw-r--r--  1 donald donald        8 Aug 10  2018 ParadoxResume.aux\r\n",
      "-rw-r--r--  1 donald donald    28434 Aug 10  2018 ParadoxResume.log\r\n",
      "-rw-r--r--  1 donald donald    80731 Aug 10  2018 ParadoxResume.pdf\r\n",
      "-rw-r--r--  1 donald donald    10392 Aug 10  2018 ParadoxResume.synctex.gz\r\n",
      "-rw-r--r--  1 donald donald     4133 Aug 10  2018 ParadoxResume.tex\r\n",
      "drwxr-xr-x  2 donald donald     4096 Jul 12  2018 Pictures\r\n",
      "drwx------  3 donald donald     4096 Feb  3  2018 .pki\r\n",
      "-rw-r--r--  1 donald donald      675 Feb  3  2018 .profile\r\n",
      "drwxr-xr-x  2 donald donald     4096 Feb  3  2018 Public\r\n",
      "-rw-------  1 donald donald      256 Feb  7  2018 .pulse-cookie\r\n",
      "drwxr-xr-x  2 donald donald     4096 Mar  9  2018 randomdat\r\n",
      "-rw-r--r--  1 donald donald     4797 Jan 23 16:05 .RData\r\n",
      "-rw-r--r--  1 donald donald        8 Aug  9  2018 resume.aux\r\n",
      "-rw-rw-r--  1 donald donald    10185 Jun 18  2018 resume.docx\r\n",
      "-rw-r--r--  1 donald donald    28459 Aug  9  2018 resume.log\r\n",
      "-rw-r--r--  1 donald donald     9486 Aug  9  2018 resume.synctex.gz\r\n",
      "-rw-r--r--  1 donald donald     3823 Aug  9  2018 resume.tex\r\n",
      "-rw-r--r--  1 donald donald       58 Jan 23 16:05 .Rhistory\r\n",
      "-rw-r--r--  1 donald donald    70471 Feb  8  2018 Rplots.pdf\r\n",
      "drwxr-xr-x 18 donald donald     4096 Jan 25 13:43 .rstudio-desktop\r\n",
      "drwxr-xr-x  6 donald donald     4096 Apr 16  2018 Spring18\r\n",
      "-rw-------  1 donald donald     5769 Jul 12  2018 .sqlite_history\r\n",
      "drwx------  2 donald donald     4096 May 29  2018 .ssh\r\n",
      "drwxrwxr-x  2 donald donald     4096 Feb 11 08:29 .steam\r\n",
      "lrwxrwxrwx  1 donald donald       31 Feb 11 08:29 .steampath -> /home/donald/.steam/sdk32/steam\r\n",
      "lrwxrwxrwx  1 donald donald       29 Feb 11 08:29 .steampid -> /home/donald/.steam/steam.pid\r\n",
      "-rw-r--r--  1 donald donald        0 Feb  3  2018 .sudo_as_admin_successful\r\n",
      "drwxr-xr-x  5 donald donald     4096 Jun 17  2018 Summer18\r\n",
      "drwxr-xr-x  2 donald donald     4096 Feb  3  2018 Templates\r\n",
      "-rw-r--r--  1 donald donald     1542 Sep  8 16:38 test2.R\r\n",
      "-rw-r--r--  1 donald donald        8 Feb  8 06:55 test.aux\r\n",
      "-rw-r--r--  1 donald donald      100 May 31  2018 testforCody.py\r\n",
      "-rw-r--r--  1 donald donald    26559 Feb  8 06:55 test.log\r\n",
      "-rw-r--r--  1 donald donald    36837 Feb  8 06:55 test.pdf\r\n",
      "-rw-r--r--  1 donald donald      733 Aug 29 20:04 test.R\r\n",
      "-rw-r--r--  1 donald donald      435 Jul 11  2018 test.sql\r\n",
      "-rw-r--r--  1 donald donald     1088 Feb  8 06:55 test.synctex.gz\r\n",
      "-rw-r--r--  1 donald donald      492 Feb  8 06:55 test.tex\r\n",
      "drwxr-xr-x  3 donald donald     4096 Feb 15  2018 .texlive2017\r\n",
      "drwxr-xr-x  3 donald donald     4096 May 19  2018 texmf\r\n",
      "drwx------  4 donald donald     4096 Feb  8  2018 .thunderbird\r\n",
      "-rw-rw-r--  1 donald donald    15803 Jun 28  2018 Transcript.PDF\r\n",
      "-rw-rw-r--  1 donald donald      244 Jul 11  2018 transfers.csv\r\n",
      "-rw-r--r--  1 donald donald     8192 Jul 11  2018 transfers.db\r\n",
      "-rw-r--r--  1 donald donald      555 Feb  5 08:43 Untitled.ipynb\r\n",
      "drwxr-xr-x  2 donald donald     4096 Feb  3  2018 Videos\r\n",
      "drwxrwxr-x  3 donald donald     4096 Aug 12  2018 VirtualBox VMs\r\n",
      "drwxr-xr-x  3 donald donald     4096 Jan 22 08:19 .vscode\r\n",
      "-rw-r--r--  1 root   root        170 Feb  4  2018 .wget-hsts\r\n"
     ]
    }
   ],
   "source": []
  },
  {
   "cell_type": "code",
   "execution_count": null,
   "metadata": {},
   "outputs": [],
   "source": []
  }
 ],
 "metadata": {
  "kernelspec": {
   "display_name": "Python 3",
   "language": "python",
   "name": "python3"
  },
  "language_info": {
   "codemirror_mode": {
    "name": "ipython",
    "version": 3
   },
   "file_extension": ".py",
   "mimetype": "text/x-python",
   "name": "python",
   "nbconvert_exporter": "python",
   "pygments_lexer": "ipython3",
   "version": "3.7.1"
  }
 },
 "nbformat": 4,
 "nbformat_minor": 2
}
