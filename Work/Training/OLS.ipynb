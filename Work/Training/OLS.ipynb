{
 "cells": [
  {
   "cell_type": "code",
   "execution_count": 90,
   "metadata": {},
   "outputs": [
    {
     "data": {
      "text/html": [
       "<ol class=list-inline>\n",
       "\t<li>12</li>\n",
       "\t<li>1.2</li>\n",
       "\t<li>2.4</li>\n",
       "\t<li>3.6</li>\n",
       "\t<li>4.8</li>\n",
       "\t<li>6</li>\n",
       "\t<li>7.2</li>\n",
       "\t<li>8.4</li>\n",
       "\t<li>9.6</li>\n",
       "\t<li>10.8</li>\n",
       "</ol>\n"
      ],
      "text/latex": [
       "\\begin{enumerate*}\n",
       "\\item 12\n",
       "\\item 1.2\n",
       "\\item 2.4\n",
       "\\item 3.6\n",
       "\\item 4.8\n",
       "\\item 6\n",
       "\\item 7.2\n",
       "\\item 8.4\n",
       "\\item 9.6\n",
       "\\item 10.8\n",
       "\\end{enumerate*}\n"
      ],
      "text/markdown": [
       "1. 12\n",
       "2. 1.2\n",
       "3. 2.4\n",
       "4. 3.6\n",
       "5. 4.8\n",
       "6. 6\n",
       "7. 7.2\n",
       "8. 8.4\n",
       "9. 9.6\n",
       "10. 10.8\n",
       "\n",
       "\n"
      ],
      "text/plain": [
       " [1] 12.0  1.2  2.4  3.6  4.8  6.0  7.2  8.4  9.6 10.8"
      ]
     },
     "metadata": {},
     "output_type": "display_data"
    },
    {
     "data": {
      "text/html": [
       "<table>\n",
       "<tbody>\n",
       "\t<tr><td>10.312893</td></tr>\n",
       "\t<tr><td> 3.128873</td></tr>\n",
       "\t<tr><td> 2.286532</td></tr>\n",
       "\t<tr><td> 5.490290</td></tr>\n",
       "\t<tr><td> 3.966226</td></tr>\n",
       "\t<tr><td> 6.003806</td></tr>\n",
       "\t<tr><td> 6.777404</td></tr>\n",
       "\t<tr><td> 7.592607</td></tr>\n",
       "\t<tr><td> 9.600196</td></tr>\n",
       "\t<tr><td>10.827991</td></tr>\n",
       "</tbody>\n",
       "</table>\n"
      ],
      "text/latex": [
       "\\begin{tabular}{l}\n",
       "\t 10.312893\\\\\n",
       "\t  3.128873\\\\\n",
       "\t  2.286532\\\\\n",
       "\t  5.490290\\\\\n",
       "\t  3.966226\\\\\n",
       "\t  6.003806\\\\\n",
       "\t  6.777404\\\\\n",
       "\t  7.592607\\\\\n",
       "\t  9.600196\\\\\n",
       "\t 10.827991\\\\\n",
       "\\end{tabular}\n"
      ],
      "text/markdown": [
       "\n",
       "| 10.312893 |\n",
       "|  3.128873 |\n",
       "|  2.286532 |\n",
       "|  5.490290 |\n",
       "|  3.966226 |\n",
       "|  6.003806 |\n",
       "|  6.777404 |\n",
       "|  7.592607 |\n",
       "|  9.600196 |\n",
       "| 10.827991 |\n",
       "\n"
      ],
      "text/plain": [
       "      [,1]     \n",
       " [1,] 10.312893\n",
       " [2,]  3.128873\n",
       " [3,]  2.286532\n",
       " [4,]  5.490290\n",
       " [5,]  3.966226\n",
       " [6,]  6.003806\n",
       " [7,]  6.777404\n",
       " [8,]  7.592607\n",
       " [9,]  9.600196\n",
       "[10,] 10.827991"
      ]
     },
     "metadata": {},
     "output_type": "display_data"
    },
    {
     "data": {
      "text/html": [
       "<table>\n",
       "<tbody>\n",
       "\t<tr><td>1</td></tr>\n",
       "</tbody>\n",
       "</table>\n"
      ],
      "text/latex": [
       "\\begin{tabular}{l}\n",
       "\t 1\\\\\n",
       "\\end{tabular}\n"
      ],
      "text/markdown": [
       "\n",
       "| 1 |\n",
       "\n"
      ],
      "text/plain": [
       "     [,1]\n",
       "[1,] 1   "
      ]
     },
     "metadata": {},
     "output_type": "display_data"
    }
   ],
   "source": [
    "X <- cbind(c(rnorm(10)), c(15*rnorm(10)), c(1:10))\n",
    "Phi <-cbind(X,X**2,X**3)\n",
    "Phi <- cbind(rep.int(1,10),Phi)\n",
    "b <- c(12,seq(1.2,10.8, 1.2))\n",
    "b\n",
    "\n",
    "\n",
    "Y <- Phi%*%b + rnorm(10)\n",
    "\n",
    "w<- solve(t(Phi)%*%Phi)%*%t(Phi)%*%Y\n",
    "w\n",
    "\n",
    "R2<- 1-(t(Y-Phi%*%w)%*%(Y-Phi%*%w))/(t(Y - mean(Y))%*%(Y - mean(Y)))\n",
    "R2"
   ]
  }
 ],
 "metadata": {
  "kernelspec": {
   "display_name": "R",
   "language": "R",
   "name": "ir"
  },
  "language_info": {
   "codemirror_mode": "r",
   "file_extension": ".r",
   "mimetype": "text/x-r-source",
   "name": "R",
   "pygments_lexer": "r",
   "version": "3.4.2"
  }
 },
 "nbformat": 4,
 "nbformat_minor": 2
}
