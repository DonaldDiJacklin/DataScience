{
 "cells": [
  {
   "cell_type": "code",
   "execution_count": 31,
   "metadata": {},
   "outputs": [
    {
     "name": "stdout",
     "output_type": "stream",
     "text": [
      "[-10.74924169  20.81363432   3.8698306   -1.63004469  11.01582942\n",
      "  -2.42191872   1.30450332   0.73562554  -6.26312413   2.23890645]\n",
      "[-6.79976502 28.5830177   6.15756454 -1.33781382 10.4880618  -3.46311457\n",
      "  0.52674022 -0.75295411 -6.16715156  2.11883586]\n"
     ]
    },
    {
     "data": {
      "text/plain": [
       "1.0"
      ]
     },
     "execution_count": 31,
     "metadata": {},
     "output_type": "execute_result"
    }
   ],
   "source": [
    "import numpy as np\n",
    "\n",
    "X = np.vstack((np.random.randn(10).T , np.linspace(1,10, 10).T , 3*np.random.randn(10).T)).T\n",
    "Phi = np.hstack((np.ones((10,1)),X,X**2,X**3))\n",
    "Phi\n",
    "b = 10*np.random.randn(10)\n",
    "print(b)\n",
    "\n",
    "Y = np.matmul(Phi,b) + 3*np.random.randn(10)\n",
    "Y\n",
    "\n",
    "w = np.matmul(np.matmul(np.linalg.inv(np.matmul(Phi.T,Phi)),Phi.T),Y)\n",
    "print(w)\n",
    "\n",
    "R2 = 1 - np.matmul((Y - np.matmul(Phi,w)).T,(Y - np.matmul(Phi,w)))/(np.matmul((Y - np.mean(Y)).T,(Y - np.mean(Y))))\n",
    "R2"
   ]
  }
 ],
 "metadata": {
  "kernelspec": {
   "display_name": "Python 3",
   "language": "python",
   "name": "python3"
  },
  "language_info": {
   "codemirror_mode": {
    "name": "ipython",
    "version": 3
   },
   "file_extension": ".py",
   "mimetype": "text/x-python",
   "name": "python",
   "nbconvert_exporter": "python",
   "pygments_lexer": "ipython3",
   "version": "3.7.1"
  }
 },
 "nbformat": 4,
 "nbformat_minor": 2
}
