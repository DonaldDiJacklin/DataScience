{
 "cells": [
  {
   "cell_type": "code",
   "execution_count": 16,
   "metadata": {},
   "outputs": [],
   "source": [
    "TVTsplit <- function(matrix, train = .7){\n",
    "#     This function's purpose is to split a given matrix\n",
    "#     into three parts: train, test, and validate. The \n",
    "#     train parameter is the percentage of the data that\n",
    "#     goes into training 70% by default. The val parameter\n",
    "#     determines how much goes into the validation set\n",
    "#     15% by default. The rest of the data goes into\n",
    "#     the test set.\n",
    "    \n",
    "    # The following does some common sense things like\n",
    "    # telling you that train and val need to add up to less\n",
    "    # than 1.\n",
    "    if(train > .99){\n",
    "        print(\"Splitting failed. Please make sure that\n",
    "                train is less than .99 so that test and\n",
    "                val have enough data.\")\n",
    "        return(0)\n",
    "    }\n",
    "    \n",
    "    # This first line makes an index so that the data can\n",
    "    # be subset randomly into two original sets: Train\n",
    "    # and TestVal\n",
    "    index <- sample(1:length(matrix[,1]),\n",
    "                    round(length(matrix[,1])*train),\n",
    "                    replace = FALSE)\n",
    "    Train <- matrix[index,]\n",
    "    TestVal <- matrix[-index,]\n",
    "    \n",
    "    # The next part splits TestVal into Test and Val.\n",
    "    index <- sample(1:length(TestVal[,1]), \n",
    "                    round(length(TestVal[,1])*.5),\n",
    "                    replace = FALSE)\n",
    "    Val <- TestVal[index,]\n",
    "    Test <- TestVal[-index,]\n",
    "    \n",
    "    # Please note that this returns a list of the \n",
    "    # three subsets.\n",
    "    return(list(Train, Val, Test))\n",
    "}"
   ]
  },
  {
   "cell_type": "code",
   "execution_count": 3,
   "metadata": {},
   "outputs": [],
   "source": [
    "n <- matrix(1:300, nrow = 30)"
   ]
  },
  {
   "cell_type": "code",
   "execution_count": 17,
   "metadata": {},
   "outputs": [],
   "source": [
    "r<-TVTsplit(n)\n",
    "train <- as.data.frame(r[1])\n",
    "val <- as.data.frame(r[2])\n",
    "test <- as.data.frame(r[3])"
   ]
  },
  {
   "cell_type": "code",
   "execution_count": 15,
   "metadata": {},
   "outputs": [
    {
     "data": {
      "text/html": [
       "<table>\n",
       "<thead><tr><th scope=col>X2</th><th scope=col>X3</th><th scope=col>X4</th><th scope=col>X5</th></tr></thead>\n",
       "<tbody>\n",
       "\t<tr><td>42 </td><td>72 </td><td>102</td><td>132</td></tr>\n",
       "\t<tr><td>50 </td><td>80 </td><td>110</td><td>140</td></tr>\n",
       "\t<tr><td>52 </td><td>82 </td><td>112</td><td>142</td></tr>\n",
       "\t<tr><td>47 </td><td>77 </td><td>107</td><td>137</td></tr>\n",
       "</tbody>\n",
       "</table>\n"
      ],
      "text/latex": [
       "\\begin{tabular}{r|llll}\n",
       " X2 & X3 & X4 & X5\\\\\n",
       "\\hline\n",
       "\t 42  & 72  & 102 & 132\\\\\n",
       "\t 50  & 80  & 110 & 140\\\\\n",
       "\t 52  & 82  & 112 & 142\\\\\n",
       "\t 47  & 77  & 107 & 137\\\\\n",
       "\\end{tabular}\n"
      ],
      "text/markdown": [
       "\n",
       "| X2 | X3 | X4 | X5 |\n",
       "|---|---|---|---|\n",
       "| 42  | 72  | 102 | 132 |\n",
       "| 50  | 80  | 110 | 140 |\n",
       "| 52  | 82  | 112 | 142 |\n",
       "| 47  | 77  | 107 | 137 |\n",
       "\n"
      ],
      "text/plain": [
       "  X2 X3 X4  X5 \n",
       "1 42 72 102 132\n",
       "2 50 80 110 140\n",
       "3 52 82 112 142\n",
       "4 47 77 107 137"
      ]
     },
     "metadata": {},
     "output_type": "display_data"
    }
   ],
   "source": [
    "train[1:4,2:5]"
   ]
  }
 ],
 "metadata": {
  "kernelspec": {
   "display_name": "R",
   "language": "R",
   "name": "ir"
  },
  "language_info": {
   "codemirror_mode": "r",
   "file_extension": ".r",
   "mimetype": "text/x-r-source",
   "name": "R",
   "pygments_lexer": "r",
   "version": "3.4.2"
  }
 },
 "nbformat": 4,
 "nbformat_minor": 2
}
