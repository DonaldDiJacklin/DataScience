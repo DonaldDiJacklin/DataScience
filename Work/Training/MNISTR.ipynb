{
 "cells": [
  {
   "cell_type": "code",
   "execution_count": 1,
   "metadata": {},
   "outputs": [],
   "source": [
    "data <- read.csv('fashion-mnist_train.csv')"
   ]
  },
  {
   "cell_type": "code",
   "execution_count": 2,
   "metadata": {},
   "outputs": [],
   "source": [
    "ohe <- function(matrix,column){\n",
    "    column <- matrix[,column]\n",
    "    uniques <- unique(column)\n",
    "    newmat <- matrix(0L, nrow = length(column), ncol = length(uniques))\n",
    "    \n",
    "    for(i in 1:length(column)){\n",
    "        for(j in 1:length(uniques)){\n",
    "            if(column[i] == uniques[j]){\n",
    "                newmat[i,j] <- 1\n",
    "            }\n",
    "        }\n",
    "    }\n",
    "    return(newmat)\n",
    "}"
   ]
  },
  {
   "cell_type": "code",
   "execution_count": 3,
   "metadata": {},
   "outputs": [],
   "source": [
    "Y<- ohe(data, 1)"
   ]
  },
  {
   "cell_type": "code",
   "execution_count": 4,
   "metadata": {},
   "outputs": [],
   "source": [
    "X<- data[,2:length(data[1,])]"
   ]
  },
  {
   "cell_type": "code",
   "execution_count": 5,
   "metadata": {},
   "outputs": [],
   "source": [
    "newmat <- cbind(Y,X)"
   ]
  },
  {
   "cell_type": "code",
   "execution_count": 6,
   "metadata": {},
   "outputs": [],
   "source": [
    "index <- sample(1:length(newmat[,1]),\n",
    "                    round(length(newmat[,1])*.8),\n",
    "                    replace = FALSE)\n",
    "Train <- newmat[index,]\n",
    "TestVal <- newmat[-index,]"
   ]
  },
  {
   "cell_type": "code",
   "execution_count": 7,
   "metadata": {},
   "outputs": [],
   "source": [
    "Xtrain <- Train[,11:length(Train[1,])]\n",
    "Ytrain <- Train[,1:10]\n",
    "Xval <- TestVal[,11:length(TestVal[1,])]\n",
    "Yval <- TestVal[,1:10]"
   ]
  },
  {
   "cell_type": "code",
   "execution_count": null,
   "metadata": {},
   "outputs": [],
   "source": []
  },
  {
   "cell_type": "code",
   "execution_count": 8,
   "metadata": {},
   "outputs": [],
   "source": [
    "Xtrain<- apply(Xtrain, FUN = as.numeric, MARGIN = 2)"
   ]
  },
  {
   "cell_type": "code",
   "execution_count": 9,
   "metadata": {},
   "outputs": [],
   "source": [
    "trainmins<- apply(Xtrain, FUN = min, MARGIN = 2)\n",
    "trainmaxs<- apply(Xtrain, FUN = max, MARGIN = 2)\n",
    "for(i in 1:length(Xtrain[1,])){\n",
    "    Xtrain[,i]<- (Xtrain[,i]-trainmins[i])/(trainmaxs[i]-trainmins[i])\n",
    "    Xval[,i]<-(Xval[,i]-trainmins[i])/(trainmaxs[i]-trainmins[i])\n",
    "}"
   ]
  },
  {
   "cell_type": "code",
   "execution_count": 10,
   "metadata": {},
   "outputs": [],
   "source": [
    "Phitrain<-matrix(cbind(rep(1,length(Xtrain[,1])),Xtrain))\n",
    "Phival<- matrix(cbind(rep(1,length(Xval[,1])),Xval))"
   ]
  },
  {
   "cell_type": "code",
   "execution_count": 11,
   "metadata": {},
   "outputs": [],
   "source": [
    "w <- matrix(rnorm(length(Phitrain[1,])*length(Ytrain[1,])),nrow = length(Phitrain[1,]))\n"
   ]
  },
  {
   "cell_type": "code",
   "execution_count": 92,
   "metadata": {},
   "outputs": [
    {
     "ename": "ERROR",
     "evalue": "Error: cannot allocate vector of size 2.8 Gb\n",
     "output_type": "error",
     "traceback": [
      "Error: cannot allocate vector of size 2.8 Gb\nTraceback:\n",
      "1. softmax(Phitrain %*% w)",
      "2. apply(exp(matrix), sum, MARGIN = 1)   # at line 2 of file <text>",
      "3. aperm(X, c(s.call, s.ans))",
      "4. aperm.default(X, c(s.call, s.ans))"
     ]
    }
   ],
   "source": [
    "softmax<-function(matrix){\n",
    "    return(exp(matrix)/apply(exp(matrix), sum, MARGIN = 1))\n",
    "}\n",
    "inds <- c()\n",
    "err <- c()\n",
    "for(i in 1:10){\n",
    "    w<- w - .000001*t(Phitrain)%*%(softmax(Phitrain%*%w) - Ytrain)\n",
    "    CEC <- -sum(Y*log(softmax(Phival%*%w)))\n",
    "    err<- c(err,CEC)\n",
    "    inds<- c(inds,i)\n",
    "\n",
    "}"
   ]
  },
  {
   "cell_type": "code",
   "execution_count": null,
   "metadata": {},
   "outputs": [],
   "source": [
    "softmax<-function(matrix){\n",
    "    return(exp(matrix)/apply(exp(matrix), sum, MARGIN = 1))\n",
    "}\n",
    "head(softmax(Phitrain%*%w) - Ytrain)"
   ]
  }
 ],
 "metadata": {
  "kernelspec": {
   "display_name": "R",
   "language": "R",
   "name": "ir"
  },
  "language_info": {
   "codemirror_mode": "r",
   "file_extension": ".r",
   "mimetype": "text/x-r-source",
   "name": "R",
   "pygments_lexer": "r",
   "version": "3.4.2"
  }
 },
 "nbformat": 4,
 "nbformat_minor": 2
}
