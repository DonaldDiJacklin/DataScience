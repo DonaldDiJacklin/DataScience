{
 "cells": [
  {
   "cell_type": "code",
   "execution_count": 1,
   "metadata": {},
   "outputs": [],
   "source": [
    "data <- read.csv(\"Forces3.csv\")"
   ]
  },
  {
   "cell_type": "code",
   "execution_count": 2,
   "metadata": {},
   "outputs": [],
   "source": [
    "ohe <- function(matrix,column){\n",
    "    column <- matrix[,column]\n",
    "    uniques <- unique(column)\n",
    "    newmat <- matrix(0L, nrow = length(column), ncol = length(uniques))\n",
    "    \n",
    "    for(i in 1:length(column)){\n",
    "        for(j in 1:length(uniques)){\n",
    "            if(column[i] == uniques[j]){\n",
    "                newmat[i,j] <- 1\n",
    "            }\n",
    "        }\n",
    "    }\n",
    "    return(newmat)\n",
    "}\n",
    "\n",
    " \n",
    "newdata1 <- ohe(data,4)\n",
    "newdata2 <- ohe(data, 96)\n",
    "newdata <- data[,-c(4,96)]\n",
    "newdata <-cbind(newdata[,1:(length(newdata)-3)],newdata1,newdata2,newdata[,(length(newdata)-2):length(newdata)])\n"
   ]
  },
  {
   "cell_type": "code",
   "execution_count": 3,
   "metadata": {},
   "outputs": [],
   "source": [
    "for(i in 1:length(newdata)){\n",
    "    newdata[,i]<-(newdata[,i] - min(newdata[,i]))/(max(newdata[,i])-min(newdata[,i]))\n",
    "}"
   ]
  },
  {
   "cell_type": "code",
   "execution_count": 4,
   "metadata": {},
   "outputs": [],
   "source": [
    "X <- newdata[,1:(ncol(newdata)-3)]\n",
    "Phi <- as.matrix(cbind(rep(1,length(X[,1])),X,X^2))"
   ]
  },
  {
   "cell_type": "code",
   "execution_count": 6,
   "metadata": {},
   "outputs": [],
   "source": [
    "write.csv(Phi,'phi')"
   ]
  }
 ],
 "metadata": {
  "kernelspec": {
   "display_name": "R",
   "language": "R",
   "name": "ir"
  },
  "language_info": {
   "codemirror_mode": "r",
   "file_extension": ".r",
   "mimetype": "text/x-r-source",
   "name": "R",
   "pygments_lexer": "r",
   "version": "3.4.2"
  }
 },
 "nbformat": 4,
 "nbformat_minor": 2
}
