{
 "cells": [
  {
   "cell_type": "code",
   "execution_count": 1,
   "metadata": {},
   "outputs": [],
   "source": [
    "import numpy as np\n",
    "from MyML import *\n",
    "import pandas as pd\n",
    "import scipy.signal as sig\n",
    "import string"
   ]
  },
  {
   "cell_type": "code",
   "execution_count": 2,
   "metadata": {},
   "outputs": [],
   "source": [
    "yelp = pd.read_csv('yelp_labelled.txt', header = None, sep = \"\\t\", engine = 'python').values"
   ]
  },
  {
   "cell_type": "code",
   "execution_count": 3,
   "metadata": {},
   "outputs": [],
   "source": [
    "imdb = pd.read_csv('imdb_labelled.txt',header  = None, sep = \"  \", engine = 'python').values"
   ]
  },
  {
   "cell_type": "code",
   "execution_count": 4,
   "metadata": {},
   "outputs": [],
   "source": [
    "amazon = pd.read_csv('amazon_cells_labelled.txt',header  = None, sep = \"\\t\", engine = 'python').values"
   ]
  },
  {
   "cell_type": "code",
   "execution_count": 5,
   "metadata": {},
   "outputs": [],
   "source": [
    "new = np.row_stack((yelp,amazon, imdb))"
   ]
  },
  {
   "cell_type": "code",
   "execution_count": 6,
   "metadata": {},
   "outputs": [],
   "source": [
    "h = new.copy()\n",
    "m = new.copy()\n",
    "for j in range(len(h)):\n",
    "    insert_points = range (1, len (h[j,0]))\n",
    "    import random\n",
    "    selected = random.sample (insert_points, 4)\n",
    "    selected.sort ()\n",
    "    selected.append (len (h[j,0]))  #  include the last slice\n",
    "    temp = 0  #  start with first slice\n",
    "    result = []\n",
    "    for i in selected :\n",
    "      result.append (h[j,0] [temp:i])\n",
    "      temp = i\n",
    "    x=\" \".join (result)\n",
    "    h[j,0]=x\n",
    "for j in range(len(m)):\n",
    "    for i in range(2):\n",
    "        insert_points = range (1, len (m[j,0]))\n",
    "        import random\n",
    "        selected = random.sample (insert_points, 1)\n",
    "        selected.sort ()\n",
    "        selected.append (len (m[j,0]))  #  include the last slice\n",
    "        temp = 0  #  start with first slice\n",
    "        result = []\n",
    "        for i in selected :\n",
    "          result.append (m[j,0] [temp:i])\n",
    "          temp = i\n",
    "        x=random.choice(('e'*10+'t'*9+'a'*8+'o'*7+'i'*6+'n'*5+'s'*4+'r'*3)*4+string.ascii_lowercase*3+string.printable).join (result)\n",
    "        m[j,0]=x"
   ]
  },
  {
   "cell_type": "code",
   "execution_count": 7,
   "metadata": {},
   "outputs": [],
   "source": [
    "full = np.row_stack((new,h,m))"
   ]
  },
  {
   "cell_type": "code",
   "execution_count": 8,
   "metadata": {},
   "outputs": [],
   "source": [
    "def TVTsplit(matrix, train = .7):\n",
    "    #     This function's purpose is to split a given matrix\n",
    "    #     into three parts: train, test, and validate. The \n",
    "    #     train parameter is the percentage of the data that\n",
    "    #     goes into training 70% by default. The val parameter\n",
    "    #     determines how much goes into the validation set\n",
    "    #     15% by default. The rest of the data goes into\n",
    "    #     the test set.\n",
    "    \n",
    "#     The following is needed to perform the operations\n",
    "#     in the calculations in here.\n",
    "    import numpy as np\n",
    "    # The following does some common sense things like\n",
    "    # telling you that train and val need to add up to less\n",
    "    # than 1.\n",
    "\n",
    "    if(train > .99):\n",
    "        print(\"Splitting failed. Please make sure that train is less than .99 so that test and val have enough data.\")\n",
    "        return 0\n",
    "    \n",
    "#     These two things calculate the subset lengths that \n",
    "#     are needed for the subsetting.\n",
    "    splitnum = int(len(matrix[:,0])*train)\n",
    "    splitnum2 = int((len(matrix[:,0]) - splitnum)/2)\n",
    "#     np.random.shuffle(matrix)\n",
    "\n",
    "#     The next three separate the data into the three sets\n",
    "#     using the splitnums from above.\n",
    "    Train = matrix[0:splitnum,]\n",
    "    Test = matrix[splitnum:(splitnum+splitnum2),]\n",
    "    Val = matrix[(splitnum+splitnum2):,]\n",
    "    return Train, Val, Test"
   ]
  },
  {
   "cell_type": "code",
   "execution_count": 9,
   "metadata": {},
   "outputs": [],
   "source": [
    "train, val, test = TVTsplit(full)"
   ]
  },
  {
   "cell_type": "code",
   "execution_count": null,
   "metadata": {},
   "outputs": [],
   "source": []
  },
  {
   "cell_type": "code",
   "execution_count": 10,
   "metadata": {},
   "outputs": [],
   "source": [
    "newtrain = []\n",
    "for i in range(0,len(train)):\n",
    "    afied = [ord(k) for k in train[i][0]]\n",
    "    temp = np.zeros((len(train[i][0]),256))\n",
    "    for j in range(0,len(train[i][0])):\n",
    "        temp[j,afied[j]] = 1\n",
    "    if len(temp)%8 != 0:\n",
    "        temp = np.row_stack((temp,np.zeros((8-len(temp)%8,256))))\n",
    "    newtrain.append(temp)  \n",
    "newval = []\n",
    "for i in range(0,len(val)):\n",
    "    afied = [ord(k) for k in val[i][0]]\n",
    "    temp = np.zeros((len(val[i][0]),256))\n",
    "    for j in range(0,len(val[i][0])):\n",
    "        temp[j,afied[j]] = 1\n",
    "    if len(temp)%8 != 0:\n",
    "        temp = np.row_stack((temp,np.zeros((8-len(temp)%8,256))))\n",
    "    newval.append(temp) \n",
    "newtest = []\n",
    "for i in range(0,len(test)):\n",
    "    afied = [ord(k) for k in test[i][0]]\n",
    "    temp = np.zeros((len(test[i][0]),256))\n",
    "    for j in range(0,len(test[i][0])):\n",
    "        temp[j,afied[j]] = 1\n",
    "    if len(temp)%8 != 0:\n",
    "        temp = np.row_stack((temp,np.zeros((8-len(temp)%8,256))))\n",
    "    newtest.append(temp)  "
   ]
  },
  {
   "cell_type": "code",
   "execution_count": null,
   "metadata": {},
   "outputs": [],
   "source": []
  },
  {
   "cell_type": "code",
   "execution_count": 11,
   "metadata": {},
   "outputs": [],
   "source": [
    "Ytrain = np.array(train[:,-1], dtype = int).reshape(-1,1)\n",
    "Yval = np.array(val[:,-1], dtype = int).reshape(-1,1)\n",
    "Ytest = np.array(test[:,-1], dtype = int).reshape(-1,1)"
   ]
  },
  {
   "cell_type": "code",
   "execution_count": 18,
   "metadata": {},
   "outputs": [],
   "source": [
    "model = NeuralNetwork(indims = 256, nodes = [32,1,7*4,10,1], activations = ['conv','spp','flatten','relu'], taskType = 'c')"
   ]
  },
  {
   "cell_type": "code",
   "execution_count": 19,
   "metadata": {},
   "outputs": [
    {
     "data": {
      "image/png": "[encoded data removed]",
      "text/plain": [
       "<Figure size 432x288 with 1 Axes>"
      ]
     },
     "metadata": {
      "needs_background": "light"
     },
     "output_type": "display_data"
    }
   ],
   "source": [
    "errs = []\n",
    "w = []\n",
    "for j in range(0,3):\n",
    "    for i in range(100):\n",
    "        model.train(newtrain[i],Ytrain[i], epochs = 1, lr = .003)\n",
    "        errs.append(model.errs[-1])\n",
    "#         w.append(model.layers[1].dx)"
   ]
  },
  {
   "cell_type": "code",
   "execution_count": 20,
   "metadata": {},
   "outputs": [
    {
     "data": {
      "text/plain": [
       "[<matplotlib.lines.Line2D at 0x7f3bd888e9e8>]"
      ]
     },
     "execution_count": 20,
     "metadata": {},
     "output_type": "execute_result"
    },
    {
     "data": {
      "image/png": "[encoded data removed]",
      "text/plain": [
       "<Figure size 432x288 with 1 Axes>"
      ]
     },
     "metadata": {
      "needs_background": "light"
     },
     "output_type": "display_data"
    }
   ],
   "source": [
    "plt.plot(errs)"
   ]
  },
  {
   "cell_type": "code",
   "execution_count": null,
   "metadata": {},
   "outputs": [],
   "source": [
    "preds = []\n",
    "for i in range(len(newval)):\n",
    "    model.predict(newval[i], p = 1)\n",
    "    preds.append(model.probabilities)"
   ]
  },
  {
   "cell_type": "code",
   "execution_count": null,
   "metadata": {},
   "outputs": [],
   "source": [
    "np.sum(np.round(preds))"
   ]
  },
  {
   "cell_type": "code",
   "execution_count": null,
   "metadata": {},
   "outputs": [],
   "source": [
    "print(np.sum(newtrain[0], axis = 0))\n",
    "train[0]"
   ]
  }
 ],
 "metadata": {
  "kernelspec": {
   "display_name": "Python 3",
   "language": "python",
   "name": "python3"
  },
  "language_info": {
   "codemirror_mode": {
    "name": "ipython",
    "version": 3
   },
   "file_extension": ".py",
   "mimetype": "text/x-python",
   "name": "python",
   "nbconvert_exporter": "python",
   "pygments_lexer": "ipython3",
   "version": "3.7.1"
  }
 },
 "nbformat": 4,
 "nbformat_minor": 2
}
